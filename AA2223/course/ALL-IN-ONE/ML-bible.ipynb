{
 "cells": [
  {
   "attachments": {},
   "cell_type": "markdown",
   "metadata": {},
   "source": [
    " # DATA CORRELATION\n",
    "\n",
    " <img width=\"75%\" src=\"https://upload.wikimedia.org/wikipedia/commons/thumb/d/d4/Correlation_examples2.svg/1920px-Correlation_examples2.svg.png\" />"
   ]
  },
  {
   "attachments": {},
   "cell_type": "markdown",
   "metadata": {},
   "source": [
    "<img src=\"https://wtmaths.com/P384_z1.png\" />"
   ]
  },
  {
   "attachments": {},
   "cell_type": "markdown",
   "metadata": {},
   "source": [
    "# MEASURING CORRELATION\n",
    "\n",
    "<img width='70%' src=\"https://upload.wikimedia.org/wikipedia/commons/3/34/Correlation_coefficient.png\" />"
   ]
  },
  {
   "attachments": {},
   "cell_type": "markdown",
   "metadata": {},
   "source": [
    "| X \t| Y |\n",
    "| ----------- | ----------- |\n",
    "| 0.1 |\t45\n",
    "| 0.1 |\t65\n",
    "| 0.2 |\t28\n",
    "| 0.3 |\t76\n",
    "| 0.5 |\t55\n",
    "| 0.6 |\t48\n",
    "| 0.9 |\t64\n",
    "| 1.1 |\t41\n",
    "| 1.5 |\t30\n",
    "| 1.8 |\t52\n",
    "| 1.8 |\t75\n",
    "| 1.9 |\t35\n",
    "| 2.1 |\t42\n",
    "| 2.2 |\t65\n",
    "| 3.0 |\t30\n",
    "| 3.6 |\t71"
   ]
  },
  {
   "attachments": {},
   "cell_type": "markdown",
   "metadata": {},
   "source": [
    "# PEARSON CORRELATION COEFFICIENT\n",
    "\n",
    "https://www.youtube.com/watch?v=xZ_z8KWkhXE&list=LL&index=6&t=1034s\n",
    "\n",
    "\n",
    "$$\n",
    "r = \\frac{\\Sigma((x_i - \\bar{x})(y_i - \\bar{y}))}{\\sqrt{(\\Sigma((x_i - \\bar{x})^2 \\Sigma(y_i - \\bar{y})^2))}}\n",
    "$$\n",
    "\n",
    "- It takes maximum intensity when numerator is equal to denumerator. Otherwise Covariance is Always less than the product of the std. deviation\n",
    "- The **sign of the covariance** tells you if the data is **correlated** or **anticorrelated**\n",
    "\n",
    "$ \\rho_{X,Y}= \\frac{\\operatorname{cov}(X,Y)}{\\sigma_X \\sigma_Y}$\n",
    "\n",
    "where:\n",
    "* $ \\operatorname{cov} $ is the covariance of the two series that plot the coordinates of each point of a cloud of points\n",
    "* $ \\sigma_X $ is the standard deviation of $X $\n",
    "* $ \\sigma_Y $ is the standard deviation of  $ Y $\n",
    "\n",
    "- The correlation coefficient ranges from −1 to 1. \n",
    "- An absolute value of exactly $\\pm 1$ implies that a **linear equation describes the relationship between X and Y perfectly, with all data points lying on a line**. \n",
    "- The correlation **sign is determined by the regression slope**: a value of +1 implies that all data points lie on a line for which Y increases as X increases, and vice versa for −1.\n",
    "- `0` means that there is no linear dependency between variables"
   ]
  },
  {
   "attachments": {},
   "cell_type": "markdown",
   "metadata": {},
   "source": [
    "# PRINCIPAL COMPONENTS ANALYSIS (PCA)\n",
    "\n",
    "I concetti di \"componenti principali\" e \"autovettori\" sono strettamente correlati in statistica e analisi dei dati.\n",
    "\n",
    "In analisi delle componenti principali (PCA), si cerca di ridurre la dimensionalità dei dati mantenendo la maggior parte possibile della loro varianza. Ciò viene fatto trasformando gli attributi originali in un nuovo insieme di variabili non correlate chiamate componenti principali. Queste componenti sono ordinate in modo tale che la prima componente spieghi la maggior parte possibile della varianza dei dati, la seconda spieghi il resto della varianza e così via.\n",
    "\n",
    "Le componenti principali sono calcolate come combinazione lineare degli attributi originali. Gli autovettori sono utilizzati per calcolare queste combinazioni lineari. Gli autovettori sono i vettori che soddisfano la seguente equazione: Ax = λx, dove A è una matrice quadrata, x è un vettore e λ è un numero. In altre parole, gli autovettori sono i vettori che quando moltiplicati per A danno come risultato un multiplo di se stessi.\n",
    "\n",
    "In PCA, la matrice di covarianza dei dati viene utilizzata come matrice A nella formula degli autovettori. Gli autovettori della matrice di covarianza rappresentano le direzioni principali di variazione dei dati e possono quindi essere utilizzati come base per calcolare le componenti principali. La prima componente principale corrisponde all'autovettore associato all'autovalore più grande, la seconda componente principale corrisponde all'autovettore associato al secondo autovalore più grande e così via.\n",
    "\n",
    "In sintesi, gli autovettori sono utilizzati in PCA per calcolare le combinazioni lineari delle variabili originali che massimizzano la varianza dei dati, dando origine alle componenti principali."
   ]
  }
 ],
 "metadata": {
  "kernelspec": {
   "display_name": "base",
   "language": "python",
   "name": "python3"
  },
  "language_info": {
   "name": "python",
   "version": "3.9.13"
  },
  "orig_nbformat": 4
 },
 "nbformat": 4,
 "nbformat_minor": 2
}
