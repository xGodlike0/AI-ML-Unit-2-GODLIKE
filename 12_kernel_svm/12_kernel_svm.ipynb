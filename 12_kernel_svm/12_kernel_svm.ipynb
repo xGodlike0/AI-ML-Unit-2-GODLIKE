{
 "cells": [
  {
   "cell_type": "markdown",
   "metadata": {
    "slideshow": {
     "slide_type": "slide"
    }
   },
   "source": [
    "# Artificial Intelligence and Machine Learning\n",
    "\n",
    "## Unit II\n",
    "\n",
    "\n",
    "**Iacopo Masi**\n",
    "\n",
    "\n",
    "May 5, 2022"
   ]
  },
  {
   "cell_type": "markdown",
   "metadata": {
    "slideshow": {
     "slide_type": "subslide"
    }
   },
   "source": [
    "# Tracking of Attendance to cope with COVID-19\n",
    "\n",
    "Token prodigit for this lecture:\n",
    "## `741174`\n",
    "\n",
    "Please use this code to make your presence on prodigit\n",
    "\n",
    "https://prodigit.uniroma1.it/\n",
    "\n",
    "\n",
    "The code for the building is:\n",
    "## \t`AULA 3 -- CU028-E01P01L001`"
   ]
  },
  {
   "cell_type": "markdown",
   "metadata": {
    "hide_input": false,
    "slideshow": {
     "slide_type": "skip"
    }
   },
   "source": [
    "## My own latex definitions\n",
    "\n",
    "$$\\def\\mbf#1{\\mathbf{#1}}$$\n",
    "$$\\def\\bmf#1{\\boldsymbol{#1}}$$\n",
    "$$\\def\\bx{\\mbf{x}}$$\n",
    "$$\\def\\bv{\\mbf{v}}$$\n",
    "$$\\def\\bz{\\mbf{z}}$$\n",
    "$$\\def\\bmu{\\bmf{\\mu}}$$\n",
    "$$\\def\\bsigma{\\bmf{\\Sigma}}$$\n",
    "$$\\def\\Rd#1{\\in \\mathbb{R}^{#1}}$$"
   ]
  },
  {
   "cell_type": "code",
   "execution_count": 1,
   "metadata": {
    "hide_input": false,
    "slideshow": {
     "slide_type": "skip"
    }
   },
   "outputs": [],
   "source": [
    "import matplotlib\n",
    "import matplotlib.pyplot as plt\n",
    "import numpy as np\n",
    "%matplotlib inline\n",
    "plt.style.use('seaborn-whitegrid')\n",
    "\n",
    "font = {'family' : 'Times',\n",
    "        'weight' : 'bold',\n",
    "        'size'   : 12}\n",
    "\n",
    "matplotlib.rc('font', **font)\n",
    "\n",
    "\n",
    "# Aux functions\n",
    "\n",
    "def plot_grid(Xs, Ys, axs=None):\n",
    "    ''' Aux function to plot a grid'''\n",
    "    t = np.arange(Xs.size) # define progression of int for indexing colormap\n",
    "    if axs:\n",
    "        axs.plot(0, 0, marker='*', color='r', linestyle='none') #plot origin\n",
    "        axs.scatter(Xs,Ys, c=t, cmap='jet', marker='.') # scatter x vs y\n",
    "        axs.axis('scaled') # axis scaled\n",
    "    else:\n",
    "        plt.plot(0, 0, marker='*', color='r', linestyle='none') #plot origin\n",
    "        plt.scatter(Xs,Ys, c=t, cmap='jet', marker='.') # scatter x vs y\n",
    "        plt.axis('scaled') # axis scaled\n",
    "        \n",
    "def linear_map(A, Xs, Ys):\n",
    "    '''Map src points with A'''\n",
    "    # [NxN,NxN] -> NxNx2 # add 3-rd axis, like adding another layer\n",
    "    src = np.stack((Xs,Ys), axis=Xs.ndim)\n",
    "    # flatten first two dimension\n",
    "    # (NN)x2\n",
    "    src_r = src.reshape(-1,src.shape[-1]) #ask reshape to keep last dimension and adjust the rest\n",
    "    # 2x2 @ 2x(NN)\n",
    "    dst = A @ src_r.T # 2xNN\n",
    "    #(NN)x2 and then reshape as NxNx2\n",
    "    dst = (dst.T).reshape(src.shape)\n",
    "    # Access X and Y\n",
    "    return dst[...,0], dst[...,1]\n",
    "\n",
    "\n",
    "def plot_points(ax, Xs, Ys, col='red', unit=None, linestyle='solid'):\n",
    "    '''Plots points'''\n",
    "    ax.set_aspect('equal')\n",
    "    ax.grid(True, which='both')\n",
    "    ax.axhline(y=0, color='gray', linestyle=\"--\")\n",
    "    ax.axvline(x=0, color='gray',  linestyle=\"--\")\n",
    "    ax.plot(Xs, Ys, color=col)\n",
    "    if unit is None:\n",
    "        plotVectors(ax, [[0,1],[1,0]], ['gray']*2, alpha=1, linestyle=linestyle)\n",
    "    else:\n",
    "        plotVectors(ax, unit, [col]*2, alpha=1, linestyle=linestyle)\n",
    "\n",
    "def plotVectors(ax, vecs, cols, alpha=1, linestyle='solid'):\n",
    "    '''Plot set of vectors.'''\n",
    "    for i in range(len(vecs)):\n",
    "        x = np.concatenate([[0,0], vecs[i]])\n",
    "        ax.quiver([x[0]],\n",
    "                   [x[1]],\n",
    "                   [x[2]],\n",
    "                   [x[3]],\n",
    "                   angles='xy', scale_units='xy', scale=1, color=cols[i],\n",
    "                   alpha=alpha, linestyle=linestyle, linewidth=2)"
   ]
  },
  {
   "cell_type": "code",
   "execution_count": 2,
   "metadata": {
    "hide_input": true,
    "scrolled": true,
    "slideshow": {
     "slide_type": "skip"
    }
   },
   "outputs": [],
   "source": [
    "import matplotlib\n",
    "import matplotlib.pyplot as plt\n",
    "import numpy as np\n",
    "%matplotlib inline\n",
    "plt.style.use('seaborn-whitegrid')\n",
    "\n",
    "font = {'family' : 'Times',\n",
    "        'weight' : 'bold',\n",
    "        'size'   : 12}\n",
    "\n",
    "matplotlib.rc('font', **font)\n",
    "\n",
    "\n",
    "# Aux functions\n",
    "\n",
    "def plot_grid(Xs, Ys, axs=None):\n",
    "    ''' Aux function to plot a grid'''\n",
    "    t = np.arange(Xs.size) # define progression of int for indexing colormap\n",
    "    if axs:\n",
    "        axs.plot(0, 0, marker='*', color='r', linestyle='none') #plot origin\n",
    "        axs.scatter(Xs,Ys, c=t, cmap='jet', marker='.') # scatter x vs y\n",
    "        axs.axis('scaled') # axis scaled\n",
    "    else:\n",
    "        plt.plot(0, 0, marker='*', color='r', linestyle='none') #plot origin\n",
    "        plt.scatter(Xs,Ys, c=t, cmap='jet', marker='.') # scatter x vs y\n",
    "        plt.axis('scaled') # axis scaled\n",
    "        \n",
    "def linear_map(A, Xs, Ys):\n",
    "    '''Map src points with A'''\n",
    "    # [NxN,NxN] -> NxNx2 # add 3-rd axis, like adding another layer\n",
    "    src = np.stack((Xs,Ys), axis=Xs.ndim)\n",
    "    # flatten first two dimension\n",
    "    # (NN)x2\n",
    "    src_r = src.reshape(-1,src.shape[-1]) #ask reshape to keep last dimension and adjust the rest\n",
    "    # 2x2 @ 2x(NN)\n",
    "    dst = A @ src_r.T # 2xNN\n",
    "    #(NN)x2 and then reshape as NxNx2\n",
    "    dst = (dst.T).reshape(src.shape)\n",
    "    # Access X and Y\n",
    "    return dst[...,0], dst[...,1]\n",
    "\n",
    "\n",
    "def plot_points(ax, Xs, Ys, col='red', unit=None, linestyle='solid'):\n",
    "    '''Plots points'''\n",
    "    ax.set_aspect('equal')\n",
    "    ax.grid(True, which='both')\n",
    "    ax.axhline(y=0, color='gray', linestyle=\"--\")\n",
    "    ax.axvline(x=0, color='gray',  linestyle=\"--\")\n",
    "    ax.plot(Xs, Ys, color=col)\n",
    "    if unit is None:\n",
    "        plotVectors(ax, [[0,1],[1,0]], ['gray']*2, alpha=1, linestyle=linestyle)\n",
    "    else:\n",
    "        plotVectors(ax, unit, [col]*2, alpha=1, linestyle=linestyle)\n",
    "\n",
    "def plotVectors(ax, vecs, cols, alpha=1, linestyle='solid'):\n",
    "    '''Plot set of vectors.'''\n",
    "    for i in range(len(vecs)):\n",
    "        x = np.concatenate([[0,0], vecs[i]])\n",
    "        ax.quiver([x[0]],\n",
    "                   [x[1]],\n",
    "                   [x[2]],\n",
    "                   [x[3]],\n",
    "                   angles='xy', scale_units='xy', scale=1, color=cols[i],\n",
    "                   alpha=alpha, linestyle=linestyle, linewidth=2)"
   ]
  },
  {
   "cell_type": "markdown",
   "metadata": {
    "slideshow": {
     "slide_type": "slide"
    }
   },
   "source": [
    "# Recap previous lecture\n",
    "- Multiple Solutions to Linear Regression\n",
    "- Iterative Optimization Methods based on **Gradient Descent**\n",
    "- From Linear Regressor to Non-Linear Regression simply lifting the features with **feature maps (basis functions)**"
   ]
  },
  {
   "cell_type": "markdown",
   "metadata": {
    "slideshow": {
     "slide_type": "slide"
    }
   },
   "source": [
    "# Today's lecture\n",
    "## Supervised, <ins>Parametric</ins> Models\n",
    "\n",
    "\n",
    "### 1) From basis functions to Kernel Methods\n",
    "### 2) Support Vector Machines - SVM (very popular in the 2000-2010)"
   ]
  },
  {
   "cell_type": "markdown",
   "metadata": {
    "slideshow": {
     "slide_type": "subslide"
    }
   },
   "source": [
    "## ℹ️ Where we are now\n",
    "\n",
    "\n",
    "| Topic                | Hours       | \n",
    "| :-------------:      |:-------------:\n",
    "| Intro, Math Recap    | 5\n",
    "|          **Unsupervised Learning**      |\n",
    "| Dimensionality Reduction (PCA, Eigenvectors, SVD) | 5 |\n",
    "|   Clustering  (kmeans, GMM)       | 5           |\n",
    "|          **Supervised Learning, Non-parametric**      |\n",
    "| Nearest Neighbours | 5 |\n",
    "| Decision trees | 5 |\n",
    "|          **Supervised Learning, Parametric**      |\n",
    "| Linear Regression with Least Squares | 5 |\n",
    "| Polynomial regression, under/overfitting | 5 |\n",
    "| Perceptron, Logistic Regression (LR) | 5 |\n",
    "| Kernel Methods and SVM | 5 |\n",
    "| **Deep Learning** |\n",
    "| from LR to Neural Nets | 15 |\n",
    "| **Total** | 60 |"
   ]
  },
  {
   "cell_type": "markdown",
   "metadata": {
    "slideshow": {
     "slide_type": "slide"
    }
   },
   "source": [
    "# This lecture material is taken from\n",
    "\n",
    "- [Mostly from Stanford class](https://www.youtube.com/watch?v=lNHaZlZJATw)\n",
    "- [Stanford notes Kernels and SVM](http://cs229.stanford.edu/summer2019/cs229-notes3.pdf)\n",
    "- [Tibishrinar - Chapter 4 page 43](#)\n",
    "- [Sklearn](https://scikit-learn.org/stable/auto_examples/decomposition/plot_kernel_pca.html#sphx-glr-auto-examples-decomposition-plot-kernel-pca-py)"
   ]
  },
  {
   "cell_type": "markdown",
   "metadata": {
    "slideshow": {
     "slide_type": "subslide"
    }
   },
   "source": [
    "# Linear Hypothesis\n",
    "\n",
    "We assume relations $f \\longleftrightarrow y$ is **linear**\n",
    "We know $D = \\{\\mbf{x}_i,y_i\\}_{i=1}^n$ and we want to find ${\\boldsymbol{\\theta}}\\doteq (\\theta_0,\\ldots,\\theta_d)$\n",
    "\n",
    "$$ f_{\\boldsymbol{\\theta}}(\\mbf{x}) = \\theta_0+ \\theta_1\\cdot x_1 + \\theta_2\\cdot x_2 + \\ldots + \\theta_d\\cdot x_d$$\n",
    "\n",
    "So ${\\boldsymbol{\\theta}}\\doteq (\\theta_0,\\ldots,\\theta_d) \\in \\mathbb{R}^{d+1}$.\n",
    "\n",
    "$$ f_{\\boldsymbol{\\theta}}(\\mbf{x}) = \\big(\\sum_{i=1}^d\\theta_1\\cdot x_1\\big) + \\theta_0$$"
   ]
  },
  {
   "cell_type": "markdown",
   "metadata": {
    "slideshow": {
     "slide_type": "skip"
    }
   },
   "source": [
    "# Parametric Nature\n",
    "\n",
    "No matter how much training points $N$ you have, the parameters are fixed in $\\bmf{\\theta}$.\n",
    "\n",
    "Note that $\\bmf{\\theta} \\in \\mathbb{R}^{d=1}$.\n",
    "\n",
    "$$ f_{\\boldsymbol{\\theta}}(\\mbf{x}) = \\sum_{i=0}^d\\theta_1\\cdot x_1 = \\bmf{\\theta}^T\\mbf{x} $$"
   ]
  },
  {
   "cell_type": "markdown",
   "metadata": {
    "slideshow": {
     "slide_type": "subslide"
    },
    "variables": {
     "eps = np.arange(-100,100);plt.plot(eps, eps**2);plt.xlabel('Difference');_=plt.ylabel('Cost');": "<img src=\"data:image/png;base64,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\n\"/>"
    }
   },
   "source": [
    "# Loss or Cost Function for Linear Regression\n",
    "\n",
    "You see now that the loss is more explicit compare to non-parametric models  (K-NN, Decision Trees).\n",
    "\n",
    "$$ \\mathcal{J}(\\mbf{\\theta};\\mbf{x},y)= \\frac{1}{2} \\sum_{i=1}^{n}\\mathcal{L}\\big(y_{i}, f_{\\boldsymbol{\\theta}}(\\mbf{x}_i)\\big)$$ where\n",
    "\n",
    "$$\\mathcal{L}\\big(y, f_{\\boldsymbol{\\theta}}(\\mbf{x})\\big) = \\big(f_{\\boldsymbol{\\theta}}(\\mbf{x}) - y \\big)^2 $$\n",
    "\n",
    "The loss is **the squared error.**\n",
    "\n",
    "{{eps = np.arange(-100,100);plt.plot(eps, eps**2);plt.xlabel('Difference');_=plt.ylabel('Cost');}}"
   ]
  },
  {
   "cell_type": "markdown",
   "metadata": {
    "slideshow": {
     "slide_type": "subslide"
    }
   },
   "source": [
    "# Final Least Squares solution\n",
    "\n",
    "Assumes $\\mbf{X}^T\\mbf{X}$ is **invertible**:\n",
    "\n",
    "$$\\bmf{\\theta} = \\underbrace{(\\mbf{X}^T\\mbf{X})^{-1}\\mbf{X}^T}_{\\text{pseudo inverse}}\\mbf{y} = \\mbf{X}^{+}\\mbf{y}$$ where:\n",
    "\n",
    "$$ \\mbf{X}^{+} \\doteq (\\mbf{X}^T\\mbf{X})^{-1}\\mbf{X}^T$$\n"
   ]
  },
  {
   "cell_type": "markdown",
   "metadata": {
    "slideshow": {
     "slide_type": "subslide"
    }
   },
   "source": [
    "# Going Non-linear with Basis Function"
   ]
  },
  {
   "cell_type": "markdown",
   "metadata": {
    "slideshow": {
     "slide_type": "subslide"
    }
   },
   "source": [
    "# Basis Function as (Non-Linear) Transform\n",
    "\n",
    "Let's consider the one dimensional case. We have already seen that we could change the feature $x$ to add the bias term $\\mbf{x}\\doteq [x,1]$\n",
    "\n",
    "\\begin{align}\n",
    "\\mbf{x} &= \\begin{bmatrix}\n",
    "       x \\\\\n",
    "       1\n",
    "     \\end{bmatrix}\n",
    "     \\rightarrow \\quad\n",
    "   \\bmf{\\phi}(\\mbf{x}) &= \\begin{bmatrix}\n",
    "       x^2\\\\\n",
    "       x \\\\\n",
    "       1\n",
    "     \\end{bmatrix}\n",
    "\\end{align} \n",
    "\n",
    "So input dimension is $d=1$ then output dimension after $\\bmf{\\phi}(\\cdot)$ is $m=2$.\n",
    "\n",
    "In this case we used a second order polynomial to lift up the features\n",
    "$$\\bmf{\\phi}_m(\\mbf{x}) = x^m$$"
   ]
  },
  {
   "cell_type": "markdown",
   "metadata": {
    "slideshow": {
     "slide_type": "subslide"
    }
   },
   "source": [
    "# Basis Function as Non-Linear Transform\n",
    "\n",
    "$$ f_{\\boldsymbol{\\theta}}(\\mbf{x}) = \\sum_{i=0}^m\\theta_1\\cdot x_1 = \\bmf{\\theta}^T\\bmf{\\phi}(\\mbf{x}) = \\theta_0  + \\theta_1\\cdot x +\\theta_2\\cdot x^2  $$\n",
    "\n",
    "**Important observation**:\n",
    "- This is still **linear function** of the parameters $\\theta$, infact we still **take the dot product**\n",
    "- Though it is **NON linear function** of the features $x$"
   ]
  },
  {
   "cell_type": "markdown",
   "metadata": {
    "slideshow": {
     "slide_type": "subslide"
    }
   },
   "source": [
    "# Two Observations\n",
    "\n",
    "- This is still <ins>**linear function**</ins> of the parameters $\\theta$\n",
    "    - **Good** we can solve it with Linear Regression\n",
    "- Though it is <ins>**NON linear function**</ins> of the features $x$\n",
    "    - **Even better**, we capture non-linearity in the data"
   ]
  },
  {
   "cell_type": "markdown",
   "metadata": {
    "slideshow": {
     "slide_type": "subslide"
    }
   },
   "source": [
    "# Polynomial Regression (Basis Function $\\bmf{\\phi}_m(\\mbf{x}) = x^m$)\n",
    "\n",
    "$$ f_{\\boldsymbol{\\theta}}(\\mbf{x}) = \\sum_{i=0}^m\\theta_1\\cdot x_1 = \\bmf{\\theta}^T\\bmf{\\phi}(\\mbf{x}) = \\theta_0  + \\theta_1\\cdot x +\\theta_2\\cdot x^2  $$\n",
    "\n",
    "**Important observation**:\n",
    "- This is still **linear function** of the parameters $\\theta$, infact we still **take the dot product**\n",
    "- Though it is **NON linear function** of the features $x$\n",
    "- $m$ is the degree of the **Polynomial** we consider\n",
    "- The higher the degree, the more expressive is the model"
   ]
  },
  {
   "cell_type": "markdown",
   "metadata": {
    "slideshow": {
     "slide_type": "subslide"
    }
   },
   "source": [
    "# Limitations of Basis Functions\n",
    "\n",
    "**Advantage:** It is simple, and your problem stays convex and well behaved. (i.e. you can still use your original gradient descent code, just with the higher dimensional representation)\n",
    "\n",
    "**Disadvantage:** ϕ(x) might be **Very** high dimensional.\n",
    "\n",
    "\n",
    "```python\n",
    "X = PolynomialFeatures(interaction_only=True).fit_transform(X)\n",
    "```"
   ]
  },
  {
   "cell_type": "markdown",
   "metadata": {
    "slideshow": {
     "slide_type": "subslide"
    }
   },
   "source": [
    "# Terminology (from Stanford notes)\n",
    "\n",
    "Let's consider the one dimensional case. We have already seen that we could change the feature $x$ to add the bias term $\\mbf{x}\\doteq [x,1]$\n",
    "\n",
    "\\begin{align}\n",
    "\\mbf{x} &= \\begin{bmatrix}\n",
    "       x \\\\\n",
    "       1\n",
    "     \\end{bmatrix}\n",
    "     \\rightarrow \\quad\n",
    "   \\bmf{\\phi}(\\mbf{x}) &= \\begin{bmatrix}\n",
    "       x^2\\\\\n",
    "       x \\\\\n",
    "       1\n",
    "     \\end{bmatrix}\n",
    "\\end{align} \n",
    "\n",
    "- $\\mbf{x}$ is the \"attribute\"\n",
    "- $\\bmf{\\phi}(\\mbf{x})$ is the \"feature\"\n",
    "- $\\bmf{\\phi(\\cdot})$ is the \"feature map\"."
   ]
  },
  {
   "cell_type": "markdown",
   "metadata": {
    "slideshow": {
     "slide_type": "subslide"
    }
   },
   "source": [
    "# GD on Attributes $\\mbf{x}$\n",
    "\n",
    "\n",
    "\n",
    "$$\n",
    "\\begin{aligned}\n",
    "\\theta &:=\\theta+\\alpha \\sum_{i=1}^{n}\\left(y^{(i)}-h_{\\theta}\\left(x^{(i)}\\right)\\right) x^{(i)} \\\\\n",
    "&:=\\theta+\\alpha \\sum_{i=1}^{n}\\left(y^{(i)}-\\theta^{T} x^{(i)}\\right) x^{(i)}\n",
    "\\end{aligned}\n",
    "$$\n"
   ]
  },
  {
   "cell_type": "markdown",
   "metadata": {
    "slideshow": {
     "slide_type": "subslide"
    }
   },
   "source": [
    "# GD on feature $\\bmf{\\phi}(\\mbf{x})$\n",
    "\n",
    "\n",
    "We assume a feature map $\\bmf{\\phi} : \\mathbb{R}^d \\mapsto \\mathbb{R}^p$\n",
    "\n",
    "$$\n",
    "\\begin{aligned}\n",
    "\\theta&\\doteq\\theta+\\alpha \\sum_{i=1}^{n}\\left(y^{(i)}-\\theta^{T} \\bmf{\\phi}(x)^{(i)}\\right) \\bmf{\\phi}(x)^{(i)}\n",
    "\\end{aligned}\n",
    "$$\n"
   ]
  },
  {
   "cell_type": "markdown",
   "metadata": {
    "slideshow": {
     "slide_type": "subslide"
    }
   },
   "source": [
    "# Higher Feature Maps are prohibitive\n",
    "\n",
    "Assume $\\mbf{x} \\in \\mathbb{R}^d$ and we want to map it to $\\bmf{\\phi}(\\mbf{x}) \\in \\mathbb{R}^p$.\n",
    "$\\bmf{\\phi}(\\mbf{x})$ be the vector that contains all the monomials of $x$ with degree $\\leq$ 3\n",
    "\n",
    "\n",
    "$$\n",
    "\\phi(x)=\\left[\\begin{array}{c}\n",
    "1 \\\\\n",
    "x_{1} \\\\\n",
    "x_{2} \\\\\n",
    "x_{d} \\\\\n",
    "\\vdots \\\\\n",
    "x_{1}x_1(x_1^{2}) \\\\\n",
    "x_{1} x_{2} \\\\\n",
    "x_{1} x_{3} \\\\\n",
    "\\vdots \\\\\n",
    "x_{2} x_{1} \\\\\n",
    "\\vdots \\\\\n",
    "x_{1}^{3} \\\\\n",
    "x_{1}^{2} x_{2} \\\\\n",
    "\\vdots\n",
    "\\end{array}\\right]\n",
    "$$\n",
    "\n",
    "$\\bmf{\\phi}(\\mbf{x})$ is of $\\mathcal{O}(d^3)$; if d is high dimensional, $d^3$ may become prohibitive. Note that $\\bmf{\\theta}$ will be too of $d^3$."
   ]
  },
  {
   "cell_type": "markdown",
   "metadata": {
    "slideshow": {
     "slide_type": "slide"
    }
   },
   "source": [
    "# Kernel Methods"
   ]
  },
  {
   "cell_type": "markdown",
   "metadata": {
    "slideshow": {
     "slide_type": "slide"
    }
   },
   "source": [
    "# Kernel Methods\n",
    "\n",
    "## First Idea: do no write $\\bmf{\\theta}$ explicitly but as a linear combination of training features\n",
    "\n",
    "$$ \\bmf{\\theta}^{(t)} = \\sum_i^n \\beta_i \\bmf{\\phi}(\\mbf{x}_i)$$"
   ]
  },
  {
   "cell_type": "markdown",
   "metadata": {
    "slideshow": {
     "slide_type": "subslide"
    }
   },
   "source": [
    "# Inductive Proof\n",
    "\n",
    "1. At initialization $\\bmf{\\theta}$ is zero so it can be expressed $\\bmf{\\theta} = \\sum_{i=1}^n 0\\cdot\\bmf{\\phi}(\\mbf{x}) $\n",
    "\n",
    "2. At iteration $t=1$ then show\n",
    "    $\\bmf{\\theta} = \\sum_{i=1}^n \\beta_i \\bmf{\\phi}(\\mbf{x}_i)$ holds\n",
    "\n",
    "    $$\\bmf{\\theta}^{t=1} \\leftarrow \\bmf{\\theta}^{t=0}+\\alpha \\sum_{i=1}^{n}\\left(y^{(i)}-\\theta_{t=0}^{T} \\bmf{\\phi}(x)^{(i)}\\right) \\bmf{\\phi}(x)^{(i)}$$"
   ]
  },
  {
   "cell_type": "markdown",
   "metadata": {
    "slideshow": {
     "slide_type": "fragment"
    }
   },
   "source": [
    "Given that $\\bmf{\\theta}$ is zero at $t=0$, we have:\n",
    "    $$\\bmf{\\theta}^{t=1} \\leftarrow \\underbrace{\\bmf{\\theta}^{t=0}}_{zero}+\\alpha \\sum_{i=1}^{n}\\left(y^{(i)}-\\underbrace{\\theta_{t=0}^{T}}_{zero} \\bmf{\\phi}(x)^{(i)}\\right) \\bmf{\\phi}(x)^{(i)}$$\n",
    "\n",
    "$$\\bmf{\\theta}^{t=1} \\leftarrow  \\sum_{i=1}^{n} \\underbrace{\\alpha y^{(i)}}_{\\beta_i} \\bmf{\\phi}(x)^{(i)}$$"
   ]
  },
  {
   "cell_type": "markdown",
   "metadata": {
    "slideshow": {
     "slide_type": "subslide"
    }
   },
   "source": [
    "# Inductive Step\n",
    "\n",
    "We apply the basic definition of GD update and assume $\\theta^{t} = \\sum \\beta_i \\bmf{\\phi}(\\mbf{x}_i)$ per inductive step: \n",
    "$$\n",
    "\\begin{aligned}\n",
    "\\theta^{t+1} &:=\\theta^{t}+\\alpha \\sum_{i=1}^{n}\\left(y^{(i)}-\\theta{^{t}}^{T} \\phi\\left(x^{(i)}\\right)\\right) \\phi\\left(x^{(i)}\\right) \\\\\n",
    "\\end{aligned}\n",
    "$$\n"
   ]
  },
  {
   "cell_type": "markdown",
   "metadata": {
    "slideshow": {
     "slide_type": "fragment"
    }
   },
   "source": [
    "$$\n",
    "\\begin{aligned}\n",
    "&=\\underbrace{\\sum_{i=1}^{n} \\beta_{i} \\phi\\left(x^{(i)}\\right)}_{\\theta^t}+\\alpha \\sum_{i=1}^{n}\\left(y^{(i)}- \\underbrace{\\Big( \\sum_{j=1}^{n} \\beta_{j} \\phi\\left(x^{(j)}\\right) \\Big)^T}_{\\theta^t}\\phi\\left(x^{(i)}\\right)\\right) \\phi\\left(x^{(i)}\\right) \\\\\n",
    "&=\\sum_{i=1}^{n} \\underbrace{\\Big[\\beta_{i} +\\alpha \\left(y^{(i)}- \\underbrace{ \\sum_{j=1}^{n} \\beta_{j} \\phi\\left(x^{(j)}\\right)^T}_{\\theta^t}\\phi\\left(x^{(i)}\\right)\\right) \\Big]}_{\\text {new} \\beta_{i}} \\phi\\left(x^{(i)}\\right)\n",
    "\\end{aligned}\n",
    "$$\n"
   ]
  },
  {
   "cell_type": "markdown",
   "metadata": {
    "slideshow": {
     "slide_type": "subslide"
    }
   },
   "source": [
    "# Now, we do not update anymore $\\theta$ but $\\beta$!\n",
    "\n",
    "**Gradient Descent** written as coefficients of feature vectors:\n",
    "\n",
    "For each training sample, $\\forall i=[0\\ldots n]:$\n",
    "\n",
    "$$ \\beta_i^{t+1} \\leftarrow  \\beta_i^{t} + \\alpha \\Big(y_i -\\sum_{j=1}^n \\beta_j^t\\bmf{\\phi{(\\bmf{x}_j)^T}}\\bmf{\\phi}{(\\bmf{x}_i)}\\Big)$$"
   ]
  },
  {
   "cell_type": "markdown",
   "metadata": {
    "slideshow": {
     "slide_type": "subslide"
    }
   },
   "source": [
    "# Observations\n",
    "\n",
    "$$ \\beta_i^{t+1} \\leftarrow  \\beta_i^{t} + \\alpha \\Big(y_i -\\sum_{j=1}^n \\beta_j^t\\bmf{\\phi{(\\bmf{x}_j)^T}}\\bmf{\\phi}{(\\bmf{x}_i)}\\Big)$$\n",
    "\n",
    "1. $\\beta_i$ is the only thing that changes. We can thus precompute once before iterating $\\bmf{\\phi{(\\bmf{x}_j)^T}}\\bmf{\\phi{(\\bmf{x}_i)}}$. \n",
    "    1. Note that $\\bmf{\\phi{(\\bmf{x}_j)^T}}\\bmf{\\phi{(\\bmf{x}_i)}}$ is inner product $\\Big\\langle \\bmf{\\phi{(\\bmf{x}_j)}},\\bmf{\\phi{(\\bmf{x}_i)}} \\Big\\rangle$\n",
    "    2. $\\Big\\langle \\bmf{\\phi{(\\bmf{x}_j)}},\\bmf{\\phi{(\\bmf{x}_i)}} \\Big\\rangle$ is a scalar in $\\mathbb{R}$.\n",
    "2. The $\\beta_i$ grows with the number of training samples and **NOT** with the dimension of parameters.\n",
    "3. We can precompute $\\Big\\langle \\bmf{\\phi{(\\bmf{x}_j)}},\\bmf{\\phi{(\\bmf{x}_i)}} \\Big\\rangle~~ \\forall i,j$ before the iteration starts.\n",
    "    "
   ]
  },
  {
   "cell_type": "markdown",
   "metadata": {
    "slideshow": {
     "slide_type": "slide"
    }
   },
   "source": [
    "# Kernel Methods\n",
    "\n",
    "## Second Idea: $\\Big\\langle \\bmf{\\phi{(\\bmf{x}_j)}},\\bmf{\\phi{(\\bmf{x}_i)}} \\Big\\rangle$ use a kernel function to compute the feat. map inner product"
   ]
  },
  {
   "cell_type": "markdown",
   "metadata": {
    "slideshow": {
     "slide_type": "slide"
    }
   },
   "source": [
    "# Kernel Function\n",
    "\n",
    "**Problem:** We still have to compute $\\Big\\langle \\bmf{\\phi{(\\bmf{x}_j)}},\\bmf{\\phi{(\\bmf{x}_i)}} \\Big\\rangle$ where $\\bmf{\\phi{(\\bmf{x}_j)}}$ is potentially infinite, aka $ \\bmf{\\phi(x)} \\in \\mathbb{R}^p,~ p \\mapsto \\infty$\n",
    "\n",
    "### Idea: Instead of computing the inner product of feature maps, compute a proxy function (kernel) instead\n"
   ]
  },
  {
   "cell_type": "markdown",
   "metadata": {
    "slideshow": {
     "slide_type": "subslide"
    }
   },
   "source": [
    "# Kernel Function\n",
    "\n",
    "It assumes that $\\mbf{x} \\in \\mathcal{X}$, in our case $\\mbf{x} \\in \\mathbb{R}^d$ and $\\mathcal{X}\\doteq \\mathbb{R}^d$.\n",
    "\n",
    "Kernel is a function $K : \\mathcal{X} \\times \\mathcal{X} \\mapsto \\mathbb{R}$:\n",
    "$$ K(\\mbf{x},\\mbf{z}) \\doteq \\Big\\langle \\bmf{\\phi{(\\bmf{x})}},\\bmf{\\phi{(\\bmf{z})}} \\Big\\rangle $$\n",
    "\n",
    "- Note that $K$ takes as input the attribute $\\mbf{x}$ not the feature map $\\bmf{\\phi{(\\bmf{x})}}$!\n",
    "- The kernel $K$ does some \"magic\" inside to compute from $\\mbf{x}$ the dot product of feature maps."
   ]
  },
  {
   "cell_type": "markdown",
   "metadata": {
    "slideshow": {
     "slide_type": "subslide"
    }
   },
   "source": [
    "# Kernel Function - Poly$^3$\n",
    "\n",
    "It assumes that $\\mbf{x} \\in \\mathcal{X}$, in our case $\\mbf{x} \\in \\mathbb{R}^d$ and $\\mathcal{X}\\doteq \\mathbb{R}^d$.\n",
    "\n",
    "Kernal is a function $K : \\mathcal{X} \\times \\mathcal{X} \\mapsto \\mathbb{R}$:\n",
    "$$ K(\\mbf{x},\\mbf{z}) \\doteq \\Big\\langle \\bmf{\\phi{(\\bmf{x}_j)}},\\bmf{\\phi{(\\bmf{z}_i)}} \\Big\\rangle = 1 + \\langle \\mbf{x},\\mbf{z}\\rangle + \\langle \\mbf{x},\\mbf{z}\\rangle ^2 + \\langle \\mbf{x},\\mbf{z}\\rangle^3  $$\n",
    "\n",
    "\n",
    "$$\n",
    "\\phi(x)=\\left[\\begin{array}{c}\n",
    "1 \\\\\n",
    "x_{1} \\\\\n",
    "x_{2} \\\\\n",
    "x_{d} \\\\\n",
    "\\vdots \\\\\n",
    "x_{1}^{2} \\\\\n",
    "\\vdots \\\\\n",
    "x_{1}^{3} \\\\\n",
    "\\end{array}\\right]\n",
    "$$\n",
    "\n",
    "- Dot product in the feature space takes $\\approx \\mathcal{O}(d^3)$ while with the kernel function takes $\\approx \\mathcal{O}(d)$.\n",
    "- The dot product between two high dimensional function map is equal to compute the kernel function directly at much cheaper cost.\n",
    "- Each kernel is specific to each feature map."
   ]
  },
  {
   "cell_type": "markdown",
   "metadata": {
    "slideshow": {
     "slide_type": "subslide"
    }
   },
   "source": [
    "# Learning Kernelized Linear Regression\n",
    "\n",
    "1. Compute all the values $K\\left(x^{(i)}, x^{(j)}\\right) \\triangleq\\left\\langle\\phi\\left(x^{(i)}\\right), \\phi\\left(x^{(j)}\\right)\\right\\rangle$ for all $i, j \\in\\{1, \\ldots, n\\}$. Set $\\beta:=0$.\n",
    "2. Loop:\n",
    "$$\n",
    "\\forall i \\in\\{1, \\ldots, n\\}, \\quad \\beta_{i}:=\\beta_{i}+\\alpha\\left(y^{(i)}-\\sum_{j=1}^{n} \\beta_{j} K\\left(x^{(i)}, x^{(j)}\\right)\\right)\n",
    "$$\n",
    "<br><br>**OR** in vector notation, letting $K$ be the $n \\times n$ matrix with $K_{i j}=$ $K\\left(x^{(i)}, x^{(j)}\\right)$, we have:\n",
    "\n",
    "$$\n",
    "\\bmf{\\beta}:=\\bmf{\\beta}+\\alpha(\\vec{y}-K \\bmf{\\beta})\n",
    "$$"
   ]
  },
  {
   "cell_type": "markdown",
   "metadata": {
    "slideshow": {
     "slide_type": "subslide"
    }
   },
   "source": [
    "# Dimension Sanity Check\n",
    "$$\n",
    "\\bmf{\\beta}:=\\underbrace{\\bmf{\\beta}}_{\\mathbb{R}^n}+\\alpha(\\underbrace{\\mbf{y}}_{\\mathbb{R}^n}- \\underbrace{\\mbf{K}}_{\\mathbb{R}^{n\\times n}} \\underbrace{\\bmf{\\beta}}_{\\mathbb{R}^n})\n",
    "$$"
   ]
  },
  {
   "cell_type": "markdown",
   "metadata": {
    "slideshow": {
     "slide_type": "subslide"
    }
   },
   "source": [
    "# Prediction with Kernelized Linear Regression \n",
    "\n",
    "Assuming we have to predict for a test example $\\mbf{x}$:\n",
    "\n",
    "$$ f_{\\bmf{\\theta}}(\\mbf{x}) = \\bmf{\\theta}^T \\bmf{\\phi(\\mbf{x})}=f_{\\bmf{\\beta}}(\\mbf{x}) = \\sum_{i=1}^n \\beta_i \\bmf{\\phi(\\mbf{x}_i)}^T\\bmf{\\phi(\\mbf{x})} = \\sum_{i=1}^n \\beta_i K(\\mbf{x}_i,\\mbf{x})$$\n"
   ]
  },
  {
   "cell_type": "markdown",
   "metadata": {
    "slideshow": {
     "slide_type": "subslide"
    }
   },
   "source": [
    "# Important Observations\n",
    "\n",
    "- Learning:\n",
    "$$\n",
    "\\bmf{\\beta}:=\\bmf{\\beta}+\\alpha(\\vec{y}-K \\bmf{\\beta})\n",
    "$$\n",
    "Prediction:   $$f_{\\bmf{\\beta}}(\\mbf{x})  =\\sum_{i=1}^n \\beta_i K(\\mbf{x}_i,\\mbf{x})$$\n",
    "\n",
    "- Take out message: $\\bmf{\\phi({\\mbf{x})}}$ **does not appear whatsoever!** _(good)_ 😀\n",
    "- To make a prediction, we need to **remember all our training examples** _(not soo good)_  😅"
   ]
  },
  {
   "cell_type": "markdown",
   "metadata": {
    "slideshow": {
     "slide_type": "subslide"
    }
   },
   "source": [
    "# Important Observations\n",
    "\n",
    "<center><img src='figs/kernel_design_matrix.png' width=30%></center>"
   ]
  },
  {
   "cell_type": "markdown",
   "metadata": {
    "slideshow": {
     "slide_type": "subslide"
    }
   },
   "source": [
    "# Important Observations\n",
    "\n",
    "<center><img src='figs/kernel_design_matrix_2.png' width=50%></center>"
   ]
  },
  {
   "cell_type": "markdown",
   "metadata": {
    "slideshow": {
     "slide_type": "subslide"
    }
   },
   "source": [
    "# Kernel Methods are so generic that you can _\"kernelize\"_ a lot of approaches\n",
    "\n",
    "- **Kernelized** Linear Regression\n",
    "- **Kernel** PCA\n",
    "- **Kernel** SVM _(we'll cover SVM in the next lecture)_\n",
    "- ....\n",
    "\n",
    "<img src='https://scikit-learn.org/stable/_images/sphx_glr_plot_kernel_pca_002.png' width='70%'/>"
   ]
  },
  {
   "cell_type": "markdown",
   "metadata": {
    "slideshow": {
     "slide_type": "subslide"
    }
   },
   "source": [
    "# Who comes first? Kernels of Feature maps?"
   ]
  },
  {
   "cell_type": "markdown",
   "metadata": {
    "slideshow": {
     "slide_type": "subslide"
    }
   },
   "source": [
    "# Kernel Example\n",
    "\n",
    "$$ K(\\mbf{x},\\mbf{z}) = \\big(\\langle \\mbf{x}^T \\mbf{z} \\rangle \\big)^2$$"
   ]
  },
  {
   "cell_type": "markdown",
   "metadata": {
    "slideshow": {
     "slide_type": "fragment"
    }
   },
   "source": [
    "Can be written as:\n",
    "\n",
    "$$\n",
    "\\begin{aligned}\n",
    "K(x, z) &=\\left(\\sum_{i=1}^{d} x_{i} z_{i}\\right)\\left(\\sum_{j=1}^{d} x_{j} z_{j}\\right) \\\\\n",
    "&=\\sum_{i=1}^{d} \\sum_{j=1}^{d} x_{i} x_{j} z_{i} z_{j} \\\\\n",
    "&=\\sum_{i, j=1}^{d}\\left(x_{i} x_{j}\\right)\\left(z_{i} z_{j}\\right)\n",
    "\\end{aligned}\n",
    "$$"
   ]
  },
  {
   "cell_type": "markdown",
   "metadata": {
    "slideshow": {
     "slide_type": "subslide"
    }
   },
   "source": [
    "# Kernel Example\n",
    "\n",
    "The previous kernel corresponds to this feature map $\\phi(x)$ with $d=3$: \n",
    "\n",
    "\n",
    "$$\n",
    "\\phi(x)=\\left[\\begin{array}{c}\n",
    "x_1 x_1\\\\\n",
    "x_1 x_2\\\\\n",
    "x_1 x_3\\\\\n",
    "x_2 x_1\\\\\n",
    "x_2 x_2\\\\\n",
    "x_2 x_3\\\\\n",
    "x_3 x_1\\\\\n",
    "x_3 x_2\\\\\n",
    "x_3 x_3\\\\\n",
    "\\end{array}\\right]\n",
    "$$"
   ]
  },
  {
   "cell_type": "markdown",
   "metadata": {
    "slideshow": {
     "slide_type": "subslide"
    }
   },
   "source": [
    "$$\n",
    "K(x,z) = \\phi(x)\\phi(z) = \\left[\\begin{array}{c}\n",
    "x_1 x_1\\\\\n",
    "x_1 x_2\\\\\n",
    "x_1 x_3\\\\\n",
    "x_2 x_1\\\\\n",
    "x_2 x_2\\\\\n",
    "x_2 x_3\\\\\n",
    "x_3 x_1\\\\\n",
    "x_3 x_2\\\\\n",
    "x_3 x_3\\\\\n",
    "\\end{array}\\right]^T\n",
    "\\left[\\begin{array}{c}\n",
    "z_1 z_1\\\\\n",
    "z_1 z_2\\\\\n",
    "z_1 z_3\\\\\n",
    "z_2 z_1\\\\\n",
    "z_2 z_2\\\\\n",
    "z_2 z_3\\\\\n",
    "z_3 z_1\\\\\n",
    "z_3 z_2\\\\\n",
    "z_3 z_3\\\\\n",
    "\\end{array}\\right]\n",
    "$$"
   ]
  },
  {
   "cell_type": "markdown",
   "metadata": {
    "slideshow": {
     "slide_type": "subslide"
    }
   },
   "source": [
    "$$K(x,z) = \\phi(x)\\phi(z) = (x_1 x_1)(z_1 z_1) + \\ldots + (x_3 x_3)(z_3 z_3) =\\sum_{i=1}^{d} \\sum_{j=1}^{d} x_{i} x_{j} z_{i} z_{j}$$"
   ]
  },
  {
   "cell_type": "markdown",
   "metadata": {
    "slideshow": {
     "slide_type": "subslide"
    }
   },
   "source": [
    "# Kernel Matrix as Similarity Matrix\n",
    "\n",
    "\n",
    "- $ \\bmf{K}(x,z) = \\bmf{\\phi}(x)\\bmf{\\phi}(z)$ is high for similar $\\bmf{\\phi}(x)\\bmf{\\phi}(z)$ _(more or less oriented in the same direction)_\n",
    "- $ \\bmf{K}(x,z) = \\bmf{\\phi}(x)\\bmf{\\phi}(z)$ is low for dissimilar $\\bmf{\\phi}(x)\\bmf{\\phi}(z)$ _(ortogonal)_ "
   ]
  },
  {
   "cell_type": "markdown",
   "metadata": {
    "slideshow": {
     "slide_type": "subslide"
    }
   },
   "source": [
    "# RBF (Radial Basis Function) or Gaussian Kernel\n",
    "\n",
    "$$ K(\\mbf{x},\\mbf{z}) = \\exp\\Big(-\\frac{\\|\\mbf{x} - \\mbf{z}\\|^2}{2\\sigma^2}\\Big) = \\exp( -\\gamma \\| \\mbf{x} -\\mbf{z}  \\|^2)$$\n",
    "\n",
    "- $\\mbf{x},\\mbf{z}$ are equal then $\\exp(0)=1$\n",
    "- $\\mbf{x},\\mbf{z}$ are very different then $\\exp(-\\infty)=0$\n",
    "- RBF maps the attribute into a **infinite dimensional** space."
   ]
  },
  {
   "cell_type": "markdown",
   "metadata": {
    "slideshow": {
     "slide_type": "subslide"
    }
   },
   "source": [
    "# How does a Kernel Matrix Look like (w/ Gaussian Kernel)"
   ]
  },
  {
   "cell_type": "code",
   "execution_count": 3,
   "metadata": {
    "hide_input": false,
    "slideshow": {
     "slide_type": "subslide"
    }
   },
   "outputs": [
    {
     "data": {
      "image/png": "[encoded data removed]",
      "text/plain": [
       "<Figure size 864x864 with 2 Axes>"
      ]
     },
     "metadata": {},
     "output_type": "display_data"
    }
   ],
   "source": [
    "from sklearn.datasets import make_circles\n",
    "from sklearn.metrics.pairwise import rbf_kernel\n",
    "import matplotlib.pyplot as plt\n",
    "plt.rcParams['axes.grid'] = False\n",
    "X, y = make_circles(noise=0.2, factor=0.5, random_state=1)\n",
    "K = rbf_kernel(X)\n",
    "plt.figure(figsize=(12,12));plt.grid(False);plt.imshow(K, cmap='jet');plt.colorbar();"
   ]
  },
  {
   "cell_type": "markdown",
   "metadata": {
    "slideshow": {
     "slide_type": "subslide"
    }
   },
   "source": [
    "# Other Kernels\n",
    "\n",
    "- **Polynomial**  $K(\\mbf{x},\\mbf{z}) = \\big( \\mbf{x}^T\\mbf{z} + 1\\big)^d$ where $d$ is the degree of the polynomial\n",
    "\n",
    "- **Gaussian** $ K(\\mbf{x},\\mbf{z}) = \\exp( -\\gamma \\| \\mbf{x} -\\mbf{z}  \\|^2)$\n",
    "\n",
    "- **Sigmoid** $K(\\mbf{x},\\mbf{z}) =  \\tanh\\big(\\beta(\\mbf{x}^T\\mbf{z})+\\alpha\\big)$"
   ]
  },
  {
   "cell_type": "markdown",
   "metadata": {
    "hide_input": false,
    "slideshow": {
     "slide_type": "subslide"
    }
   },
   "source": [
    "# Property to be a valid Kernel (Necessary Condition)\n",
    "\n",
    "\n",
    "- K should be **symmetric**  $K(x,z) = K(z,x)$\n",
    "- For a given collections of examples $\\{\\mbf{x}_i,\\ldots,\\mbf{x}_m\\}$, then:\n",
    "$$K_{ij} = K(\\mbf{x}_i,\\mbf{x}_j)$$ is **symmetric** and **PSD** (positive semi definite)\n",
    "\n",
    "\n",
    "- **Symmetric** because of the commutative property of the inner product"
   ]
  },
  {
   "cell_type": "markdown",
   "metadata": {
    "slideshow": {
     "slide_type": "subslide"
    }
   },
   "source": [
    "# PSD for Kernels\n",
    "Assume we have a kernel $K$, we show it is PSD:\n",
    "\n",
    "$$\\forall \\mbf{z} \\neq 0 \\implies \\mbf{z} ^T \\mathbf{K} \\mbf{z} \\ge 0 $$\n",
    "\n",
    "$$\n",
    "\\begin{aligned}\n",
    "\\mbf{z} ^T \\mathbf{K} \\mbf{z}&=\\sum_{i} \\sum_{j} z_{i} K_{i j} z_{j} \\\\\n",
    "&=\\sum_{i} \\sum_{j} z_{i} \\bmf{\\phi}\\left(x^{(i)}\\right)^{T} \\bmf{\\phi}\\left(x^{(j)}\\right) z_{j} \\\\\n",
    "&=\\sum_{i} \\sum_{j} z_{i} \\sum_{k} \\phi_{k}\\left(x^{(i)}\\right) \\phi_{k}\\left(x^{(j)}\\right) z_{j} \\\\\n",
    "&=\\sum_{k} \\sum_{i} \\sum_{j} z_{i} \\phi_{k}\\left(x^{(i)}\\right) \\phi_{k}\\left(x^{(j)}\\right) z_{j} \\qquad \\sum_{i,j}a_ia_j = \\Big(\\sum_i a_i\\Big)^2\\\\\n",
    "&=\\sum_{k}\\left(\\sum_{i} z_{i} \\phi_{k}\\left(x^{(i)}\\right)\\right)^{2} \\\\\n",
    "& \\geq 0 .\n",
    "\\end{aligned}\n",
    "$$"
   ]
  },
  {
   "cell_type": "markdown",
   "metadata": {
    "slideshow": {
     "slide_type": "subslide"
    }
   },
   "source": [
    "# Necessary Conditions are also Sufficient (Mercer's Theorem)\n",
    "\n",
    "Let $K$ be a function, $K : \\mathcal{X} \\times \\mathcal{X} \\mapsto \\mathbb{R}$ where $\\mathcal{X}=\\mathbb{R}^d$, then for $K$ to be a **valid (Mercer) kernel**, <ins>it is necessary and sufficient</ins> that for any\n",
    "$\\{\\mbf{x}_1,\\ldots,\\mbf{x}_m\\}$, the corresponding kernel matrix is **symmetric positive semi-definite**."
   ]
  },
  {
   "cell_type": "markdown",
   "metadata": {
    "slideshow": {
     "slide_type": "subslide"
    }
   },
   "source": [
    "# How to prove K is a proper Kernel\n",
    "\n",
    "Three options:\n",
    "\n",
    "1. Construct $\\phi$ so that $K(x,z) = \\phi(x)^T \\phi(z)$ **OR**\n",
    "2. Use Mercer's Theorem: for any $\\{\\mbf{x}_1,\\ldots,\\mbf{x}_m\\}$ then $K_{ij}=K(x_i,x_j)$ is **symmetric positive semi-definite**.  **OR**\n",
    "3. $\\forall f(x) \\implies \\int \\int f(x)K(x,x^{\\prime})f(x^{\\prime}) dx dx^{\\prime} \\ge 0 $"
   ]
  },
  {
   "cell_type": "markdown",
   "metadata": {
    "slideshow": {
     "slide_type": "slide"
    }
   },
   "source": [
    "# Artificial Intelligence and Machine Learning\n",
    "\n",
    "## Unit II\n",
    "\n",
    "\n",
    "**Iacopo Masi**\n",
    "\n",
    "\n",
    "May 6, 2022"
   ]
  },
  {
   "cell_type": "markdown",
   "metadata": {
    "slideshow": {
     "slide_type": "subslide"
    }
   },
   "source": [
    "# Tracking of Attendance to cope with COVID-19\n",
    "\n",
    "Token prodigit for this lecture:\n",
    "## `219319`\n",
    "\n",
    "Please use this code to make your presence on prodigit\n",
    "\n",
    "https://prodigit.uniroma1.it/\n",
    "\n",
    "\n",
    "The code for the building is:\n",
    "## \t`AULA 3 -- CU028-E01P01L001`"
   ]
  },
  {
   "cell_type": "markdown",
   "metadata": {
    "slideshow": {
     "slide_type": "slide"
    }
   },
   "source": [
    "# This lecture material is taken from\n",
    "\n",
    "- [Stanford notes Kernels and SVM](http://cs229.stanford.edu/summer2019/cs229-notes3.pdf)\n",
    "- [Cornell ML Course](https://www.cs.cornell.edu/courses/cs4780/2018fa/lectures/lecturenote09.html)\n",
    "- [Tibshirani Chapter 4.5 page 129](#)\n",
    "- [Bishop Chapter 7](#)"
   ]
  },
  {
   "cell_type": "markdown",
   "metadata": {
    "slideshow": {
     "slide_type": "subslide"
    }
   },
   "source": [
    "# Support Vector Machines (SVM)\n",
    "\n",
    "## Invented in the '90s\n",
    "\n",
    "_Developed at AT&T Bell Laboratories by Vladimir Vapnik with colleagues (Boser et al., 1992, Guyon et al., 1993, Cortes and Vapnik, 1995_"
   ]
  },
  {
   "attachments": {
    "immagine.png": {
     "image/png": "[encoded data removed]"
    }
   },
   "cell_type": "markdown",
   "metadata": {
    "slideshow": {
     "slide_type": "subslide"
    }
   },
   "source": [
    "# SVM  - Support Vector Machines\n",
    "\n",
    "It is a **discriminative, supervised classification** algorithm **(SVC)** though it can be used for regression **(SVR)** and **outlier detection** too. A bit of change in notation:\n",
    "- $y \\in \\{+1, -1\\}$\n",
    "- $\\mbf{w} \\in \\mathbb{R}^d,\\mbf{b} \\in \\mathbb{R} $\n",
    "- $\\mbf{x} \\in \\mathbb{R}^d $\n",
    "\n",
    "![immagine.png](attachment:immagine.png)"
   ]
  },
  {
   "attachments": {
    "immagine.png": {
     "image/png": "[encoded data removed]"
    }
   },
   "cell_type": "markdown",
   "metadata": {
    "slideshow": {
     "slide_type": "subslide"
    }
   },
   "source": [
    "# SVM  - Support Vector Machines\n",
    "\n",
    "We classify as $$\\mbf{w}^T\\mbf{x} + b$$\n",
    "\n",
    "We want:\n",
    "\n",
    "$$ \\begin{cases}\n",
    "\\mbf{w}^T\\mbf{x} + b > 0 \\quad y=+1\\\\\n",
    "\\mbf{w}^T\\mbf{x} + b < 0 \\quad y=-1\\\\\n",
    "\\end{cases} $$\n",
    "\n",
    "![immagine.png](attachment:immagine.png)"
   ]
  },
  {
   "cell_type": "markdown",
   "metadata": {
    "slideshow": {
     "slide_type": "subslide"
    },
    "variables": {
     "import numpy as np;import matplotlib.pyplot as plt;x = np.arange(-20.0, 20.0, 0.1);y = np.sign(x);plt.plot(x,y);": "<img src=\"data:image/png;base64,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\n\"/>"
    }
   },
   "source": [
    "# SVM  - Support Vector Machines\n",
    "\n",
    "We classify as $$\\mbf{w}^T\\mbf{x} + b$$\n",
    "\n",
    "We want (written in a compact way):\n",
    "\n",
    "$$\n",
    "\\operatorname{sign}\\big(\\mbf{w}^T\\mbf{x}_i + b\\big)\n",
    "$$\n",
    "\n",
    "$$\\operatorname{sign}(z)= \\begin{cases} +1, & \\mbox{if } z\\ge0 \\\\ \n",
    "-1, & \\mbox{if } z<0\\end{cases}$$\n",
    "\n",
    "{{import numpy as np;import matplotlib.pyplot as plt;x = np.arange(-20.0, 20.0, 0.1);y = np.sign(x);plt.plot(x,y);}}"
   ]
  },
  {
   "cell_type": "code",
   "execution_count": 4,
   "metadata": {
    "hide_input": false,
    "slideshow": {
     "slide_type": "skip"
    }
   },
   "outputs": [
    {
     "data": {
      "image/png": "[encoded data removed]",
      "text/plain": [
       "<Figure size 432x288 with 1 Axes>"
      ]
     },
     "metadata": {},
     "output_type": "display_data"
    }
   ],
   "source": [
    "import numpy as np\n",
    "import matplotlib.pyplot as plt\n",
    "\n",
    "x = np.arange(-20.0, 20.0, 0.1)\n",
    "y = np.sign(x)\n",
    "plt.plot(x,y);"
   ]
  },
  {
   "cell_type": "markdown",
   "metadata": {
    "slideshow": {
     "slide_type": "subslide"
    }
   },
   "source": [
    "# Who remembers when we saw $\\mathbf{w}\\mathbf{x} + b$ for the first time?"
   ]
  },
  {
   "cell_type": "markdown",
   "metadata": {
    "slideshow": {
     "slide_type": "slide"
    }
   },
   "source": [
    "# Hyperplanes\n",
    "\n",
    "**Hyperplane**: a generalization to higher dimensions of a line ($D=2$) or of a plane ($D=3$).\n",
    "In an $d$-dimensional vector space, a hyperplane has $d-1$ dimensions and **divides the space into two half-spaces.**\n",
    "\n",
    "$$ \\mathbf{w}\\mathbf{x} + \\mathbf{b} = 0$$ where $\\mathbf{w}$ is a vector normal to the hyperplane and $\\mathbf{b}$ is an offset\n",
    "\n",
    "<img width='30%' src='https://d2l.ai/_images/space-division.svg' />"
   ]
  },
  {
   "cell_type": "markdown",
   "metadata": {
    "slideshow": {
     "slide_type": "slide"
    }
   },
   "source": [
    "# Hyperplanes\n",
    "\n",
    "**Hyperplane**: a generalization to higher dimensions of a line ($D=2$) or of a plane ($D=3$).\n",
    "In an $d$-dimensional vector space, a hyperplane has $d-1$ dimensions and **divides the space into two half-spaces.**\n",
    "\n",
    "$$ \\mathbf{w}\\mathbf{x} + \\mathbf{b} = 0$$ where $\\mathbf{w}$ is a vector normal to the hyperplane and $\\mathbf{b}$ is an offset\n",
    "\n",
    "<img width='30%' src='https://d2l.ai/_images/space-division-3d.svg' />"
   ]
  },
  {
   "cell_type": "markdown",
   "metadata": {
    "slideshow": {
     "slide_type": "subslide"
    }
   },
   "source": [
    "# Which hyperplane to choose?"
   ]
  },
  {
   "cell_type": "markdown",
   "metadata": {
    "slideshow": {
     "slide_type": "fragment"
    }
   },
   "source": [
    "## Just _one_ that separates the data?"
   ]
  },
  {
   "cell_type": "code",
   "execution_count": 5,
   "metadata": {
    "hide_input": true,
    "slideshow": {
     "slide_type": "subslide"
    }
   },
   "outputs": [
    {
     "data": {
      "text/html": [
       "<video width=\"432\" height=\"288\" controls autoplay loop>\n",
       "  <source type=\"video/mp4\" src=\"data:video/mp4;base64,AAAAIGZ0eXBNNFYgAAACAE00ViBpc29taXNvMmF2YzEAAAAIZnJlZQAA3WVtZGF0AAACrgYF//+q\n",
       "3EXpvebZSLeWLNgg2SPu73gyNjQgLSBjb3JlIDE2MSByMzAzME0gOGJkNmQyOCAtIEguMjY0L01Q\n",
       "RUctNCBBVkMgY29kZWMgLSBDb3B5bGVmdCAyMDAzLTIwMjAgLSBodHRwOi8vd3d3LnZpZGVvbGFu\n",
       "Lm9yZy94MjY0Lmh0bWwgLSBvcHRpb25zOiBjYWJhYz0xIHJlZj0zIGRlYmxvY2s9MTowOjAgYW5h\n",
       "bHlzZT0weDM6MHgxMTMgbWU9aGV4IHN1Ym1lPTcgcHN5PTEgcHN5X3JkPTEuMDA6MC4wMCBtaXhl\n",
       "ZF9yZWY9MSBtZV9yYW5nZT0xNiBjaHJvbWFfbWU9MSB0cmVsbGlzPTEgOHg4ZGN0PTEgY3FtPTAg\n",
       "ZGVhZHpvbmU9MjEsMTEgZmFzdF9wc2tpcD0xIGNocm9tYV9xcF9vZmZzZXQ9LTIgdGhyZWFkcz02\n",
       "IGxvb2thaGVhZF90aHJlYWRzPTEgc2xpY2VkX3RocmVhZHM9MCBucj0wIGRlY2ltYXRlPTEgaW50\n",
       "ZXJsYWNlZD0wIGJsdXJheV9jb21wYXQ9MCBjb25zdHJhaW5lZF9pbnRyYT0wIGJmcmFtZXM9MyBi\n",
       "X3B5cmFtaWQ9MiBiX2FkYXB0PTEgYl9iaWFzPTAgZGlyZWN0PTEgd2VpZ2h0Yj0xIG9wZW5fZ29w\n",
       "PTAgd2VpZ2h0cD0yIGtleWludD0yNTAga2V5aW50X21pbj01IHNjZW5lY3V0PTQwIGludHJhX3Jl\n",
       "ZnJlc2g9MCByY19sb29rYWhlYWQ9NDAgcmM9Y3JmIG1idHJlZT0xIGNyZj0yMy4wIHFjb21wPTAu\n",
       "NjAgcXBtaW49MCBxcG1heD02OSBxcHN0ZXA9NCBpcF9yYXRpbz0xLjQwIGFxPTE6MS4wMACAAAAe\n",
       "j2WIhAAT//73sY+BTcgADZc6inof4RWx9JBRerHZoGTqAAADAACJgY4WQLW5WnFQAADfnpJU/8ps\n",
       "sABOppsxErbdW9Cq98ZtfY80dZMdU1SzPQ7sHvmnVpMDI8cpZcWcjiX9XtBBd+01d1PWhOBPaUyT\n",
       "3nXgxh4QV297HgEQnpQ4MMmqAuwUheauI7vH3XI2XKc3RLmtgRESjZg0tYdwwlVTddOTkEOprsUX\n",
       "hmUpPf9KEM2hICn2W4HjedjD4aaANCZHTtrzK2XGAhYAp8rnpx5XGfSfUGI4lltwGzpwM+6dwAxF\n",
       "hRWUhvxOtwZE1ieA2G7PQU6dn++OYf0+pGAXvryoIi9h3lqDcJIWx+SKJe2LQ3jgCRVijtVAgF57\n",
       "yFxQAH4P38M8bA/+lF8VP6co+/Y4BeeFJNkaQbsUDrTPrhnRTaOOGUCyERgoFehtJT9Q2UVR2dyQ\n",
       "+LTxNI0jm3WH0/rw3jndZ1XAd+GPP/IbcHJaxtodIGIxkVxuN2OHo+bEllwNSkcxuXfYTnnAgLVc\n",
       "HTa2UqnJDqnWy2taAL7Shp6QUtg5ZmEU3efCev93d4qXz3j/Fp1q4fIYzIMMw38H0p4FQaEv5Jdq\n",
       "VcHzG4gUwyGHMN3slIF3Ji6TjqN/nIqj0ybW6rinWSRsA1XhmJlYwxUCnv0hMMNz+Cb50TA6rdjQ\n",
       "AFhD0vnQtvQ6NWTQHKGfaGaIqiE0DO+D69qSGrZvHk04y2VeLdsPEEUP389rJMJvDTGy7+mrewnA\n",
       "epapfmJ2x729cB3tFi2MmPgJS+ysu9pSu3HE10PtqihAqP7r3daoCoxHQGIaEr6yKOb1ynBLa6P2\n",
       "aA8QEnrpLdNt9duVc3xoq1+R44uFk2FLWmgdCVX9yEi2/ralpKK5q3IrYlbIl4N6KeNCia8vQJyK\n",
       "iFVOHWV9sKJgOQOACMlvAFAJ5zltwiUinxakRA4CMfFn/0ahwM0Z1bhmPYkggDGmliCwo58dxY7L\n",
       "5MUbuFeBgaXva/H+gkn8FnGDzBoqdTBw9M5sgAPjGe0e4vWd4pThhaCOA9bq9oxWi7rNXzxBliKY\n",
       "46NqxuEhanIISRJUvZa4VqFc+1D7nued37HQ40qhce67kIgaZuAvDHxaqJi+XMXuRwjT3J2E7ckz\n",
       "sy38w9SJV8Gg3PKvNsDkCfks7sGcTqb5pkYgS6maGptYbMS57399aC73r/FduQPfAiS2X3vin/Mf\n",
       "YJpfZLPbugZfdvakdwh7g+CpsbysYN5WHLxmr+aauh4HkohjxdutKy3QkZOQtEI09rMP1ocOUtar\n",
       "xi5vQl+Esmvh14qTO+45i395h/C5JxsS+hd8EkNCrvMPXesPdRO4IjRnuuOvgUpAAINtKPQUJaQG\n",
       "aanmvAjRpvCqhF8kpXvyZpptwgtJ32edzBRqtdRzxpS+rxfiUfau1HA90/8uv/BcZROceDSeQ6hf\n",
       "TaWCcRw5HeT47+dS9zDlCqQR4GUfAD5u85bjste3uqlqI3xWv9/cD1hjLdWjUpTgKar7tXkf6pXN\n",
       "rfyu0qego7pXwdKEqOHuhCM3z7ASnt+nyUD92eLx3L79ZFgcNIWVQ+456gupMUmc/4RoXwOIWlxV\n",
       "3BYFbfI5dThV3vPFD4j26TghVZhqoCQ2Gf3J0uzNXY5bH7jE7w+Nz+soF5mNHiRkOK1it2h1WnYb\n",
       "N5EY9Wtua/24XfcVbNspXbvXYY5YRkPwXYSWOgi6OhJ8ihtyKA6rJzGpjzS7ALuo7Ocnr/Tnl6Nd\n",
       "714OmOo3PPK+xvrw7uBPemOPRncacSYvrPu/Z3Ep8pbAiAyLp0mEL4RKfwCRVJklL7wAC2wve26h\n",
       "bYK4Q1EsGxpieVnzXaYK5BFfz1CvgHQ2ZJ7vXZRDKtmVgssyux6zcAD/afkXX4OFcNU90eC110s+\n",
       "ltJUS3XIod/Q+IuV4e5LJsLuOBdhdghOHgrD7NyxHoGVWroiBrsQKPYLeP/tKzXtipeKvi2cdS8X\n",
       "yOjlhh2LXVvWuMwzeCp0GqcnVDi9gUSHlkTWeGD17LnsT7WKkbHeFkg0+h22cNNaKL3uP5ev22xH\n",
       "eZzlXYHNmDifpQ3cWXXPqLP2fxAub6+k3o2rpwKmPh6sp6j3l8ix0sJ3lP7EV2jHN/he0vCWUHcM\n",
       "iWIM7CdWcUAgvm+HdglzjfpU2J+taAXXamBN03UGFdQ5S65P43p/3mYCrEvJKLQrqepBhzqIV0Vs\n",
       "8NgcqM+6mYXDOBz4Jxc3Jh1sCcbWhaujGu+LEgBQXTS+/J11CYFxS2/MlBn9PYe1lodw+JAGhiAM\n",
       "u56PlGO3St3mtd09ljkSZVAhbHSO85R9yFbkU2E3+RoYhMRRe3GwdgoChBlKnSq+BUJ1wLelw6uk\n",
       "c2jbDM7jz5noc35ZkT/4Ght3xgYaQcAPtYfPN19skm0avs/SZ0SZ7QPbhSCREeaE2Ojs4Bhro3yV\n",
       "OH0NslYcqJm6ontWha2j1/imcmM5P59ASNhSfSIVfcxxlNB2WgJPOru9S/w3hSSHzGzu+P0vn76H\n",
       "9pUJb6+yv621DlPqS12/BT1UAIcmLMtj+pC5YnHFDPGAwBYFYzOwahbcBN+aQCtrHB8ORuPr7Nx1\n",
       "1BZLMRiHanyHEE/3QTt1plp4GJIH7KO2+gdKmR0M2lzYyCWJ56jTPSj1DwX40pVgymzZWP3/ygAQ\n",
       "DRRLoQnVuVifuYbZPKtDUfW5LSTIfcwQYRCejYCO17LoURwE2XS+CcFbirTWibBJLgjG6mOWGFNg\n",
       "oc0/rqX6msCsj9ADMwneu30xLDt9GqJuLyUYWGxXanGoPwj5Lr+aLLXyhyFY+iTxC09fkb9rvm1u\n",
       "HJi3D4ImF/oZL54AKgwYHmBMayr197qSWlltqmwbU+67i6A3i41psS36pmPUt/5womEAfZURLeFD\n",
       "2+ZJs5mL6W5TYPjlnu7n1VWpLICU4p9FUvoHB/MyZ7Ll6mcL3Xnw0u8YQlJirkSwHvr4oe+mMAF1\n",
       "HIsNURI2Hr8AUU8Hyhd2E2XL+acPY+QyYhgeaLujkcwE6T8MBqIuKkccG0T9Tn7IWPos5ftUpWgG\n",
       "uo2lS07xvPJoHGkxOceaAg/PXtWpjVB61KT9UAJrfekXRdh/G6pXWAZtRpsQYzeuQsYotjQLLFvA\n",
       "oCC+9NgY+E/lwTtPZjRd0SsMvWy7EJtWemMgpFTpjqlLMGWotpZ/IyQ9s3K9S5FQenUfY0YzO4J9\n",
       "OMg36dCdKYrUTvClX1PPamlkBMem8FrF9bXnQ/uZPzeyGrfgNt3LG/wGPBNMx/kP48tjwCKmSSOb\n",
       "Hb1iJXiXgU8MX6/fLv7hhM98c97SdAe9YZHXVtP/iY+Hh8UHYiC8WchkyhV7gB+AatlJKbkoN639\n",
       "uy5jw0SAjLyNiDIFjO/LDMoxmJaSaGFOtEbXKvBqIWRyfmJ3JthyfT4vAWa3iPhhhAUXUUrG/2Xv\n",
       "t/bPomWRVY8F9thmq5pj/oTqGLShtNy/duwPpVTqBUeCXNGCz/eO1gz3FW7wUb+Olt/RSKA2gsCq\n",
       "uKbt4+hp781DG2cj8PT8GKpr6XwE3SW5TsE/nUUj5zYh5t0M9ptyUkFGKNKMeMMGj+wQTq7DOlkO\n",
       "BMFDKKZ5zaA3GUudIU6tB6EMN/ziRU6UT1iNVkl0QItoH+3+nid2gx1PXcZOF4YsyRAyUQQ2Sxlg\n",
       "053juZsLXvz1Y3/5E6MHiJHDcnqxgHScM8d9z0XUrCgTVA+MdieJ5f5q+EJKpCvpMkWnw2k//PXq\n",
       "2WhyNddK54FMVQA/h4Ii22tHDS9yeTAFU2NMFqiaDNeMrGwoNf9QmFHdbL5KT3yg8KETENsJwxEw\n",
       "w3ivvNsVgY0Qvoieo+u3ZRhGGOhT/Yhq9TrtSAe6aJJIC3TIBuNVxktKbL8jGUJa+adDe8b7ZJUP\n",
       "6mAj9yRPoA480IL7/OXMvfjRTBUx5AB4rky5Foj1q0Ki+KA3NWjA1QJJSqK4L40MEkMeI9mVq0Bm\n",
       "dekciSIZbquPLBTdNcYNZVP8N+8b3n0vZ6l4AMhzBxAkfEuXiVe5Nlj3JB6kBcDE84yv+oAzZ1Fx\n",
       "BB53SGChKmls8uGewvUVGXi+pc4/nlbpQ6YEa0vd/qnIFu3q6FjPlaGmnRiwaV7tpJF+AtBwmojH\n",
       "cuc2IJGG7v4n2pROn4CKB01ejFAC0Cxqqbje3wCyErYHGafkChBDJrQye2/SCR10SSgY/zprdlp5\n",
       "a89Nz9ctJN/X/y6IGs0KYleINCTZEtDtQWOoA95BuakirmkOmlFxVpxrCt4TaoZVvy68vmCQQpO8\n",
       "Y/zksMW3Mq7st0XPi0WPRt/R2KYV9DkEV11lYAIho7D0VZYAOTMYKOHyUM1zvYXGGdB/gm3BFm3N\n",
       "D50pyzoyHIL2z5Tzeb3DFkFzigKGODp0/kPmuZtE1wa9mr0w6IGzEAlT3gQvCyYAbySffWfqqXFY\n",
       "3FpEh4fsvCCqo5E3Q+gjzAm0ou6lGdrqiukmjRSTX4gku2SijP+zrAOKdYNoY3QZVfHwDHXlUmP2\n",
       "tUFzycKI7A1d+4MqUgasmAgFT4wSDiIbgp6dWU44ZDAKW9FQ6NyAt3n/25ca2w5J6jwwy9mjPVHo\n",
       "Din/QrR3dvHVi7U68IS/vOocksCtFqd0T+pBQNV5IRNvhzJCFRW3ILSmqB9pczvUVA2v2+ZfxPwf\n",
       "gHPzpV+xLXt09E6B8CT/Cu5laJV94t3QCcX07tDKDyTA7X7O3dKUihZYyKlB7fE7MZDD874pLvML\n",
       "nw0xdhGwQmXhO0cE1emxLLr1POAdjFt+sVHtpb8k5Y432Mf6XKUxnaHVf6zLQF4muTZ9cZrvNOTg\n",
       "VGu/EGTi5JFSbu3fTj4kLYaF3+126lPvXEEJDMVshYm3pLKsmXrQmc5mhzDz3GL8nkFEkhIVCWh1\n",
       "QqLRgYpwxFJ5gkiau5p2PYJuGygwaLdH1uSllO1H4KsnToztr3zsPbwUNlpFdYUbkwte86lrWzWk\n",
       "XP98WxQJk/4EoTthuP00Cpd5Nm44JYXcZbeUhudjPzZgQicNx2T/pTgZ8Qxk0Nft2CTXoASTsPYB\n",
       "VnhsYi1uVF0rM0keYzNjwBXCQxxX/YSxNXtk5svDzhIdOjgjb89TR5AbfhNYYF9c2Tf8uxcsAYEw\n",
       "8udheBiZEmarYLOSiXchBfSNf+NxzrHlSpVdtxrjgilRmHUr6C+X4qwZz92FW/UpHzMHjLVvzIRn\n",
       "IloYQ/iQAIfJoNMudOfrhlD7nWlDRhLylwxUcgcuyoLXQomS2UNoExRb+0iSN2POeH1Ah3cgQtav\n",
       "J6AjkHcxeCEneIwuBK8b4mzrYVKMwEn436qr7LqS2mMZ3kSm85tnMzhc2jakwEF+m4gZiraDR0RF\n",
       "hi6r37feDoanbIyU9UMvWJ4zPw8YZQyZdBq6HYcPKhF1NYm2Go/i2vzZCZXClIQoBFjRiGBKG1OF\n",
       "2lMb7AcetTDBGW5bc0r5W7phq0ui/INGLcHIfvh+j58POrLVb03R1nXduNs3e1MakIhPv0BgWu3o\n",
       "kG8/DeH0TtVAGfpsLDTwsShZezR/r8/LoO4ujSe4Gfj+kWjw0TeB30DwcGKQjTexk344ZX8QwX+E\n",
       "ngwnbmvDDLDW48DeOZ+0LPuvaxCaX4o9E9ToozJunea1GwwmX36K876ZONNrxv2wzknkdE7o/aba\n",
       "58E54vM40+1JJHfBBhnpr1/oL61zl7TyxSe7R3Eqkt3HRl006axdzKycKRqIFIIBsvl/bXWrgMim\n",
       "BoLfRGFTko/W+G8olr7G/H0RSpH4RqrG/mioAggLbQ6FN22creqyNerGPYREyYhd5vnA8k/ulH+g\n",
       "MOI+mOf6OcszBnR34tqxQFrv0lgzrKfEpGoSQu7ocomWMvVY8YK8QiISqxlb7kDuVL2Hyb+ysS8B\n",
       "DkTe8xLIDpLMKJ1i6uNN8RL8Z/eVMRRocka0H4+cOrQo2W7rz34E2OS6R0S/UapGZSf7tjvWGwYx\n",
       "Gqk7i+pAklQA4RRsvelEo5GmdZcD6H4jQnd3aVWabHK3Rl5D2iQ6wsyGb8jtpKFEFItyoCqfYgpr\n",
       "z7J9xYktzS1Guvd3GzQXNYGOVFzjTCkTJuvYlVMMldwZfeKWW9K1XNkNS8N2/7q1JY56NASuHA/W\n",
       "0pfN1+rQCxt/l0nIZjnrwzFiO0gHrc5+i7Jzmu70LEVJun5EvJvE8qACYJlpFFvVho9pmhnl18Xd\n",
       "Snuf5PwBmhDxlqV/8DUJJryyW7U42c1BWrIawi6hZNW45NbYiy3N5US2AUJKzliy1YQRyh4eYeZ2\n",
       "mm4jdsSYNOVMjZSKb4q3DqUZB6jt6l7T0RDOyQeLwiYAeR5AlGf4259VVlUkESkSIEpcE6oTQtML\n",
       "4d1lDWxroVV6XM0JXJYthoUgzHcgr/biqnCuCEkCdrKv/VvQHO/pNeyH7J7ykO35zwzl4uPXVP9b\n",
       "FhfOtu9YCjE1enC5kHXvqGKxKoCQmOayxWXgGqfIkuAUHWp/ntZ8ol/wvqIkbuDWvtvSkSGy8LFw\n",
       "bONGFLSzdvqAuHRyNa6TdVP0TN+GcZMtpatnHwjMVkIzOPFlCA16Q6AMNlZkc1zylp7SO+FnBI2E\n",
       "HrZBXjcRdoO2lo5r2XsoKiZy4eTOlK/N5iwLayegqhxxY8y5UWZ8zvshLIKbNvn9U6JURoIicD/t\n",
       "MYkTEMnBBYbbg6qlpRJcrk1P9Xn/xRWanaDgw/AEwW9Gw2/cmgEThMnzw8KorhzDqSS3GaT+4kP1\n",
       "TfAYvqrTt732O3lB/z8B+RuX+xUlc+5JARdfvgUMl4NXpRP2MknBv8icWrGQjhUwSWXtNU6Iu1jF\n",
       "1+a+JfbKFW1kikmxjYscpxGRtm1T3blPz/UfM6gpunOPXPPismYLgtU84xOrrxx3KyNDZj5dv07v\n",
       "o38PeZ2cJo9+USXS/eImXbPoGMIEWTtWtpt0uYXMhxTEJcMXWGGFaqT+qj1MyMFYelIwLXKPab04\n",
       "D6Z/A0iDFiUlsl9mrjQEDEPYpFVsoK4bcA4UaHHpg7O+IsBJllYVlgxzX+4/3NvNxIWhJL+7gSaS\n",
       "FqFwZO5BZ5H6JdrVKHbIBAId8G6OFdvsNMkvmwZTqmEmFHG66DCDNLUyijvJHu7ER0gD4ImA9rLY\n",
       "AsdQkJ0F2N/E2gzxs+JAhEVAftR3c2qKDGpFkwvJ1rCqqt/lUGn5ai7g3yt6oSgJhoSIZjIMWzCq\n",
       "9TpEyM9Lzj/+tdJ9w8f0ZBULZtqIiYTFp6UOEDLi2oU1SE0ZtzgUY6fEJX3NH3xYDVBtJBFz1kPl\n",
       "Q4a74V3aYL6ucsTCIXWWPVVb6ZRWmwbAQN4rPEL3sFhpn+/FX40DoM7dz/x3/dXc/lQ/8HWHeb1T\n",
       "6fG//uBaIF/WGwu5VMym8vTYuXK4QAEdG8C1M0FFJ1YF1xTUvUixNFK9x06DPtC6cGaBlLhtvcyN\n",
       "ggaW6p99OGG/ro4A8IKFbotuZuTOOTFVlHq+PalVyx3NK8ozUySBMRh0BjDUbzY8aAgNopVzGogx\n",
       "pdcgJTY2Y3YbOPrD/FAaIt1CaasmVq/DQI5yw/QGvSOw9FUFQB0zpHuTD1/tBPF26DNDiPq9KDYv\n",
       "1WKohEJXay6HI7UTiy3BHunwtzPgIYHwnC53Hmiu52e5j89i9pklEEbaXRjCFps0h2/MrUMV5HpV\n",
       "VbDnE0oWfaunJ2hXecaPNpsQu0bSb1aYKhBfUPNuedc64Go3r8qCgSgUTsjvyF3KBcilr2dtSm/3\n",
       "Fm6XlysqiO9QdPj0Amt4iuIsus2woZOixYaHHQC+AQcbB09Gw8CD/HDqn3+4IN2Z8MdICSffrKWj\n",
       "PF/gttHMzr4O3ZzVEACSuDkMXxg9DvlIXj0Ge4kCICbSR20s0ZkCaZqDywgmE+qRzLCMamWut1eH\n",
       "dlB1YqS0WVz5hWhf8hlj/1/OHBJssJqpYgaGMY1M4HJt24TnRfUsehC1nJNHT9hTiNOTIIWcA/tC\n",
       "lrAZHqTgV/kzOP3WaF5f3qqt+jSEKEGaBV4bcKhXSXIkmjnzPolt35508+cxCZZMkIwCoa+pYkY3\n",
       "S/yhfEtfRRmAZ8cj3CXFDvV8DoEAac8bgkIEW3HYgZkVS9DetBydMujxqLFM7POTACxjr2j+SzlN\n",
       "y66NwSgKvqvAAA+xCIVEnmmDZDQKvEQphurKtEgVqZsRZeaQbEbWWP0GHfnS2rt2YahKjDDYgMKT\n",
       "pLF/AYNl/SRksWlEVQ6wQO3lVCDuPq7mPCRmw2cySOjBBcl5F6BHZ+AV+Ffkys3tCxQaELjRaTh+\n",
       "N0NPXe2ZgXqUAGPUNv1lbjrA1NnMM97YVN9zULcVhb9EQqHQjbHbzbigcve0l7gMCR+zVWbxvdiX\n",
       "A/1g3JFbhZJjlGJ+ohKKwQzrHw6f263x2Y1Qq6X4lV4L/RixSF/pqWWKdg7gnyjyiIB5MrhUXCpa\n",
       "z6bZxa3Yb/Gfs1+bzqNMaXlZi5mrNc9JDZxD3vJozlk49UqIdd730NqO/EtGFbeOeiCRsmx4OCm1\n",
       "nGMwX1z9zZ7KZLq4ts5kWKCp24TE0qh5xJEBVB5bsVQlSULvWxLNaMt1m2VQ9ICPdRSPCyaqYn4i\n",
       "8/VoRf0ZATkz9b/zuVPJqvy691bOqamP+4/ZepTmysvpbd0yd5HxUxPowlyuUSVE5OBWNI3x2jFk\n",
       "rvyLrU/hFCoEfR7YGyXBpWcsBugGyWSJ2WDUtl5UOH4mGcLvhlfTajkX6I7indDzDpzW4zbsjRWM\n",
       "CVdsbf6UTcY5TnmGJwhI/WoGnzvGpeFbCU048MLw8tIO1BfzipirI0EXX06LdN7DnEHN5l9zki+L\n",
       "qEW8CWvG2Cqp42maouemaHHdaf3oJQoWeVEDQg0j4xhc5+EP1xRxtwLrYfM7V/8DN2/cOt+qdePI\n",
       "fdGNPu6kc8CjqD2iAida3JMGN9dHyixVENVYmqpB5oXhnuo73oYtK/cERuD2JNrqyv0+NWv/5PNY\n",
       "y4DixGbkzREnuqhbzUNLWBCbsq3aj7yGXibqBAzz6yWkir9Hsi4kwTbqDn4A1CKscRGDJuG6uSMw\n",
       "aJTjb4JrXOIDrACKTeVoydIv7yzOrn2qwH3DulRFI3XW+ruizqZIZvy3ddn6MirMNblxEpIqj1Q7\n",
       "lyAoaqeu3zllGztVlT+m4KaKOC0CFQgMwiqMUCPxei2FaEeykU6oufEegEsduxqNRW/+nt/3h65S\n",
       "nfiZEeRUieuwjk4Z8TQ45MjmCEFFsILRf8g/yP2CgT1E7BKp2Qz38jAE6A6KAiY0mD+6GrRPVUSG\n",
       "L3knTxNqdP5CYbvQ76bQhaULovyqNbyxKSPYrZaAnMPQDPiOSqAkrf/gSI9J+w6bz6nAON/awZth\n",
       "8K/d6G2gJCl65JMzbrja+tmzwNRSX+FteV7/mGG2TXMULHB4TeGRn7PDXJnhNXJvrRSL+g+2Wu3H\n",
       "qXiht3d8LCnccWtNqMq4zFPdMqCisuydFZ9HTLUDmBQak7hCqw/tD0RNssY4WrNVpzPbQDoad7nz\n",
       "hHoSUiD5vm4VgaVob5eDMGbr6u3/xxNyNCPnflxMwgJwyaWpMF7IXBGA+jRov7Wjyf8EsLAJwmAe\n",
       "eVpyMonUAeYHYEWJrevllL0LzJstTOLi+W6Y2f6IIzL3QWRgMEwVSQm5GKdn9yIaRS2Wnmb60zy0\n",
       "PsI0UKGVZGHVhkFHhE6kWx7ke9HaW/IfOefSzXx6YQdFkoVN09zzCDyCQocNl0kPk35gsPTSpx//\n",
       "3hOp6P7Q8/zUSj+Tiffl/+Hz5DIkOuUYPO8crp05lvrXCX8u4krYyjwC3w/ygCHjSD5PFj90NCX4\n",
       "PHu4/GVZpqZeIA+oAiKWyHK2Bw+k+j+ISqUf/3TyrBO+7W3qBChe8V8n6IWcA8vMqHxTGBTT566w\n",
       "eyZnfZ5wvpwnmNa9vVWAA8nSR/RAJxhP2hHCCCY1MT9MTrZN/cP2W0y6BzeIh0FHWT+JZOqSrug1\n",
       "VL3t9GANdc6XXPdQWU88IAympdxjIQjesAQYFGgGEBlJZjb1+S37vV2RWQKZH7G4pvuaNpZvowSR\n",
       "rcIaNwyYbmPYsR/EkTP0jhsTg6GXDQOLLngL25rrdE/ewRDyfmQDnRl9RmAnWwFbvOTbaJ6/R+wS\n",
       "/wj+d5dT8l/D+d6FgkgKVQd8UcWHKlZAWZv6mD/UjIn5cZZFFvM9Orj40IjmwrXrb6yRu/lhCCY6\n",
       "0YCVUEEEuQX9iIRsV5I7wHCA2+KQwrxip3WmHDtJAQyPKluSMCYRm4kn3pfudiY+UiIupWc3OzKu\n",
       "Od4NPgyeZ/yDzS0KmVhXXQRwIYJRhRCi5MmJ41f99UoiIwxqNQ7zGG9n6JFH74yckpck3OOQnHa5\n",
       "qNinR0G7RRQShQU/vhKIpdGxYH1+h0w/d9jUR8OWWmlPUNe/eQ1MNJTW0LmGPgEPmxaknJeEqyrc\n",
       "DxsZsF4H95f21AZ9cXhbkWpKgc8OcmMyfiLVXTYNaLK9VRFGODScxjiOgPIvnmjH8Hih8m0j868z\n",
       "rRqcULMsZcxt+AoQIAM3AAABvkGaI2xBT/7WjLADUVBgSm+OwAL7MaLo28A1ZHvLPeCz8pUxIZn/\n",
       "Pkar4/DZH00H557j5Mv+oDBN26sQ3+DLM039qoUgDjkqkLRSImqeN+NDwC+t57NMfINP9YDp7gUJ\n",
       "pmn0lvrN16TF/wrnCfS8c7AG+0R/UmvYWAvbDWUOaSeOGAPD78TtM1hDN9fKFMZyOZcG+AHt62oj\n",
       "e92kJwGcLfiLLVCW35BUmfRCJK2wrH8LrGucX0FNzITUOdrQ/cuc0yxebtxBq+IKJGdECY6B1Rfm\n",
       "usSwugPct/jSzCczEGhCtu2kzGa0ctp8kITwAVrRbpQoipg9h7hf/va3Zg8rhdNdo1fb7njYUzcO\n",
       "gMMRtHZ59X9e9WU99GUf4sABDsdQ/Bo3MMpYtHEGsn9o5AfvTg0zYK0hEVn3GpaWEjCJAP2jQev8\n",
       "zAMCrc76HAf2yyqWGb+9jIDL0hKj1AWvufJCzhetp+sRQR0L8pKASnJKJTMymKvjA8IXVI5Mxphr\n",
       "GVMfTOrjvCcAH9ZKdTLR7oRT6wIerNcVRLFceKCPTQYsZoU2hVSAd9xyvQDQQRqGcoXVJJ2T6das\n",
       "yqBPfVAIRQKyAAABu0GeQXiCHwAP2iXuyQAJ2V8+JNnmQooIyIKZhpvp3cNUJRoh/iPpkZuRDJPK\n",
       "fjmMoMj6ZuTd6XMtHiE6boPAKa6GzOyqgdgntYS39kDI8ugvyicfQWq5/V8KwTzSMrt95qU6/i4T\n",
       "3kvMzVAOKaZaI9noYWFwrxZ2YNtvwsyPKFZ2L6VCBG7/iUmvApRpQy8Aa+8ePY/yEs93sTLCfzHp\n",
       "q8+TWq4wbn1DR3QEXZhyQ9g3wmRyno+oGC5YM1Xh4SZQ/rVvDAeak66ioq4PCruOq4b6OmZXEDBE\n",
       "/D3fTrP0B62yE+zcRPInuVCcC8rY6Mor8L3i9cHKTf9Ppdx/M+jXUQXXxYEpCCMDTlv2k26NpvqR\n",
       "QYg4ONJ3zVpZDqXTXwydQEIqFriEdQz4VwaOohCDh5ukaHNPUzxouSeebAlxadbN4IEIkLQL+b7V\n",
       "RsdXoZpfhavgE6xDWX/TAbYGSr/SBDm/m04d5Gn0sxC9DKxcZQCi1JdPmaxedtl9GJwxyVjMV9bM\n",
       "cb0R0ewIoyE8YHZU6xLd15WcSUBZfCuuGDxuKeW56EZjuf604ax6ImGmjLAk0lTPtw+teWKVWBGx\n",
       "AAAApAGeYmpD/wAjqTanSsAE1dAt4HeNsQBUUBLPFVyENam9bS8L6Vh+XnQUgpBrSgVDpFk5mKvg\n",
       "K3RzbLaolIkq4O6FDNGjGAZd5XrECDBBaS10zMJBxTeyMiCys71M8PSRwxdb4CHpLhUh8GqQMHH/\n",
       "PeDczP+KLtGUhqLQv1crHHR+zjJXDJwAOXPJLh8kM1kpZN5CNv/eP4AMucLdyHVFc4p6+aFgAAAD\n",
       "f0GaZ0moQWiZTAgp//7WjLADU+eYcawAMvPzoqiQRw8TtaFyEov5kxy66IHoVkfo4l1cI0RLlF9d\n",
       "dbUvv/h4vazcpM7l9r5PY899aL6OOyJm9hU4sS+zcN5xqYTQvdIVm99xL7GknlGnn9cfvIE9Py7R\n",
       "ZpZg+5zBNfYPgFC/7+1kG+gwgumxcVuITH9ACDcSGWDR+8H+k+faOGvUZ5+3alHIFw9CcKm8lW0+\n",
       "bvairoBY+6E3T2yueMG0oWletPccpK7oITSgWJD5/v5++zA+sDo/PdWsD2iMoN+J74N43UUIC+oN\n",
       "HFqb8xLSKFikZGXsYIReB4nKYMaS2g90YYmmHRRl0Zz92Pi3pmq0ZfpGj+vx7MFB1Tx8KWjrD+G0\n",
       "ZD6r1jo1KHz7hb6v1bN/Lyp6jSLwAvxhSxpBrVxgVyISJf8gK3os11oVCQbOHnLZ+3SlgsfZY5G/\n",
       "RiXllBLc4X1Wcswh+kurnAAjKKrsi5gsojAsh/PQq+rvNYYaTzamceA1FURYviyRxlvRYiU3bl2z\n",
       "B6YJen208M6wCFEPtBxHw++tpFRwlbeVmX6LTji3/QJW/kUatMHYKZES/U5Le6dIgy0CxCkSOYsF\n",
       "pBLl0bgWzNY4oKVymWMB4h6PlOtGfbbiF5+vBHl0Ic+f9zVB/sdTqYJ7elUqQiJEYChk/SGmN0S7\n",
       "AaWfhXKTvM6WAZ5wBkjC8FNi1O+ZP5LMfPiZjwSF1vxKkz7dATbTnVWl6RKXhb23Y5GwiV4ZERER\n",
       "pEvmCAZf92XG7wwWfHcIFyIxnrsZRAwjxwIAWnuTKP9EWTuSZ2U/HT9Oe5/5HSIkJWQ4HSQ/Mp6L\n",
       "AbG9yBeeLwFxdymxuRwwpYyvX3GbStfQlmQfn1wcwvihoeApxMX92jVQLdTMYotT2FY7cRffxhsq\n",
       "aFwFF1XXJjhw0C8cGCOrlJT5Uhg/GLmVB95neWqyq8q6OGampAJmpXazDYYlk/1gDWKwdWmvcVHA\n",
       "N7l/yRHYzyzEtjIVVbcvjcFgQrqDv7CT1+5YSOgYNnkxPsFnM64Hu6QhR28kyidtdnqUMef6pRe9\n",
       "n2FADRmCiMzlh0z7O55S90yPhGz3OcP1jchHPORZxjR+scEIbamlR3F/etdUVpS0np4gZiaHvuuJ\n",
       "V5nyVvyrnpExTtl8k13zeMIeJIFPGuNz+ntUx5HxJQ/N03ODRbaLvx8AAAEpQZ6FRREsEP8AD91c\n",
       "cgAD+jWAIeDtiF6Vk6pqaVxoijGJOZbWgfl/lIkdP8XAtCBDZUYvvps61cPXHXuc63lIzxI71SxG\n",
       "8l360iikhTvxoiYLgxzPJHJZLVgBYMKgqNCUS0Kqzr4z1YrtJOjbKMM0xtV+XeDrpBufaQGXRwSi\n",
       "XvJdyy0tvMZybbm9z58d9hS7xwxWH+Z9+TrBR0xBX+b08K0gpbUM7RsEO89zQt/H3wIyZEYSxk9y\n",
       "VJkbX9Q1FfVV3MyZ4txz1itSgkR4R1A/BG0eBsvWXrowIttHpJhKAqrqqyNQp4X3Ed6AquBrYMJS\n",
       "orewyN+Gd8RiWXzb9BT47xa0kZuINu8zsfVS484BbZqRynn2vH2w9CNddcg8FXcmsHUfOZADVTaR\n",
       "AAABjgGepHRD/wAjq8nYAJqh6VzX1vzm38GvQBUZwIwXZdPColAcDWyNHSQ+czEEtzGiUsCc+5na\n",
       "IcEDAAQ7Q9BadCjHGUOSKAAX0I7JR4C9KPnaWTv1DKvtm68WGyRhRTg+xbrPJZ03GOClLMJa+7QS\n",
       "J7BlxIFeUXrmdVYf10fTFME/9bl/5I+amubHf/kdn2cPTuetv7CS64EAXxL+mQ3mHUndCRSyJKmA\n",
       "kXVEOvtX6HMiLST2R6aElIVifu4VC6BtGJ+tWpC9xWwtdsxUFvUIfM6u9rw5u4DPeonpZZEE/ZYw\n",
       "mX0SYVJeRteqzeI8TbNrl7zHCzUGmHYU0MsHQKM1aqgAckZVN3ahYvuZ3eew/aTAiBX8j16TC187\n",
       "fSbIYR7ew29sZyMe+N9wM8zGsn4EGxJPm7q1pWye6yBdrIcyhT1kK4IdROmnslQlhDd+Ny7A/3SW\n",
       "DQhL/8yYA6AP3KRi9UjFRH1+KFVKdEdmxvKeLiylTqjUtzyVk5bTpTgswJs/ZOi4oCyZW+47K34i\n",
       "sWjBAAABhgGepmpD/wAjPWBxFHwAf0h2SeUmwMOVSRQXelRsIylhT/NdQ25Yw5AFlsMIAFpSkxEH\n",
       "Xf7kZwY+l+KHr4drWyOTziWUcM2xm0SMKiCBjlkrhsLUZP5NfQUliw0CG3TU0th95YT/ndtC5+qW\n",
       "sWkxlpzqC9goLYO4zhgsW9HxAzcrFsEG34YLne4Vc7HtFhm7he4/mfqmH/mgEFnprdO1fB5rXmX4\n",
       "UD6TPB0qUmMr39pnghdLrb6KJEnxOeXcl4sVWms9sKiM5lZaFFtWRrVzY/wr3moBLhl2ZLkOqFWV\n",
       "0F/+TJFisJ/+5g7t1vD27i4LlGL0noI5LtrVMYupapt7qAp4cuBMjEwbx4WHCf9hTmhURlWCqF+W\n",
       "GXsO8ZgU5oNLR7bnlqgACI2+fFE0QemCVg3usQQCBzRAyCrHxAKGGBD0t4lW94vO7UM7I+dWSzJh\n",
       "du0I+aevPeieoHCvkR2Ol9aYxzAtiSJVy46RuLNL5nCVw37RW3eR92WuVTk/8k0yNWkUloAccQAA\n",
       "A+tBmqtJqEFsmUwIKf/+1oywA1FwU4gATunL9GhgTYyGJaF/IMBjq1N1yySeyUKPZK2Q5PO50/f8\n",
       "/l3WgORXktR4rh6YG/BDxvnXiXWJ8XN9zqmlsDKuL/nqxC7IJyXZ345EcQt+0uqVSCuLXbd08h6f\n",
       "XxIfjJi40dQ89ZaDpkfzZtv80BefUHctKfnYwRDsxnK/+Z5XV4sK+ow36uTFGb9NmPmNQRzSJ4lE\n",
       "B2iuQcYyv8KiJx3uwOrL5oZ/nQkMigcneuQaI1JUsOAs7nAJQzRBWzhOuCggROVyt3HldntwT/ZP\n",
       "T8QHcoMSue2kGyXtnbP9/GUmBFPlUADSwo+NKs4QACHclVCxJUB5rmrPxUfng71A5dFu58NVksw8\n",
       "+5sWQuYWm+P6GeiIZOv26hYlSZKmxvI4khbO6RBz8jKALOSD3GYSHhLwpUu0UOsY/SnUXbwzNiCp\n",
       "zW6AKp82c9DBOb87a7W3KmXzjzp0RvOsFGuABQIG05WYDpFTNertWvS434x6l9cxHcUaPqsqPWtK\n",
       "2zgdqfZU0tzyGp8Eo7sfl4KR+y8/BEbW8fJuOiwN/sgin9DNmS5sUIDc+Fq0rUvRfBA74YWIvXis\n",
       "9Q5TigUQk2yyshX0ioayeEpT4rRUUGpGZgKr28Iablik3MqKBcRqliQmJFfDmnaRhv1/GkmHSbc1\n",
       "DKxEcj7YBXUrA5u7q0b/bph/DNfGsypVJ8n5Gz4sWVbJJF+l+f7l67eY/owz8dkeeQggQtfZ3o0p\n",
       "F/SuiuBvaNmhGEkM3QPzT3w6iMdrhuQkKyuOrHFKIJ+YxsY+cdR4soIEDpn5sE8+Ymb7oGOoHXaZ\n",
       "9WikO0awXAo+acPOqHqn1C91BK/J9KZZCUT8PsPKKSkDJsImp4ch2Yb4TmULz9M4GZxrcgJUprw6\n",
       "mZzKPrs3a8dJKyxa08ZWFZHQT4oERYMa4IChk1H/h+eaL/FFEMaWAIFGR/9XZB8zfonzIHmmulb/\n",
       "TFmTo2Ru9Bdv5DXkgjOBuxvGmY3ksvjRh3YP3B06+DVsjKftiPbwuf8OaryCwIxqll/rX9XvO60j\n",
       "AqqLS9Kwj5oIY3pQJbpD4gO76FRhtdwxFwHsxwdY/eZNnB9ZZBGfXmoHyeUWJrY16ODK0l5Xc+V4\n",
       "M//G3SB6N7ISIm80hCHyb30Qd9aPo9df/sUiZ24RFd4EezwkktRueV+QEQSYq4SOPsTLiGvK7Jr/\n",
       "0EAxwhNumLHVLGiqvlDr1WEgFtD5KL1zw/p+ectXfbIea9dV59F0TI1yKsaL+aSLT04Z8RhQji4x\n",
       "BGD6kUDrH+LQPIJGJ2IaepJRpxqSrphkb4v3y8oLAq41sHACAAABtUGeyUUVLBD/AA/dW9YAEKex\n",
       "jx+1Th6acfSCttPUMbFJ5IzeRtuwK4CaNd8qqbByVImwYcmqilD/0fgrOWz69pvKaV2pAPhOh587\n",
       "w8nZ+GmaWlnAGzHVC6S4aUF7aszNRX3GzdyTGnR/luVx9KjMA0DHQqznu/VvNWHignydSeah/GNP\n",
       "nRy8PEJqESoPliemme+HzcWXlOM3ZFOzOOOWN47nSfXlqZzwIa5gpLlr8F4tSW4uiZkZwOeO8Yb2\n",
       "Q4xPFvTvQ/qttdQYHH2+DPL8lMuXDstBKgFDjYHpigwP5R0BBFVX306ibYhhIS7qTCN4s16VtnC8\n",
       "fHuhaq1VOeVvuQj6AukqZemNjUMIDE6bzArorg3oy8ncKmGrEjAhMtFIq/eovW/CHyg99GvDPQ7M\n",
       "l6cJ5gIBg/sAZ6jjgTkESzCqw+0z3tX4z9tfQz7Rh75+b9NJNdMSf/jKC2epKM8RRL8RyMQrw1z3\n",
       "Px3QHGjef3eVF1o+/cOn6Gk7dYcT+AU/BB9PhY+8eMTdnoVVyUyxnNC+IQreEjrWDuX//ewZeK4G\n",
       "fcTBGVbH1PkJVB5tyghCsylKaiBAAAAAkQGe6HRD/wAjONYO0fvBXMwAfyXEtNbkm6mqtpnfki9m\n",
       "dGDjbdXejrGAUZroXfzJwD3mmrgwuza+vUyyodIsLvFoDKaqKj7k38kaD8CWA1mofKKY3gh1lgOO\n",
       "OXnwSzRjLGh43DSuhP+xUrcMw7NrUN7ROrFoEKLYTjbpX9mdPwTlReEaf8KdvnQW94UsfFMYj4EA\n",
       "AACrAZ7qakP/ACOuWHwU73gCOZidAF+B524dTXw3UpbWg9BwXfJotllUKcWfuk+adERd7DWbKiVa\n",
       "3nSkJ+QiGr2GL+OGUquPHgMY2+PsXe7qqXCuXPLTD4x4Geum9gP+4ZNqW+iVY8/qmoqslBDjhSV2\n",
       "jM5cdvSuHMVGAWJ/u5pYPgwPx1E2hN2HtpDCcouUHsyLPgbbXN5XaLI3tv4iMHbwVcfYUFU2MF7m\n",
       "QK/gAAAD10Ga70moQWyZTAgp//7WjLADUWiLsACFVIHwOnIpyYR1t5U1mbuepvekjy90d2xXXtpo\n",
       "RWoUeBuP9OS6S411/i6zh2xnzo+4jrdEtbwPvJE28ahfA2VDFSiBZuyGOl0sh33h+FUvUkSPdjTr\n",
       "KAQL+X70l0v8mZFO6sFh2jIhk4dD/5I8Ag6EGjHALYnAlkh2IBK2NaDc9mcnHrVRSMUHijHMP1RA\n",
       "+6Z8Wr7NDBH3UPJqSHo2GYlDb3/kgxrArtQB82YFNoywDV+d8iQq1Zf1yH/xU4miREfGrwSpPLS0\n",
       "DFe5yEiYFIBxrT3TzSBpcr4MP4aqMGbXJTqWMzgaZO1cEF++ZFFwWV2kZua1u1DENiwVS58OZoNU\n",
       "HJvArhWld4VkrWq0ZCGyQvHz3YKaZcUKc2C6XqbQ42p1wJFumxtk9PFCyPlmQGRWxNt5OUHtT5ez\n",
       "ZLKITZMrUPOgAtympBsffZo4K3qskxZ6F6ei0Zb/DGnkhPkNzXSBanRrQ2o6Oj0OkcYA+4Q+phh4\n",
       "3oCNxmfbzLsiFAC2KIRl6UQOGbrS5CNFxMIz7E2kRF8iRLnwAyYu8iHcNyxZBhj2e3qOm0xYuiGi\n",
       "QZzZweCr1xtOjTG6NmGJl3S1JbvWhAB4FMjNLjjbjNgVgwcfxmmXTZhdbIU2ao0FMy8y4mCUJiVL\n",
       "5IZNWG1R+c/jQNhzmk+oFfRsEpCDeg4L7aCxP+RgYBgqdWUfEO3ZjK61AwE/gftKrBvCIwqD1AWK\n",
       "6Ki3RJsnWCxTVfmGIbUGIOi1QPrL1TRaD7lVo9Ezq3FqXMioFSIHQF1LDi9g0Sgvo+8T8NVY1lfB\n",
       "zHTMLIkPfx0CrN7BcTH6e93yorm87FSJQUABtQEedkr/xOIMashHp2tx2NpW8FNGLyorThW2FLS6\n",
       "1msD9U0QotIPdBf6jFR52p7SuAnR63LW7BkiCq+gsSwm2wDnhxBXcL/3Rm9JBdxMgLNYlFRzHCuD\n",
       "4nBG5nM/ghyw7gG+DBAwpgEYAbetqeyOpP1R+dODwUF++Pt1LwA7n+WPp2P2AQLJ4d6BIKx7ftFl\n",
       "A2map+6quisvMx20v1f48FLrcd0oGMrRRM0+YhIqEDZsIg8WAXCUWFRxQN6cl0qSIvVBzeLSeE09\n",
       "m2KrwUkDk+3ZJC+iUpSl+d3qm3viFih9dp2xTsqyHz5bg+YexgH4xtFpwJzESI1+G1wMT03blDVf\n",
       "78P0G65zmdHYFBTFmBeNjIOdB+7anTcOuALYn+OjFMDeIiwlF5KxdS5cfrJxJJiQ6sfgM0Wr06Mt\n",
       "UavDQneAW3xXf9jZWdKi0hsLP0pAAAAA8kGfDUUVLBD/AA+XytgDlo8/oNwWJFh7VYZRdQOGrqZd\n",
       "GFpDplHgga/LPrjaCgkOsunyc1MvHqc/S0sfbJB1EO817qTc1ZebA9oyws1ipTesdoNsgTMg4Qqp\n",
       "vCZrdKPXDBtXcsNQXJ5aBWVuK58V7G69lW1fpihMTsXYHDE0612pAQZ0BZJM8xPHD78Oso/7xv4G\n",
       "9LiD37JrUnoj6+EmOkb+wVm5IB8c7zaFE0ab4HTCWGx+HLdcZ8OkqF176ABjPsCu0RN6lOyTpYcw\n",
       "5Eyjubs9PnMzVwf+HxrxO+346VdtzfIgP7xyvztVkynaInKmCWnBAAAAUgGfLHRD/wAi32DgC/H5\n",
       "roucXtj3THBLo4IQ3imZs4j2ECI1BG+z5f7i16vCQXX/TfwQtdp9natPgwcuH8/KswG4KjlGs9Z+\n",
       "4dB5mcpY8JCmO7kAAAEhAZ8uakP/ACOysOJio4z8kAOifJBbHqFcJc08UDhcZTgUbR58T56RGKJw\n",
       "MaL5qsbJHaGBb20/Mn96T893Ys+eJIfFUapbXEt89C66mIkJ+t9ieHrrby8ANpvmKoaff4aAlxet\n",
       "HtqkzX6TimdvZ5bjmhJTUm0tZCKUuE8XylZt8eSAOYl+jat5W1Riz/sP5LYy2dfAf0C14dZw/NnA\n",
       "2TBRtwmIZ2AHaaDat7ONGoYEmH21oZcfLYFkDyZFFaSf85npFN5xtmvkBazOZ7bWZc/iGwkCAh7q\n",
       "Z7rqAxQZMoqVuNh+GHKiM1MKkyIFVRWUju6z0H0+vKOIX8aD2ys66CbgcY9GtJS4EQ5doo67+bm8\n",
       "wwue0b4EQ0Ra32sLJI63OaE4UQAAA1hBmzNJqEFsmUwIKf/+1oywA1PmiCUABOpHOOUmhMmQUMZq\n",
       "PARAgZhedZF51jEOcm2sAe/kywhcxBH0DYdd63A15KIvGBwBsB/H8xdu2kiRlcxfSnUU7Rr6aLOC\n",
       "9/WZ9AV6S6xndvfskS309XUhJuIOvLfnj8Pd3o2nrzWv8tk2YP+LU0vT7/UwyhUq29vBBMZ5sJdC\n",
       "ErXl8tvUoWTSkjntjg60gg5knmbwQmr0cttWNNvp7oyer+iDIa1BbpgqqVcvsgzPI5hqlOA8XPTn\n",
       "e2w1Eoo20emI3TJvfDViqFzK4CAcmgPBeCfxYRSVXcAMqa+13kYI5zuJRHFFNy4YLMLKU1KkuncQ\n",
       "E3sidIPHwcxQZf3/DVlZe3tR06J5VeMgSCJpzt8CqAwfTabZ9JRf8DgadmZGiBvxtrv2GpzKrotV\n",
       "7nGPUWp+6vkZQCoEXRFul4yI+qaIsU/QOfXBIo4HgUyTU0jOExUdx2QadcIdOCb4GF5F2Grl0gVH\n",
       "uphGtV5qYuxAA17Nh4txFiyb7JKTMGFXgJzIwxKCP+5luC0FCyJTHuBiyqrc5IXEffnSDey2sfJb\n",
       "UzutoGftBZS8gISTV4f5z+V5NQ/S0CgWjfDI/ORUqDR/KxPu6yX8JAr5dkrW6AFK0VZGvsknJKXc\n",
       "vpvGwA6YMaO+O/RjfKBCSOL1gTCCkDR2PDTPyL7O5NB3JjWaZdA4bQ0/c/qcfVy67DIi1gUcCP34\n",
       "PxIgDDhqfD3mSY6vR1d51hdTBmdES3bpqE/tjtaM70OfXQJ7fPTe3+aak8mkFisavhE/KRxleQQO\n",
       "QSO9HrVJlGyG21Z5WSUSEoEyQ0PbkSOpn7XEBF2bW5w6DQ38DcDAibLbWrPDTOMqJORhAunzIQfZ\n",
       "/Lc2HeiSTvBTuBeWeSEcsK2sM1j888/WBOTHUykElxIS5p1bl6do7AOeQgrQI9lQyImohv5VzJsB\n",
       "LzaYYg5bNoHZN3Zb0hZg360v7dNnK5h8jjDMCMD2oCct528jVAmmn5hDhXFQnDxFbWTpZJfVXUMC\n",
       "wsoEtA6X2VFREc2+YVmPLTnwoy33S4/3WiCf0tgAiWGOivkT4Hm9l3LqMoAErC86fXLP8EVJMYA3\n",
       "CIFWvtOYmdmXfaI6gJ5+XINukDcSSIRcAAABUEGfUUUVLBD/AA/bLS9bLBkjTFgAX3Tlj1OVLav8\n",
       "YcvSYoqzOezpnZWTmGxPdN0IAkIW4lf8IctSTyl7wWuMPRnDBaaAEL/sluS9DzhNZEuMtkJq1PaQ\n",
       "yCqPkSmmtG0IkZ5Zn4JsC+u7m2lc2W9uPchRqcZayOTwC75PEJv6p7of2UsIoLBV0d9rLEBUP+iG\n",
       "TiQdYXRupVoCjacXvadJT5HVC3V9Xh1AIjuJre94WqO29h6DmgyZ0ZdzgzlKfiku0GI8uV/ukCTz\n",
       "n/u2CVok75bd/n9Xv6PECgTvqAaT2RyJ8y/nHHGRg1o8yV39/hwCTwjSm+QKGUnBksAXrI4x0qlR\n",
       "bHl8cZ/bcUmy8wZDPYhLfE5XKcdf8SNaZK7FBStlbJIr6Lm2aZpApYg6Jtfr9liHoPv9rmT9Qm5/\n",
       "jm4ru5SVCRNS64HF/Q31Q++MebhEgAAAAMUBn3B0Q/8AI6uR4AWC11ADooSxJczez2cnys2/XVfK\n",
       "+3LkFdD9guRxyGGY/rMycmOgEgarXDNsq+Fd7DTnllHzZ9sesuO68LxhQ5zKLeSny4Ei9dhZ21yq\n",
       "prVd+7VZTt9UESBCasbA+RT17pRt4laYNv5oh8qeLJWVkSUqx2S2Dojaj7XliEVKS3b2NQGoBH3T\n",
       "HG+m5vD8knQbZZ7rgFjuceq1akw56LOpdQnpsOsdvQiRupsZLaqcln/N3t0oB/s1/y/r/QAAAGEB\n",
       "n3JqQ/8AI6ip8MHmv180AX5COSfz6Dw8O2+EL0fmFNP5kfXM9t8ByRYrtgqTsfNi7FsjHgHh9npG\n",
       "2ottgNC03h4HpSZwt6o93/SeQnML8ReIHuhDq3R0EW7JaYr27rHEAAABoUGbd0moQWyZTAgp//7W\n",
       "jLADUZCOwAS1vwNqWNJa3Jd+Wi9FVV+gNW0MBmQFZd7rbsi1QlyX8CPVNMLFk+K2AZAYbN7RxAa3\n",
       "Hc3bvQVnyU1oFnr4urLnIXqjCu1EFuQeQ3vIKcB8CftxygXaCKmXgFlkTtRIpLoNV2//VPi4T2gr\n",
       "vlbBA13qNU5FP599DKxvir74seH4roDUU//0yUsVxI+aaRaM75OgxmTACHBEMzLwFO4wk95pCezd\n",
       "ByAffFgwrfUHowv9fbFG3PEROlFQR2dvLh4Vf+Q8D97Y+d31cohfFAS3atGlp3B4jKqNNPAEaIIO\n",
       "+uachCQ6kvpL36sIMxbJjIJXowc8HbnYHqgHitXH4JWAUxTQvX+TxMV7LuHOI0eyAY8p8MdNilaf\n",
       "anl34KWqvQQ1rrU+a+MSDJDkH+Qa737fKUpHEYr9u0wsW7OV5VNNxqaz4q5Z5p2uvUGNpQhl1mW6\n",
       "jjF1GJMmhFI//84rrlly8gwvwQoz+E3EQKMizeMNxSJvaf6cs3pm0R4OuzTPm3xgIkVA7HZG6/4T\n",
       "liUwMAAAAWVBn5VFFSwQ/wAP3SDMAHGV+7CuQA47Yi0BWOadvx3uQy4SMwbknVC107duzyZ39gbG\n",
       "ldQkCIgdMjkTBEOzO3zBMv5eYDkdwhRhvfMIIm5FF2oT3iMKBrORwF2nNJul01Gw0GcIjTtaYsLS\n",
       "KCLutLKK4FDNFcT6YSpiVE/LAJQrkpiHpJ83QFZi3qsa9WFRfo50hF+YGbgTYhfEljM8sQZ4txZS\n",
       "8AM1j61JhD0Usse2Xo+tX6jHlNxscR0H09AHxejPRRUUGLZLk0+yU78+xONBZLhq7cfIkcg512yo\n",
       "D2X8MxIKTY8MHdR0VeA6ZdT2u3Pq6uQAI0vBcpT0Niw2bBJkpOUlHyU0VPF64n04aa7GJJZCYcPq\n",
       "Z/X2DytD90Vo5r7gjCiGIL5GJl7rRUSn+rAOiGWC4Zu/FXUZUwCfgBOyEHa+IvFw7OrdcFvOouPe\n",
       "1Fc7fK76LmiU2+v7axQV3uwxz2BmVOEAAAGFAZ+0dEP/ACOrktOUR7wBHQfmv1YF1ZYSDzgz/XMX\n",
       "Y+MEs9ycgYSO2VYu742Bt5dZV86kyhktIzGQTY3C+rdSNc3eermfiI5BVPiVfDT7grHG+ZEAGh+o\n",
       "srPDakFY+BTpWMlVdTjyidIHi6Ne1bwsE5SW4GYBQZFqJ6tl7FS21sl5sgmO5UseBqIC3wFjNJ1l\n",
       "DFr0M3O1tT0LlWDh4jj6ahZW9zk6lbodriT9EkHE6aynGreY/wxOVGRWExT96yQDVLIB0AZ4GEEl\n",
       "a9HYl+4xt9cCoHY7kZppLLbsRDNVz3l/BkUbeQPfc0f8jptFBuJWysKwPyDU4/i5jeJTKonjrMk1\n",
       "erea+8N8CcvsQeURpJxwxySvv4KdaVfzQPPEoV2p4hq6nsy1y6GB/4df4cEz+YIJHy2cA27Wy24q\n",
       "HsM1rQQWaptAVKYf+IGSdR8eXgeeuw4Xl0GoW8oi5NNyvcrP+PLHieQtJFSbH96gC2J3YHrFaQ9r\n",
       "ujbNV7SpIpavzY9Bpfir5EQAAACeAZ+2akP/ACOwasI1/FQA54iA9CKcn/JQGJv+qvhXcEK0mozb\n",
       "SyTLEbffdPdDnd0W6jbzLAmK1XrfufLMt7ukAQABq5ayrYfYNRDwgnx4aM9bJCvW8FKVQrGFxRsg\n",
       "pZ7Yf+B4UZwXnHYNJMKqNqbtdC3BHt3bQiUlNacqVvpL1p2Go0NbCXhic5oeRy0oyogwDyAbMUOa\n",
       "C/cTBjVUDYkAAADyQZu7SahBbJlMCCn//taMsANRZuoAAh1GYj9IHAR8Dw34n8EjzvXCtkRphYkA\n",
       "nCWQFzzdssGSFJ55HrqdZeEeLds7xq7/ZCW+K2k9AD8i1T9g+biUILJfIH+qAJiTXH1XamkOPbHs\n",
       "Zy3Hv9vMr3d8/rlfkcTnTKfUVPzeR+SbL18YnHleq4SqM6es8xfGNF0rRBTHT3IX6iMYJeWZ1rXT\n",
       "V4mLDdawvRRLuO4U0BsQSyVCF3C+84eO0wEYfDES9h809X6hkr6GsjUqD8yZ4F8aVmlzev5mY3QU\n",
       "perE9ICsKhpEjemfc3URn0uU5fHylT3C9I0AAAGDQZ/ZRRUsEP8AD5fbAAL4bAYSlVaA37Et/65W\n",
       "4wHjRrSnpuBcy00OQDSAl4Ztsugn8DPRAa3whgVi8ymVFXrt5NG1pItPtKc2bP2hadjanM1nkcfW\n",
       "IDIWEtPAVT7fJNIACJin2t6wrlbQN+Fxt+nZeFVnIe+gv/QoerWm5ttkWnglOo0rEd3KnQj/rAoW\n",
       "omFDNkmDMnoF2AHY1n1Z7V+sDEsPYjBywtM8CD1DE33uiTJhXtQSVWBXQyt9AhfxZXoJypx8mC6y\n",
       "9y3ZzC1FXr7j+HMFkNnA5PoVh4V3NtmVuVyTHodE/X9QRxLHm880fiZr9bAYAoRXIf5hahddtPWD\n",
       "3qtOOm4LSinExjCQ59CRzKL1kDTDLvQ9uZPB5CSbreehsPNN0pXfe8aIuZgAeVfqNYGgtbB2rwBt\n",
       "OCatKQQ2cCJASoJEUWSd8jxRomR0V8trKJQVm3gG3OaJbhRm5j/WNabXkY7VfQVeAw/LQcMFQ4D5\n",
       "qlqV19EgXPGA6+bgMV0Jepo9AAAAoAGf+HRD/wAjONYQYvMyT3gC+5jxb45PaiR6L++ed+93hU1+\n",
       "LVL3es1jGuR2A/f4EsMb02/4FSGZ0el2UJ/kZl0/A++1sl9Kf+PBUcMjHvw0mHuQVFiW6/jG1gZe\n",
       "Sh90x4pb/+maLKdjIvnwfxpJlAc8ljO6XJn/2k+RuOdDihrheKQLoR5Zq2zMILw2RgrcTkTMe7vi\n",
       "PF2JvIvkbn00qDEAAAEYAZ/6akP/ACLfYOAL8iJwod4vO3Sd25wxag5cIDYMsiVmNwyYAjFOioE0\n",
       "Cy524OuZB+U6qqdrpj/+lLXbitznsQW7SNBMlWUQwbmG6f/m0S7h97wCUavsy00hR3b9s6sw+lF6\n",
       "sUBpVEPveveGDxvtp8KAy9vDcfs4dQbBU1LWTpcyK8Zi+j8KoXOPLBjVZ4CecyOxC7+EmZTG9vnF\n",
       "kS/IlIu72pZnU50xIvNzybqrLYaYQeO4SvfIKPIffq1H0686EaoV9MSeM26ZNyeea9wJm7w5/AYI\n",
       "wEY/DM9AB2IVfK8z+L5rST2xNyqmXuRNmcXLWt2SocCzHJtYBliJP4XYPs+A7N2MN4FSA80ywFrf\n",
       "twe8+REiUJzn+AAABpRBm/9JqEFsmUwIKf/+1oywA1HKjNAA2pzTsQxQfvT/h4fOXm9mB//Y9d7a\n",
       "94rgDdQUdJk+iJzQMocE2xS3csMCE9L74AXrBnzKMDKPkRBcu/KG3Wpv0PuUa8vUXMi6ISxZR2Io\n",
       "SGy3P0H8iNgeG2DBE+ZLe5FkJqtfz0hdFIxwzf3yUtE+UzZSLBYR75MvrFUIl2hbbiyQFUBkOiWw\n",
       "SEOF39b1iKYXVKNYypgeSiAOKm5Vg22210Kx17NgP+ovaxkPQnBTmmxe/CbVieuMT++hnyN46XPX\n",
       "xfi1bEdhsFlelf6jjFKMCRrfuq2zaP5MBl63ojM8T4qpQcLWgbY688//5iRBcyK7JHPJJxp8Vnmg\n",
       "aeyFy7kMkwrwMlQRWIBsdMOgJ4RPJKzo1nWcDCXN1lsrARv27Fsbq9yab830PVM6i6uRZrd/HBdS\n",
       "N1VBCDGTTES+FXAabFV9gbCHXI7UbScl/rosq9mGO9GLdR6Ja3DQUwnCefwJ9A2ZZSC5OhMbu8DN\n",
       "Ui70RkAwGYaAFG9qmewxttbJ8boqckT1faIRhBaHm803THwHV2Ml7hCJ9SHez/YYxORGDnuCQWV4\n",
       "KmOiUw9SL5xE8X3H7YYZ40fBu06321dDNhwV49lpoL4mVBPiJRFgAXU3Q2p8NbDCoGv8o0fqYK+R\n",
       "Cm8H3jmkQhLrqIBj7OPkAyMAmcUD9dWtj9Uv2e70xK0mLXIKYX8epr4Ac6nLLPPyA+/DqLKsZv3A\n",
       "l8BIyJEWQXDmamaL5XyN3v+j5gbG4DJOAwiYM7Hf9C616Az+9bcsc0UX0lwV3PvjB7coEDb53mV4\n",
       "SYehwCvaHeT9SvWyZPCViS0FD/QwUUiMe1/OvV1aLg1avyhv1Ouw0xKpKDDVyfS6HW676z3S0P7O\n",
       "CH5Uwva1WOjSePouRxIqKJ5KKF6osHC+C3hp3FClnHlxIoZwVK+BvoEqOYcbp2+6u6xRY6d1A3u6\n",
       "VDOOOykabwk612QZ8KKsdKj5ARaz+nWr6r7PLJ4nN2Fx1Ulyvu+q4UiB680B4r/BblgF2tBBxqas\n",
       "MBlWoJAPY2UhbfpahUcWTxkOjf+YJKxMBFlesSnA77AKgAuAumFui0je7OaS9/pHQunKM+t3bDhi\n",
       "YkK9RHKvopiqik9Bj7SdaMy9GZCnPCNmH6prJS6rAAykCkfPGDZ1KME6eSa8Fv8+sBjYI5t1biJU\n",
       "KVnrOap1I3r8nDgzLl2zLJXv3I9ra89YkBZYhbdn3jLc4X7nufSf547+h5YX1XMgrOwzfQuS+5wL\n",
       "Ti3coIIPrRt6PgA98OViMCOIbdVhckGo7asKFJxhta5+3sp2dzoTSRkHk7EIbJWrZppF4acY2ezw\n",
       "0T+cMfQDCgsqQKQdpwzn2CHLj4PN6kpTVn7T1IVDzCryfVjS0G2ZQoxheBAP/uQ4bGWxRCCCROtr\n",
       "xkWzbcTmy8Mo3vrXS5ISRttb07zswBR0LJMa21zsWe5PhuAe/wVDvbQq0IP7iRpQ0NVIGjVM5omi\n",
       "umz55XWY76wA4KpOtXtPeEM+9PxpUiUQeDc1iVPIPL/h3OLcSvUICN3FuMaYFxUsiTI1UYJkVIqm\n",
       "UuLCbiFXtQxScNmyv8dAq9NdD9vLxwzGagKc2yyuimlCO+7kICCRh+Bc+9c+jdXC79kX+QTDh6TO\n",
       "OasJ+u48kbD8dxaCL/ms6M6jX3vBrKy28BmPyguVSMPOf8K7RAp9gNG4LPXwcf2iTXTND6g6164G\n",
       "Ay/h/bI8NQ2JoMXbt3cYbQ4ImlBNJ5B15NOUJ6MFxICV8mXe1Va6x0P8BsLwZEhSEiUUMACmRm7p\n",
       "taIWx3ZqctYatQAjbjP3YeSmzF9yIcxWff+RNsSDqX0smNYwFs3xSmtmo/lgyFhF0nFE3k/65yPO\n",
       "xGDC0OleX8zGblQMrovcf0kM7BaWfFLkQKfYKHiiRV/KmAzQ95zs1chg4ces2dZ6WEBAZjyqCDb7\n",
       "eLkY1nOX/M7nJqb0qycSZ16oP/S7QNREQnkHgzgYVU80fEt2TK3EkAIrdyK0BzwN4NflchQN7i20\n",
       "b2bVfxRBLYheHM6U2pdNzMRJA7t/bRxbwl4qfbFr4rX3MhZcScrBxNKKyae7hkHmntsM1p762wul\n",
       "J6W/UiwPorAiZUFo4NGlcs4jUy9W6H9c8zG+4cC0G3K0DU0y4qj81vnbdXNgFtjhlE2UHo5uja8m\n",
       "I4xBK4XHm6Qq/LXsWKwCMmxv5Zbv6956KzftsbyOQF9AczqVhs8/T5e7G15VAAAClEGeHUUVLBD/\n",
       "AA/dIMwARB7GPGg4CuOINVQb7juEAv5f7alRxo7DFG+KNgdZbhcgBASnsrSF5gyCO3Ms5nZ1M9JK\n",
       "tDP39nqtsT1ocFx36YkzrMvY+K5EvCx5YFw0bddnLNzGx7xYNJu1QlzyWTlwflEV9dtLzzE30wfh\n",
       "sRd2PNionPLULlkyjTtGh/FdoRUxc3tAAX+Qv9BizFaD4+bmqeFaHrhiphCHhtvaoLxxxFNPvCBJ\n",
       "nreVJ8KdOEr3aqnle5GpskiJx+2NhTn2/emZDmbhDJ67m3wRgQpa16Ao277xQlGTkI5O0gBPzb1M\n",
       "uwQJiTJEGqA5jSov7kA1c0aoNbPJ5UwHzVKZzYXuK4eZw5JZt6JO1iPd8MKj5QpmOJARNBTquNMA\n",
       "Kae6pR5Ryc7TRK+oppxM9h0FPwPC2pJIf2snhkNGxFw1BSP2lzPTMtPR0ammB73AcQKJ9QKmh8uD\n",
       "j7r2EjNP1FyNLfemFwBm/J4RExXotZZornAqRRMVa3Y0MMTbgEbUmLMGKpV8fNScocvz5cVs6IAM\n",
       "wM/sM7CozmlSBD3OoPDjME60zJaeD7vR8GH5oRkQLZSzLW8MvAgqG/Vfrk1gkEMywv3iMKCutALy\n",
       "YUNBmvmOEvCclztDiW8nBkrvEgI8yDsb7gH9cwZ0CqdpCp+kz81XlP3gFYMv8gqFmiI2rMU5e4hH\n",
       "l1GLPKF/0wjzuIryeiRNuv2mjD0uYDxj8nXCIWw9R3sUBC+/zmZXcKkTB/i9ehBAnYmWhn1LiEkC\n",
       "bYYC43uCTZlfdSfaEriiiOTXLfK2tSDW1rK21FEbcrkWt/Z51H3XjUn2z+QkI+BsNrr7tT5bgPhR\n",
       "j3gvXfGC2I//t0zhV13HKrvZUaDP/vCZwQAAArkBnjx0Q/8AI7H+WgA/o8zyDRpF4KNfD+TEwl77\n",
       "VBm8CRdausGzxo1IB6Ao+/YWrX36STdqpZdlNrppRK2tepRzyA7HeEPbOu1VllxIS7JO5VabWwmc\n",
       "ON+ZAp91onslNAyyKnIk5yEJtiblAmMzqx7V5Z7Ft5GFMhpHW660jAWIszp6KApo9gcmRyS+ncsx\n",
       "D1nhA5BqSv48gAdDg8RkHpO2gpNe2PnoNzLPJzq2N/6erBrY2Mq7i/3qJxbLGZfS6f+YjaPcWq3y\n",
       "hlWVO2AgPAKp1Rwts9Qp8hCpJlHRWnF68XmUswejp2IIhaAZCXaJL2FGahIdNfGwVQC+KwsWYQOv\n",
       "rwjpyHhrEO6MZqlFB74C6vee6EBPOGBO2mYvq6XpF/jXWhMiI35UKPpe978dh33JoOg/Czlppa9a\n",
       "UQUZuhPNzRhIx+Pizm97KSprZIawRRxQz7ePECbpSHS/95CdGjpr9ij7KF1f3J7uKVesiAxd4ljf\n",
       "+cK1yNI+80s+5jhGZ6bvc5KkSrMPoFozBUlvbgPhnScp0DcARHsU1NdvzJsDJqwUGU2NqTKxRT9S\n",
       "zPdm4Fgm6tVs7GqITRU1hhx9YBzJjxw/QvXn5kyLG5QTB//8lsUFLyoep7qA22ls0/r6+1UltfLm\n",
       "+nwNE3iYqz/+nv2sFsrKIPP1Tdww+43i+lGtZ84JPOoB7lt93K0oP39ch4NcavQ1R60quZ4Ztwdg\n",
       "BTQ282TjNvyaqkwDpSlVzaaq+uZA1cW8aaL2HDogwBIDeYMtJqEfx2dZfffESkGJxNEtxcDqdDcY\n",
       "xFauxOPuSBckU7Yf9/fE39N6w2qPjzenAOwIuxyDpX0n80IWLngS9nbPvwwzVp/yBQoTcgx8RlAQ\n",
       "+7rO/SiKdlVJxdEpODmFZWRz83RA0FGc4j6EaL9BIa7AWYP5yvnBlOuAAAABbwGePmpD/wAjjQ/m\n",
       "m5H/z3gCOpMR0YMJWlUmDcD/oB/43egZkpxavqHhN0ZQJ5sSZIPl+pumOnw71U6QrFDxK1OaHPhM\n",
       "b0dG2yJqxARHH/ZZRwjvuvovthamWwmsg37rpwjI2my3lSf4g7vtrj6SXcpOML1K27H99qNiZPC/\n",
       "2DpwQXqzCPVWS/OiDI71SRnEBjF+AdlmAMKwaqsn+/n/ryb6uQL5ZzZCeq2a+u2dxYHfpwT2+0GT\n",
       "5C5fC5vN0VIHdtamIDqazrQ/Ea7po1oQCxMAV/MLQ70TMBuIYlAQdirG1BHbvQkW3Dce39SK8bdN\n",
       "ZkWH6NzK3ySIGOjMZWIJs6tHlfKp785nOpkZOOrDtMkGUlo0JBwOrVIv2MSqRvF7G4k9dl1QtRF0\n",
       "D0G7GnfST71t2rsMcQoWozqNNFQWT0asztvHAHVadBZjBN/aNjodpgfz+4FJ3zpYH/CWDRBWDOcM\n",
       "APIozE0EzAkBI/XUQDMAAAddQZojSahBbJlMCCn//taMsANVeDOVWKw6SABduvnCMvWUjeNUOvTo\n",
       "e4nCTp2KVeG/j1LABUH7MuWzkyoGNdBbcFp7fjmx63RkJimy29xEKYYFAc3fjjBeG4wh7mIBV7d9\n",
       "5SqiFTuCTd2uVEcIg8LBvKeuaI2PZ/6khheV36Jq2SljaLVteEWf9iMbK3V2e9e+6xFA30Om/BKF\n",
       "rcG0nAuDXvHX1RNpVPwo8Q4WXdbVODHCreqYamnRXzWEtXNFeDL1kqkWJqrb0TaF9psg2akZlA7X\n",
       "ssmhyDAlSwRV2jYygKgxNL//8cENKQctsOdf8JsPxG2ApYAfWh+i5A3X4iDGkhqJvkq4JzCzql35\n",
       "R4TflDepzQk11IEiJRvd1ULrVs7J33xLGCJXhU+OhDFfMFmPfc3OpvUJ7RbhoxVHb4usZmfPN5FG\n",
       "e+RN9451oaoQHpem/dVydAykpHJmHshZYF5UUXJ/SyhfR9QeWC/WrFOKcNSCIidqmIcGep0ic+2I\n",
       "u+W0wk9wvvbHBntDOn6F1kKzgByYlLKauwr/ehFLAA5O48qznfkaRZsCR1tG+KPD+wrJfaiWlyuQ\n",
       "JvjSEhF3t5Vkk9qrExnrGZOtL8h1Ec5BCr7dPRDtFfw3cLNhJpbCn1v2JTKt170KO95+J8xyrXVu\n",
       "PUEtpHKmrbrRfvxRg+XH3ht2ZVKXZh9aTV1gw4O91ZqOYDk2jqg38CVBJ5cawJteU4EBHnfiDRjt\n",
       "IbErdBigtgzrHyaGxvjCQZw/8hGwvXKe5uzPMlx8Odtk2MUShh40xroy39NFWwGEsG9s7q4k2jA+\n",
       "dlN3E/IpLn5RZpInGoZzEtvNzXvyWtSDbk2LdOZt0Tsf4r38r6gjZrT5Jxo5IV4lhk5uNpsuRY9k\n",
       "TXdEoZMcPNsZ+qg1oEmhzpi4PEafRPrsFeQvRI0S3La2DJnQ6OIKLEfxiHetOrP3JDLCEefEATUD\n",
       "lbTvk0anHBF3TKmx4w6wy9c2OrtX1JeoQOI1ExLSdm7YUGBk1n86OHfWpZWMWylwIovfAZ2LoRsA\n",
       "Y5ue8Dxt7KmDnnFDTiL3p4G81v0GZDwj4gGe/n7hMHwTp42DyCI5cQmu/NdGKdild5qihBE+ow9B\n",
       "vKcvts7UW4ssb04os30ADafx9d/hEMI8xuHInV8gJR3UY6oVQE/j7Czd27iV+sIA4SgO6pvazVOA\n",
       "Ix2v7ZXYvMweoSlaGU8+thVcgM6yGV9g6zL/q44elp4xa+t9Efaw7+vPkTpnKT6QnVLmCk4lIB7Y\n",
       "KNxG6mTzjROhdrCxUN85Ph0Vkbd8pYqry92fEZflawCEnbDKuY4FgX+yH+dM/r+UiafckmsIs7s9\n",
       "DwdqoyjC2PNcm/1n1rnPsHRLHonL5TLV1F2spu0S9A4xrLP9XkIDKOm6h6PmTjRdBdpOm/8C/hs1\n",
       "4iLZ7mKivnHoEisUmOcBPKfFGnr34w7Obh4+bFyfGcnfHFoQ0S5DXUaVKbUYRjbujoUhnra1BDvi\n",
       "1f4IWRu6aSaGkMnnDOK1DTif7G47NHHs6j5LLJP0CXiuCVW/xAcy6IcLTEOFm7aWUB1rkGApri+o\n",
       "bO1f/guA+OduZEi5Zz263qRpKBSIXLQA4tMsh7WPk1hWzPvsQgLkH8dqg3Mg1oPoFxbPAQOkYD/e\n",
       "6FsWjKgLuyiP6koBiZvWupjSoOKfcvnsN5kRRcnQnbpI9Y1/Qw/WXu3Mz77w8lJD69htztUUhgGc\n",
       "RjoHwkR2lSu3VpHZAW6KYpdIyiW9n8rK3Apj9Mt1XoCCeqYfaP+U4/a8N0RhSz6LxgWLhh5UJRQa\n",
       "Z/hvq4ADhyh6SLDMV5ganeXw79oUlhhqa2M+ZV6AyBOT94yTpSaBJ1Pi9XgTtE7+3s/vAlILMw1p\n",
       "13lhUjooMvP+D1UdKEqO14R5B98rweeiGQenuYhpF3DyMtIc9xH5Zsr7yBGeDdjPpdwd88fIxfF7\n",
       "SuNI/G+NQBTFC2Wl2AMyyQJvYg55VhkJZG4T1WKZoxE6ire7XWLGyhR7b6uS7AzqFB1RUuogguds\n",
       "qnQ6F1hECgJG/hjakoUXgocVq7u/0P6V2rkbFQtZ6X1Cg/lkE9LemfhTpc4IwZk9cJesC/7XNetP\n",
       "NRyOFyHYuNKyfFxbEVdIaCcp/401ziqEXqThdLjUALxxZ+CeDpvZyFYdB4eIkC/WgX3fdnl2WEpQ\n",
       "2qsQlhY0VlMOj18foamGbhoJLMjMj2FXlpXTpqfJ+o6rtpqMGifrEXvHkY1uVKSrbh4x8k859hHO\n",
       "Enh2cabfxM219MsNMAi1CZAhlhh79U75Q9RcAkZsmA22IQEIkFcDvAzVBePc8OMheojfbBOj1kPQ\n",
       "x5McFRsfKq6QmuPxIB2rZ+2jaIyOzgtDB8rijqFVvQ3GI2ypAF9JivjtsKlY5B2wSq24czyups7G\n",
       "E0Ujnja//CoPLfkt7WUaJybAKmAHkp8stGAmCPPNsaQsWC2uDQ+kgSxE6dCtQn9+rdKpyQN3UqlN\n",
       "5pDMWWjpyD1vbE0N/iZulhns0dclwQAAArVBnkFFFSwQ/wAP3hJ+ACdlgVzfVEZXd4+tT3gbwbF3\n",
       "3kC8id540t0XfQmn8BrdKAzi7O9PdAmFHrh39pEWV1Nut4hrgScTarQLgCt49gXFHCgX9sdKu3AO\n",
       "vlEq7NHCRfWXEyDHoyaL2DOf0UkbgaJqbjnQXo/HZ+9fson0SH2MYn1IqKAwLdY59juMZEUx1jcK\n",
       "uHZvswPwf+/ln5jzmcSAOSfnmsR3Ic0lKZudl5hGgAlZtmOWFWrqrAx7T0iqMDmk2k1rOvYv36Mj\n",
       "Pah3vVo3fvrnvy59oG4oiqVfE1uViOFkFwrcQjjWAcJeukMEC47jF7zOBrIjGhScITezBDKNdQ5I\n",
       "ZZGkbMsUJrqv/kiaQbd4o7OCbedOEW4zLazRYvixdnAgScrzZl/F0UdTVYw281QUI/jF9sBIDPXS\n",
       "b0qWx9DvFzcrJLzycJonXjQdHtMRGnKtLWqklePiTFnSWRnwwPmEMxOFYhtoeFDcOmlxq+beEpTT\n",
       "P7A2IBxId3DGhgviCZXpjK11IPEAA9isJJAjHHJLpUYCYBoY8naerHaUBtE8n6DhyaLEAOlj7vde\n",
       "QjcXUGmrtdS176ViY1A9GzaxAuW0iakrEKPcBSVE5u30uvhsXaQn2Q9XrUXd90ilMQy1EbxW6C0M\n",
       "eSE6ONNbg1t6Xr7DfEQOTByU1AuDxDLJ761T+s0Qv8TaTIFGmNaBEMTuMgtTyFNggyOQJY2XGjIh\n",
       "V2cZ/CX/7TfvNUVfeW/eOn1TL0jnCbz7cOIMolbOEh8XGlnrc6/Xt6s6M+Sh1aBu/22k+Xv7hebm\n",
       "mpzmhahxtXTenDV6H4wbeiA45GXppuqaQ+ImeQpH57ma4cGrJy2PuBR54fXgiQA+ltdnIMUo1oQx\n",
       "zbhMDW/mPx4w+piiq79EsucNU2xAB1nT83+cMAE7lsx8KYAAAAIkAZ5gdEP/ACOxmN0VADon55k4\n",
       "V7I6fzHf7pqk3HfXbzKlcLiLBZ1KJhvoTnnMw+AIQAVkhPfu3g/34/aL+qmzxeKLo3Vh35Y6Ir4v\n",
       "5ze3umeCPypbii+cP0wwdF0MLLHNgrRX8hAUW8ZHb/P0SPp8L3XfIAVoZ99wK1Z6ykBM16xW0s/k\n",
       "6v6UMguVGVLlZ4Su8ybivs7+8Kmh/7SpmxZ8jOm3xq4o0H92NU2FfWZLOT/CPDDb13xKMrhFRVpV\n",
       "JNPAp/lZ5TYyUD3GkeJRYofAi9mE2ucdY1k5H5M6W+Tfo/Fkstiab2Fvk0TZ7C80mfPlMGKqR6Uc\n",
       "0ly/23/Foc6dNLEsfcTcaxd8WtM2eNchH6qwBnkCIVOO3uHMQrzsmeXHGgLaFZW/9Xfuaao0AFtn\n",
       "U5HPRMKCZ233AVGx5aWyKL6qCs1/HtIQ/0r558nEn+lwKutDFR2nx6NmKIT5LD7fUIO6D+rpqVu9\n",
       "svFhZklzD/s+X9UMg1x4PjUkOR8YjD1mkR0VPfcpISClMRUNHlFWJOx5ij5QbI0QR9yyyXBGRz9h\n",
       "e66wwmX8eSi8v96hikTcbEkh5LVdCZdfv+zYxl/TGsHOTULlbOW0xqRkiZuqk1atkNFCZi0S5ixb\n",
       "WV2+P6NdupmzifcJxJIkFn2zhKXPSXaWRZmwTLTxwXSyd0oSbY9HZA4G+PgUTDSr9g8XUNZWIPAY\n",
       "TTdrTMI03QzKtlHuZboVu3kAAAI4AZ5iakP/ACM0BXbXd++aZNgA7pSaZB8UVsCxpklHXJvKaQMR\n",
       "HuNb8cFdPRfgAuTf8ChPZyURsW3IhCWC6dx5FoduKfBpXCtju6G/3CV3FanVbc/00aWeLGf6d8P4\n",
       "O42zzmNsmGG9SmNtPVFv/kjtag3OpePyR5457zievtw6OnFiZgUj6MXqVFuIWJMkm55Kj0SzvtX/\n",
       "3CJo3bdhTFMkFo2k8bmWAIqQ1Dx49GQdd0Awqkz4Y2fkSMu5AKYyOaU7LbwW/akVo3eHpIinbOSF\n",
       "Xj1ksMpKmKMwdzu1HZszJZRqzuv/puP+6Qv9n1nzrHqll9rkhDBTZKTX1mHWtE0CTCYsHwTGMkIh\n",
       "aV3x6qqRmZ85htIRwU0jDo4wDo6rqNHB2Vof1/s/1WtVFonys+5zxsRb/h1HFfJAppmVWqYYZHYg\n",
       "5mTlX3dt0XWvFbUIUFn+Zbve9dr2ppP63jG8YnQSw9so1yO8A/7vpq+XVX274p0lD+hl3p4SPSxT\n",
       "P5PWOrJ4WIQ/HfVv44GQJTm0wik4poOhiKnwoS7iKLHAHbF6zqt4DdH/brE9IFdQnU+d0qJKR7fp\n",
       "2FFoZYPnOv2iIls553tFN8TjrpgH0vNKH9XPdDwOOKUjkzTyiIAA8hOEH282GJeE73d2L494WN1I\n",
       "eyUAPy/jd/QkjXXLgTfPFISKVLNDRTj7jlqi6EJERT50IWFPxaQqdNJ0uXsOAWDulxn3+f7bEDN3\n",
       "4KzOaL6p4/7Y94GgvRPTyjRPRQAABMxBmmdJqEFsmUwIKf/+1oywB3Gs8wKXWAElfyA7Qu/ntESh\n",
       "68xBopDdKAwdxSWh4+OwAfVnJhVDJb8HZx1Cx2Stay3HkXAx4TcN/hfYhJCDKZ18bgnreMJAS1jY\n",
       "H7F8IxgOEEbHjh0/0hui6UIS5AHKZLlfn5Eb9772Mp8PL72fBg81SoGt9TDnZmCVd9hlxSJMgHlV\n",
       "JH87ERizXtcSg59V8CKrBRzrYuXDLK+hxSDJKppeO/slNA4lrHIs6CjQKSTyIFsR6/BQhYeC4iCD\n",
       "Ki4d79VuRYLzv5SAsGrOzsmh7GP8UoU9i+KgyYVAKOizS9AczsiF1nJBspiE+AnyhNCsEAjj6zHo\n",
       "jZHkvGGoK4vFVnUCgg8veZP4sewX4kBT9ByBLGZwvRIGfEHfyUYizmTx1JmmH9ivqJpQossfkBjv\n",
       "ptITfVNMZ5qN0GfYVjPd6QxeBlg4JgVTwcJZ/YELvwYOV+2G576AX4z1uHYwLcrhbnoXNcDTohHR\n",
       "9nrE3ygfB4Q9RWrE6g4kBdQFbKbOE9LVP/hyMaxGRucAJQ+8X5N4D9r9CmZ2qYr9lANY9WUAG30Z\n",
       "MALXum3HXdzxWhgqAyJpP/fngOwhyHarZm8Tq1uzlsmjHi0vOfXTADNizBxFlyQT50AIML079xbX\n",
       "5tqG0ElyNBxFmLRS/RUlAb+yrGoq2yKZC14K1/NZlJA0mz1Bcffg+0pcsKKjbyRhpM0RmO4WEAAV\n",
       "sDeybplx6OL4tz8fksj/3Dnz76jyPrZEVRdvcEGTwfoaSAr81zaSD8ixMTKnuqeEDQjC9UkU4QQ9\n",
       "tUkAu3+lScsUSmIQNlf7bdm5OnBt8EySWFQYYhWzsJGWPVtOeB/0VFeHP24pyyRPYpgswfSyBAeX\n",
       "ZlqFfOtqWvO+EXNT2eSUde0iqTP4c57DV6d5ufo6gfCd/IQWH/93iZNvf57PTS5N4jcLmX/v9sys\n",
       "Z/6exjOghr3y2H8TCcpA5nY5/lcNogZIewXwQ/2yaQqPvDsKLDqQFqW5ehus3aUuCa18rLjTRQz3\n",
       "/7ruIqd1JqMLOskbCh28MhL+9z0HyKLg+dTFNMIy0mx0zZzmHs3c3nT4HE5mv6IXi502RDIHHu7F\n",
       "Vj3/O6RcdAToHjVdLpXN78Y6QMlipAKeacIi0YDadwt05ebLpTGg3bCnNj9jSsnCcZJdcyCRT6Kv\n",
       "ZUzsqaZ3sF5+cGOZNfdTM30riYVR8ECtVR/eLx0zW3Z+Shzm3Ipn/wt97ryddJIkefWYNnjJRsF2\n",
       "IneFzGbqDZGzUbT7R628vgdamqDz85H09yQRyw14gbL6YYFL7EcqK83rb63hZPyAvjO0H6QXI02u\n",
       "lGWq6cuwQBFIZWMjVGnOKSQis0RJKhpNhmCNDT5jtoGPoJyPaM9LMO6cGDAXTQI267kjGW5lTxTJ\n",
       "0Ul9QD/byQCFVUr5BhyADqKTGGRccC0PGi+bdQg6hMyQ3HuKfJNfeDsTq+zKLFFSak4OQeDChEdN\n",
       "CkFi50ha5gfzaenN4r7EcMaxsf8Ui7MaFNznn4luh0vR6ZNMY4gAOgaHNaFuR+EtR1UYaqNXXpMJ\n",
       "Zhzo/WqB3J2WX1RVZZpylWTz11c81dSegWvUH+Zlf/tQ4LXqcjwXsxXMv+AwJhuxf+i5C2bBAAAB\n",
       "wkGehUUVLBD/AB+cEhmACdbbJUreWBn+AAw0XFb0wKArPNyyPu3tqqxmPjePLTLhaeMFqMQwQ6Gw\n",
       "ZFR3xJtV9q29i33PKRxf36mrDMHitMsVrFqIYyz1gIx7RFOuH4+A87gfjNP7LFXGzoOCcDRWvUgm\n",
       "AU6dUob3s1++DOEYUOoa03IONK2G+swwvytAa19/7RWOSAVb3kFLGMRRwTxfCRTDheFH/b1aWFZw\n",
       "ngRDpCkbUZ/15jEM2KxN7lXXqHoD+eeWlcwUUbv7PMetgc98+muTTje/cHaK3T0OAAtBTpLPsIqB\n",
       "PNnVw2CN7NE7roY7TD9tMxdY/GNem8+txkp+hByeka+3yo420btAwHUBe0ZXAJS/bemmMw+aM9fm\n",
       "GtJdd0uAspjul9nSSQpMnddQ9TyRrMJgJLIfc5qOdKptaHMNQYNMo5feO8FyKAsJyHwoO4lT9OZa\n",
       "yAkLKMrRy0erAG/6/Hy1VIFeSywF/qm53+GEkewEMnziZvywHHYBIUQbqNq6RQ2gxbMyGVZ+u9SD\n",
       "u8LSOFcU7oGzcnDAW3CS3O/m7/vGnwb2wpm5/ngzx2U72X51+v7XyUMLk9zSjC/PrSh1DQAAANwB\n",
       "nqR0Q/8ARtcp1Z7gA/Yumnr7BeaqotM6wiRMni+wai3t/2zyIjkZQdmROf6OIjUFXQerP7K7l0Ye\n",
       "pI2yvZfqfrXQvM4+tnDsrbPRPz5AC2uL/oNsl0HpZFf5i8RLtbz/IbJf1HMLnajcKaFbEbPXo2pG\n",
       "99CJa/KV4gPyrH2dDI4FTHiLlZInn9JRn0edmS/RDKCaKslqAmQJAXhdHAH3JQzvN+9w5LTNGepI\n",
       "X/nzlTb6mWtZES+z3pdyGBdtyQByVjwZEOaU7DjdjRBxlNmFn4ubtSKcpvTFs4GzAAABZQGepmpD\n",
       "/wBGypm9dQqimJi6BABK9XH1WZLfGq79w32aGfRiODmoS2FdJBuNxh61G30LqimoBpBqsOu9VNG1\n",
       "mKh/xjKBJzUx0Eid5okC3yYwkPDrubfs7qvnJO5om9Y5hB/FcKCooLPOYtAypKOgF1fWhS+iFrFA\n",
       "0jijLaGvyaMonc7MeOme7Nh2RLZ3LWn+BeOTj8s+hdbpkodRvegBWM9wccsDQMUbOs1q8NplbziF\n",
       "nkP2DpIA44wIjRQXqOXWCpwvb5qfyNv8ULwX0b9nuSLoBH4x2gSeUDMBUeAQVXQDVQ2gx3RVorQg\n",
       "5Pfmb2JfbRDoYz3Tf2aCNAXgaTQ1DxsHIA7Jad/iyNNxWjAvZzBKZR+0VtBWpPYgKGzbUpK0yCXc\n",
       "wx/buyXDZv9d8FZNzrdBa+wZ36a/DKuYJWEb3If0TzonAS3EOKhBIqo1abjbZDwZfDEgxjkOSuCp\n",
       "nMex2mvDvaA/wQAAAyRBmqtJqEFsmUwIKf/+1oywB3dbihIALdcr8qXwdm3epi6A09yq564nc3NV\n",
       "aGOAnZ/WqRx4Beu4LncdAOom0aL2DB9UhasKv5xGs0U6CGrUbxY63sIZKemMfjiC/e3hGN/ka8gY\n",
       "2GROzr9+yN32+IZLAiTTCEMEkZSNFlw6jvZEnZya0RcSbgR49eU2e+t2Qsh+npNZ5SwlRrTZrEoj\n",
       "tji4lEVowFqR9F6zYy403GpCdeVDeQAwHrRle6NcgHlu4OqKQZi0635MgOMsHnuNTRXLgg68APkN\n",
       "TFCLVYbaFoMbUjQwQBmgb1R8yY8NtkAZjx0c9IwLisQujpRBxf71uvf+VY3tBWw2u03fKFZ1OYZ9\n",
       "wyg7tu50WihsyiWq3KG+Td73uQr61qRI+/CWQiRvtoHs+ML/nXR/ZewPFAYc3TScN8yLkmJr9BcI\n",
       "1MhuEEr8UZrGYb6EZKNF6CDg/JUuB3oKZ70cxBHqgrmzkBaDIwRaJcalg82MetVLWiSsmY9mShGJ\n",
       "NuGwGA8X+w42J8fmWgcHjK5TJYDFfZTB/WB63hYrs99BUVRlQM3KQtyITK6rXS1dXjomwdV0bphK\n",
       "N6oB6+5gja5LFzV/4gsAJ6jB659ijUL3wJzAGDeAfFcJV3xgr1Rqiqqdqtu4jraNIXEiKFZa3DQF\n",
       "uw0ldttRpZqAwZGih371Dw+1TBmdMdp72AemWsbOZzIvH0n4zVQAaSlWJR3OuwwG777tU71zS3/U\n",
       "eK8e+zPDoC1NwS2uxdvZX5J6BupEIPFYX7e4OkRxjB+AZRyjO3WaGpJkL+alMr4DPcZ4lO+rEsAq\n",
       "KccrcRsvQiguqFK/mO1bo89pqtEFnX5fv/5a9tXK/Ky60bXdbRGH5H/vh9B256QhdRwallrrAETq\n",
       "fpq00IhDtG1AmCdgXuZ/I1Cd3w711ZG+XJKbDq8KYh9QhDWTCNPwC6rq7ftFmMbH4Tji/FOXCFr0\n",
       "XHNL1sBqgV7SSWWJlS9kgfu2/5qrTXb2DP01uzvzY7e1sd1ocQXV2RY4UGEM1mXAbPQDrW03Donl\n",
       "5ytRhEOgSnXdu+WXvtnZGwgxLwgAAAJLQZ7JRRUsEP8AH5FyBFTAATrU29l9KwtGt7HKhBiNJpLF\n",
       "cYZFChtxi8u+GFS7IxlKlZUzZfY1nsg+afBp/C+pTaClSmhidLAnasWd50+QmxqCbOmXNWY7Svc0\n",
       "d3f/MY9cOcCF6+bZuC2MabpZcgT20LRp+upEqcrHCLJjEho91eFvMm/XT9pinUKTcHcPoNBzOq5i\n",
       "L7de60K/IQEc5pLlOd8+LyvlwaerymOEeCLt6J4y0NmTKQN8JctiJZgSmvNb5OnWsEpbSTKtmtdY\n",
       "Yl1IEYuM+e4IGSr4zxxJRRvncUcuN/kmJ87D9hw4w7wAqT3NwbjlwuWpmIn5G76/VCpMbUvl3WcP\n",
       "5MbcqkBpRJMhRSCZpwBbxlSXwgws+QEHbWbwb/S23UGww36VS+z7GdcpMIGENOemQRO+dlWV2iDd\n",
       "MmEP7y4zLqJIpZJ4ercnXAUOCm2pp9MJ+ljxbKVpmwiVJeddSjL/kCGL/c+IWwTdlDs3ES1UEcIf\n",
       "T489e36USnQOlJzQOl2yktww9M+Yt1UAnZkFllwxZfEUEZUN+HzS8H2WMmM+ieG6Xm/bC9k0MVds\n",
       "cWf6aDtQuDUzoJB6K3WX1DbUA2fVH5VP1y3QWkHol2fvGjKeAJTSYNR5E3MmTq3GB1Fg5CuXnKWB\n",
       "/ot4VhvD+pUQ/Q6KqcHSfZ+5oRYzfZvAl+MFk61ZFs1CM0dtRh//l+E2RRz3Lz/pvhrBboNDal10\n",
       "kIVAEnZl8cNkPjiJhvZl0AAjg105Pat+cs8K21UTL73oRv7KqUXwE/wAAADXAZ7odEP/AEbXKdQh\n",
       "igoBmbPWjKtVe4AWWAsNVwWC1zm2JoHNuQbjYN6WZ4qY+L6br6KIxokI43GeoS0kH5CskzbVodbA\n",
       "jzQ8IN8S0c8FlgKF5tHlIq+zjA2jGt5faHxdTMS0BY2K303NLuE7s9WwL7KiQJQ2vH8OTNjdD6oH\n",
       "8vgedtvqSPTRJsnqZNWGhCXmSNk/wME+tTaWStq3FivzFoCOCoeUEJzAubh6MWNn/+trj2h/kMBs\n",
       "o2Xqcvnc42AiBsIizcWAMqp4dc93yPccceJW3W4g1cEAAACuAZ7qakP/AEbckS4AITqnaOGTMkr6\n",
       "tslecCd9TolTmXfWQuBWxckipCMrD3/+22LpRmq0dUXhGwBKveNnbF4Yo5saAfKbYfD1mUkokGm0\n",
       "hQ4noDoVZR+g2xIz1jFr0Kt8qcxWsyehxV6qumbFyydmhXaDtaYUcJO3PZ50oRjO4qDB+MqtViT3\n",
       "GT7PR4jImJtJSQAZzdfRgKO8wJPQrqSMG3KCS68Xk80zqDArLC+AAAAE30Ga70moQWyZTAgp//7W\n",
       "jLAHcWFmD9UQEALYuBy21/zCnvOCHHLOnlE37+3PIvTkUnj2x8U8vYESETGhw2zCX8CC3Q+RAR/j\n",
       "jBzHOElDGq/HV/cruuXquEJ2EZ4gmiE8zNoSWRilG3XvOu6fTK/SmVLcaxQI6i4hsiDpy9aYPNjd\n",
       "iUM9JaSMai3/dlhIV1eHSeXWOJHero1vBJbB3KvkTZmmtV2jmRG5yyaE4ewbaIRMIK8c3GTv1eQI\n",
       "1iaVNNCz5eFvrNdWq0v3THXsxxaqt1Nmac2tkBB7f/dMpvxp/kaq/GEHiJz107ANAXtBEc68sS47\n",
       "FrTGoGbQweNra7Kof0ic2OYdn+7W12ehKoZ7x3fGFxjpHs1uqAWokm+hQowwxa8k8YKKc/QXnpBL\n",
       "lFrd23k3RZ9Mfa9Kf5J4b9fpesvGzic05UZ24JTVQAm6D1R69HK8gZ+QwbySUpLacAHjjQxJ0hBO\n",
       "EutJ4dmys7LsalGxTCakdgzKFv6nm55Yg8VR8y6gYljHFHOAcPRk2Q6vBAFWOSHjG2hSUScICxqP\n",
       "5TcaFcaf5sXPMLQgCBym0jw1GODp4gt3PJNHtwy5+nMHXO7wuucNgb7y/wpUtrySCO///27cqC+T\n",
       "CX90Bnw6ClGHVy0g6Sh9k7x2feT5Nxt/E515qg82GUxgnfwEfx0+upHIdAgNy5Q/jsrfyC6PIeh5\n",
       "L0Gj6yjbmHNgzC7S+Z8KhP6PDIGjGzNFI+C9InSD6tc60f6DYh28ZKjEe2Q15YmG9Uk6hizSz7hn\n",
       "WOkci3ku0j7WxfEyM2w/bXFzr5qbds4lPOVHG3NTP83idj3Q0FC5c/xUCQmJxw8j1mi6nrvXao/+\n",
       "lZYvPY59wlkTciSatVM3jvFEaXwvepQe2zT8jNqd41Qoa8S3Jcbd9jrZRgEt5aP/wo8CbfUSFdaq\n",
       "cXnVRWh+WjKXlF7fucdUSPvFoRhUF4uDiGQyJ1RfTJF83kAtDqsYFfaXEUuwywP4TaAdFyRoCvG4\n",
       "BQZAAyZKxbh5P1LojCB5PT7FJHHkfOgc5zxfzyiRQ6rYZBPouPTVNF3RNKFOa6uQ+zGpLaW+ezT0\n",
       "QI5u+N4VsrOyXo2l81y8d6XdtyTgozwkv/5CoVkekCuVFD71x7x3XfwW0QQf7OFFPO5zd45QIAI7\n",
       "c8eLmZok3D+9+LtiLud9tUIEp7VL+jUrmiJjhxnDEZ9H4ec/F5xRarsZbxsoht3NipIu1wgiZt6A\n",
       "1YudkwxuyfP+BFMfgTT6Mble7loP0pa6peUOvmftII135dGdEjvDfhekzhsjn37QS2g5lwwmG0RP\n",
       "Y3Px2ptbeQ8vmpVZE3L8pWae6nYaP0npFii64IHHVXxLm38fHxc4QV73Y49BbA/6toHEWPmzPLI8\n",
       "/Jg+/+8utjHk3HBDSWF7v2A1ZjACjxNYXEV7MNSycdB3irVZndIm2yITEOsPr++o8mLrjTf5GXQY\n",
       "qrd65XPTDm9REeFsd5M2FOj6PK77vVe3Ihw7UgMagLlzOTcplDqeahI8KrQPYeeNimOP+ZaFszgP\n",
       "T7507Waw3QpeCqcunvy3JJq4M35n1vfyQTl7ClplGEASNeNCA/50BzkHWrid6ysPPfiwwyF4ry7a\n",
       "f86CNoeQZLaYYLy61j021qNF3haan5YS5LBYtzD9hRi/ruKAAAACIkGfDUUVLBD/AB+WWeSMc8AG\n",
       "0pZUSs4X6KT6W504lfGWH1sCLQ77OcyjHBMnClextOi+LT91yWwWsEVQ9ZqGebwQ9IXBnfjCd6eS\n",
       "abltma0CPfTzMI+/aX5UaoZV5bFv3rzuiKtR1mQQbDugvXvsFY/wKftBesBTfsLOxsosKL19jWF5\n",
       "i7Y6airPcuCDZi24kJ8Nl0vRG798h7ObsHlpHpn/e7QNHhwfyY/vZ0axqH8LJYv86GVs2kJ/Q8Rh\n",
       "VtmJHF/rVawl3BUjUkKf1rg7pY5X6twv9mVbdjfYWVL7Q9YBAbinFBQUGUmHc6Z2kUribNesmtEm\n",
       "dbFd51z80k3WC/a0C2mxE8j3Q6w6pgvRPx1vE7iiRo51i5ZCipS0p7h+OVZidIf1b00LwCoSkfyy\n",
       "dSWlSW5BMS00gELY8MA1s7r9w1zKvDWXir5oPiqHGGFOD0QMacICf2Qj1LxERWaFzTOIEVEG5Uc6\n",
       "ybvKiyPAKVgYl+GaB0vd6LbcZXkgcoZRPvq/C63+dyp4Dt/Fqllzlt0bzGGfe8weL9sEYLBp16Lw\n",
       "njTXkkwmASk3ZwF5scmTuoIl6uS2wpfpb47dUTTo9jo+nEvP3xl1xQTRL/WhHnloXlXabhAezgOZ\n",
       "Oy6r6yyOby446wV5cgqmIZudODIzXcJ5A4WInzhXM+NmjPWh3GktxUp/ihIqL53SAT3Q22XbTXdF\n",
       "Q1DoblPVUKIRocjOKyIcuQAAAOQBnyx0Q/8ARemtfwdh4t5QAbVdYS8vx6Wm4YUf8evMq2SWgwLg\n",
       "lHo8TIru+q4SjaCdlej45qcitPfYYC44WZLY5ASrpmnklKImvHEesyn7nwvPTIaE9jjhZFhhuPtY\n",
       "cRkIPdL8vrCk4sAdHXHJuRWNXHeYOSOVAoioguz8mJgFqoREDV8Vo/ebsPK95hszeHtWMUWFOErV\n",
       "xKsVRBYCBWreQ5eVb6GId7q4fuIbzua4IPiU/9W3lzji8t2DzKQbBTi5UhdeP+lyGUsaIyWwmIm7\n",
       "2l/ZnDlLsRE+bYWElPHYTT5kcbcAAAFsAZ8uakP/AEXpyh7V2mzsAEI165WN39CwCTNQLvNfiVXg\n",
       "CxaJASZecVgGRDd8H2JA91kAPq0EDABzMDu+QynPugSYteZZGXehJ64LpHgdv0hQ3CbkJlnId4yJ\n",
       "/T2b8C45pEXNMtlo1efUS/vvUTgilNkAMKf/6QShsWHe5knoU//zKxxxZut1eebGExPN33dCjzPb\n",
       "6tvtzF+ThuWRA0Tqzk4vlNuqw6ij8AsjplznKj2oFw1RB0y4ixnxhzuVXAFoVQtWMq/bj6OeYLOR\n",
       "z3VMr0S4FbArgu7er++WfMK8RVQ5fAIUVcVqsuFhHRaiG0K/CGHgZuLpKPjtii4PJR0Py6CU///j\n",
       "F4PhrQzAgaXVgaCVk7c2PS84CJnkLHX/zm1cPBzkDRZJBAi/+eAjlpG3hRQMs6DeO/Z9NoaRhsSe\n",
       "OOLuji9uiOgpqPBebZ8E9qpWGCNkphfwu1trY8NmqqGDNz9DZV7Sv2Xy9gDzgQAABXdBmzNJqEFs\n",
       "mUwIKf/+1oywB3G8LOaLQzygBwVBX0+tU8xJowLgcMHx2c9spTHtaahXoMGM8lNmDfWW4tCSIAU9\n",
       "bnUu5ykoljJHWD+4l1dKzD53gPnhdz3BNSi0sX+P1wWAdnpklgPciMSG2uiQydq66bC5Au0hWQh9\n",
       "ctlEB4Jjf6xMtVlmQbJbyfTDuQBm45vlNnudsYjBpaMs/8uNZAvLUUADLnqlVS8zm/CM1aJU8sJv\n",
       "YGicBthMZNR6h/JgiMqgiNFHco49Ou6lEaU2E9j7NP8lKi30cgS4TvjbK+Qcsh1iibSvB1aoRRUL\n",
       "Vi2CQ5Urhqfjl6tRQNacjUfJpxKpolBd6STTdobYF0grq0a8JOaGXPB88fwlWxFTZYO0z3Dg94mt\n",
       "rKqYKd5ErH6lv5hp1FhehvzhCnbqlifEGHVkN8VM2xtgBphZ66/y6CBpvpmjsn+zfG7pxiIOg8W3\n",
       "btre1fIyRrTAKmRcM2bxqVfvjPn/AvWV7rHhMkmlrkPUMah0D9vGXLOid3bJ592TF44oZ6vVI9xy\n",
       "1/DQWUlwz8s0zywOy6QkmF9mvRCa7IpsiVjlQN//OWWsCzXuF2N3xK+RguvW7LaSoO8VlQF3eolO\n",
       "QbXtcKnkuI7/jK6QQw8b5rdRoK/7xMtOeh4Dq5K9n61PZPkqpn1eaEVgMzsyf2BpZ5fFXggdGFiC\n",
       "+DuvwWJYp1AJFh5pLViBgOGi4MkK9Yjpa3Pi/dpEPxK0n1rv+0JnB3RzNgNuTEeD0avYO7lvz+Oi\n",
       "Uk0u1V+XWWEeiQ7HUXgOm7DyUgH4/b4myIY4r6P1R2xKUH2pgEd8Yf/h6+BuZVDX3p789JXXKjkT\n",
       "VoCYJh92GpnOz7dcodszSZLFj9E34nqCxMn4WvQTgExPjAOnGgiyK78OIEbKflBDIIxk0r31ZSeW\n",
       "A7CMmyx0KflabffgALka0NDCnf1B+2sQrynntsrMkjSoiDDDy/hw5suvTHaPShOH5Q/kvk2Qg3/0\n",
       "KRBqo6Z9Q+oU4s5n+K2UJJShpTDOedgtKdfFmokUy1YJqvXKaIQKyomGEUKBPM0ZxVAz7UQ1bi01\n",
       "XrMnbWY9XIkuIC5LUkhgCYSHUgRTdZ7DH8s7kGMomxQ97zKNNEH8KTY9kQctr0zwHPMhFeOvHKgm\n",
       "T3StdJRfQQp3dvj2WatnUQWc6MzEJcqDnRABFR3DfhS5gn0iyBdmMKVMC8+PV+u2nslxALC5q3aC\n",
       "zHHjznL/UsYPQ1FzImDfj31hwzcRL1rDNTf46yoUx/dv4t33/NEQojGpFxgyDpBLHBomVAcOUJQn\n",
       "v/jp8WEG8cR6Weas078IPRNNpf2t6SFuAxznAR88GfpC6r/I76CYfSIYNvGw0WuJ7VxFCI5tabKq\n",
       "Oz2tp3scUQIhzq2GBhpBjSciHt4YlCt3WVdiGD+bext8mnWxEOj1v8KRLOnpaHSitOOvD7aJs73D\n",
       "uEWQWra+GsV90KULbnbVkPyiFdjwJeS4mJfP7xbFNCYFqGm4l0uUhiRZjtquXTTJw8wpBvEri/Y2\n",
       "ls49ee2jLiNNOB4ui/P+nfpJ4NM7zw8m4bjuzV3WLeTeOQS4ia5cpVNIi/vDk0ckXA7svtgFX1dO\n",
       "bEq3chpXGIaj7N8DDpXn/r4C+1A14UajwQV4lIwwjQJEkpe7ThB6h6ODeyKxqN2MXkdjGHDuUyax\n",
       "X4WbDA8wvFUHp4RJ3FsH9MB69xqf9EdEiYCPr7ZrFBLjPDc2lEWA3bFMKLN1w6kFicEdDqcG0cgc\n",
       "kqniFCUgx59Dxk0WSDTR3oxdeSWGYmpc1vaTZNbxcWk/ybcuCGB0/W7JzmlytDRHM+cJul6E0KhS\n",
       "CGLt7Sl181THpAdSKf7g7LGAlbbcj1XQAAABgkGfUUUVLBD/AB+Z7ThkmmGwADal1kwzcK1S8dYF\n",
       "BfsYuNDs2LskmpLYrElC4j3x5zz1dccqKB0UDRHzZzLzqvbjXrDXgt/idef0IfSLNtyKAT+BTIAI\n",
       "9s/CY/JLth/95MdcYLNfVWeVl3riCft9vkv2NS6HgCobHbbGnPTEHcy1p9SzvMGgoEBWNvh6e637\n",
       "tU+E704s277RZ8cLzVRAq1dS1fc+04XbDX1Mg74n0E3lHG+mekbDlNB0jnRNLZper7M9jonNQCoJ\n",
       "0Ggi7EvBWvNsEIM/7MteHci+mDc7jcvTLutp3hzvmE1AuS+wmTcWazrfpUIeNuUVABDO/r2EIzoh\n",
       "MDWphuGRis7GWWA7uxw/QoIKahBxIFvpbW961zlTlPuZk1Yq+BsrOPigGr6bev1e7yCSe7tXatXI\n",
       "Fzd80JJZVZYX/F4r/+CiY+eJh/LTQADMUnI1cN2m1t7DOP4ZVPbl8MKGMecGD7SXF8SNL1jSnPK7\n",
       "WYB8+SmYhoKy88BdADtgAAABDwGfcHRD/wBG4y5CdDh4AP6PH0doG//s/Ccp4Bjxwf6qbpA1MZc/\n",
       "mU9qE4ycv/HVueiWhM5sKFtsMMSQEOd2UnvqcfHqxNTvFnALZ3v75X87BJeJs6f+NSZVUuH4ZPP7\n",
       "Y5maGtzgmyJGabDTU2vO0v8FSK90bZk2R5BQH5DeLjp9LSBhQs9gUw1tgNOborTwsBavehSuCGiU\n",
       "/aYGlAIuMfDgV+RwVSfyz+gGEiZpLs1ufJ60jt5qcN9x99vrMJ9MqYst8kadYAzrwW1D9DnfnkRm\n",
       "wtOpm4Wc21fpWaJySB/MMAL/MnBYZkoxCwuHYoXc8VlhVjx9RvIGbp/FzUd9UpfN30tKBUq2Fu4f\n",
       "Uf3W1xEAAAD6AZ9yakP/AESsWSsU4wpUoANp9auznN3Qv65YxOdk/TN74fJx2DBvenevqtm01xAO\n",
       "BXosjEpg8BKsS8Wt9f/Z6JEc7GSV69sUJjnOdGaVSGQUqG9h2wep/v0kZ9k5Dj6DwSpxwxZX+30Z\n",
       "Bt7/skxZIBEtBXF4Rs6ACdRJTFTYpLrGpD8sIimAq6m0XKAnBj7EwNgT1ZDi2r7gfWw1LqQvNQZS\n",
       "0SyqbcmuzwZYpsP7NmvAqY39QuDa26wIWFrEPZnqSDPb/Ew7q2mdeVbQjxf2iBowoLNjFF9IKwvO\n",
       "wmDbg4ilt+VKBPXC+tiQfjLoW3G2x33LE20QKUWPCAAAAzxBm3dJqEFsmUwIKf/+1oywByxfKHK6\n",
       "BgAiFTInFmhgfbbFjuok7xvAL+BzfTyr+Lnr+OGZQZtBqiobJuupD8R2qkb1O0DQKNguv4n3CUlO\n",
       "6NW2h8wiCYX483J0elWeOvTEvOKxmwBekCdK+gxhSao4JxdI/rplkZkS+JHUuQC3MDrl73BOC34l\n",
       "J9EcpZHTnTa83C0MYSY0WwhVypCew33x07sXMkL0W2HYmnsvYBrWvAtlSAi6IVape+m2sxD14Pm9\n",
       "dCvufA6LpRm69GLXuEfpsWnkMhEsNQXhZNHPghwusnIR6qPC/eoAgUjzYAh8RqjVgH6xjNRxdnUX\n",
       "DEVgITHL8xtFvrsmGbcpidX2PglsocJ1OySNnThaeNK6UrsH5SYXA1RuUiPUb2ZZfNxMQcyBI8RU\n",
       "XsR5vZDYX54d9JgyYCxGu0xPYx3HZsHgXGDlijSm2vYu5plV1l4diCF1irSGF7xgOLwoKtFGKwKq\n",
       "JuAQGmxH4qVEFfXwQSZxE0Ro6tg7PCagywo3tabg/5/IBThWeX7YGqUXGYvbQttMoLfZcxAINn7b\n",
       "Vq+v4vyDJ3SY6uDldy1lypzRPKxSc3TfzXBs/PMnixiCN+xADIexzWrPD5i+aG5AeM9HqdGpuxNX\n",
       "V1XX+024B9qaokQqjSqC2Gknf1I1P8GpredJiw792QPHUbfSdjoga1TqmjJqVB+swFPwP+8ZOZac\n",
       "lsQowhLdkykbuYqyR1bc22ZnAOjlFSZWL/UmP4q9EzHY2BbhRXT0Gs+2+333BchjR1cN8dcUuc8S\n",
       "+wARC4Y0bfL7bnZWyvl0olMH10uMW3EulTPhMJMzwrJlauXi+Tb9hnEzFwXGuu/BlvmscTAeOUCM\n",
       "TwbGTIE18QEub500Plhrm91AMMBLVlo+tfTYWhQgJvj2tiP9m2pbexJjfrFNquKtORMBv2VzHB73\n",
       "p22RkDItPUmzpsWuT+EuDbBuSSdhz1bPHsBQH+DgfOsXJUTzuXiUO29sK3O3a4u9HcOrKTy5L7Fw\n",
       "gqQxqm7U01C92TKeUHDriniqvRTcU0ECRbsgOkgPOXwM1pIJCAa6F6/20u9MgTv/bEEFIOIF0eHg\n",
       "ZJm7Fxve9loAAAGqQZ+VRRUsEP8AHuunRPgAbUOXtPWkc+BaivdwC2n5pQnDwbTlaoRmvkl+zY2A\n",
       "7vCfRxIsm5ejr/tajmNsrwDS8A+sj4Yh6FEkfhIkmG9jpSH787OKpeqPHABSAO3pPgOiIJLGernW\n",
       "F7T8PFidb4jiFjm6BXnnqAyE4N/OQEwU3AAO5UM7afNv280XKClLTQMmsc3uRzVPlSbwJGkRVYTq\n",
       "ORusaa9/EqyqaTHRpuJ8qVCwRn7V81CRJv+wQVOnW14puEC+DnCSkfHPUXRHdIGjmBbcF5WnbzEY\n",
       "pAqA5nU5R7waQRbc7OZZWQIQ3EiQY1lws5KO4pRYeAoorIMzrPy66bR9a4yVsetjIx7rhARsloki\n",
       "Z8rYQ0dADp/solVonpxjJC5eb04sQaBggiuzpnc853PBY2AX+PK0LlqNBMdN1BRj6VHdXL/t1s7i\n",
       "oNDBgGxelf/QPOV7BNKTZOPUM+WHAwxaRPoL3TqeOCQht/WI1/ZJuKV1SQIF9uI18MngqoIv1+On\n",
       "AHCQWUKVBXzoWT1S0lWUrepKXlxAkeuiouNuPjj7rBUBg3f4ekFLAAAA5QGftHRD/wBEzt6tlfdQ\n",
       "Ah0F2fx7Jb3m+1KN8rl1mTbu0Vtxsecs4/q7Pg/wr4jexqEz8NAk9Qz91NjdvFZ6uAeswRHtPw6T\n",
       "IEyNZjP94kQOCUmZkXt/gBC1Hgi7c8W9WhdlzB5dbGUI6cuKSpYbgDrQnscBu7XlzgiucuZBMsCH\n",
       "W9bXQPx5LuUVHmU4ho5CxoXJNl7SU69sDRGyjNR/fsKZAmCcPbRTkhYQfsLEhFRZmsZBVBESVtBJ\n",
       "Qzm0+QGOIfDS0kLa5ZfhHkLpq5uLQbJYnd9waPBbJ23T2LvncDJXxOWYgoAAAAD9AZ+2akP/AEPz\n",
       "kcoYAEKNuXQtVu1T5KP8WNjuC3eVb5jnE9x0u33YpdK/ngBq1AHoKXgZxdHNwjMxkYm2qyJk8A+X\n",
       "OtC3JhFvDwGtIZbe+HCutfnRPm5Dysm3TRDJ/i/V52nqw/NO16CNjhWCwJfjf3qSGtyVqcTBLful\n",
       "aLw709onTwia7gdbNH2ZACCi5pi4qVhDjFa6HjY23BCvgRDlUrb/GsY7eV4Ye2pbWZOPpa3lCqpU\n",
       "8a8YHctxx7/0+lzBBQ/o0COFca2YeZx9sWYMdbB1XIQBVKZFpYmIf2Wqt1KHsjtWrK805Qy3mLXo\n",
       "kLa6IJZvpdpcOxIa+PYOqQAAA/tBm7tJqEFsmUwIKf/+1oywBx7DZzrAAOI9HWvatdMu5soWZfhV\n",
       "AyuXzhM9K6N0SxJATMfYS922CHRcJK7eV+yHkGrOrkK+qvMqKt6HjBGV9/1JSRVMad7t3Wgbqraw\n",
       "W1To3wuNC+Q6wEUeiYEL/QSf9CXkWj4A1bqv/1xwjYHYgYd25KKttwggy/Q7nNTpshJDslcASNfS\n",
       "Rxlu5wL5UOPTb590iGTjrKYw7x43/Ozr5QZRSUwIE+vimVvZvK3xhedRQlwzqIJNmrkVIv6+pzHq\n",
       "EwiafQ/SRTA+4ZSWB71qTsNC0TpNVem7Wjq0On2q9PMy9ymi78zpm5G09REBFUiimWeMglYwtLXL\n",
       "178Og+dmOUNGI9r7KyVAuSn3vB6C/YFLG0XE7oVTlLDYcIS6AHlR9wnAmYJ7hlMGMRFkf2UamcfE\n",
       "3jYMcryA4WaWdlhFsoZV5WhVsV05HmFH9rln0whi16AIG++OQXkRKDaz1ZroXHY66A8EZwIoZI0N\n",
       "QrpBGje1b2yv3FMWjdGp+B0Ajj3ORrds5G+KB2eGiUWWLwt6qLV5V5jXuHUw2GNpCht/a8idySJX\n",
       "le9QxIZDOp/HoGRk4FIk32y1ihhFiUt2RGbyjMkJJyZGIv6/WH36AcHqsKxDfcsbAWOS+DkAFt7K\n",
       "LLqQIkV9Gmd+WuhRy4E4CBD1rYbEEwC9fcq1IV41Fv1IuIDrFVNr6yeGsBhSwb2X8w3ulNOkqgLi\n",
       "gMFSppq24egwo6d6Bl83d7cSVKRaOy3H+cpH7ZYVbDVnq9jt8ru318jAxqWQQoBNOokCRuF9r9DE\n",
       "kiJHFjxWDjj+/xM7JZgFkfmV7vBEKOQYoP+yAUYXlwR0jYDiIAG0m1rdj/omRviy/aTZDp1bp/E4\n",
       "b18ozAXv15bDK0w0GWK+MPwFuzs2DC1Fwzq5XMHzVCBLCi7j9UN4JtFElqILN/GZKu9rTxYS9Dqn\n",
       "VNN+e3yWvxEHfEbOoZ1yRM9ZQH892/bYfUJaqGT7NV2W3nxmJMOY/o6xiZDJz9bvCeD6VKe1DE0F\n",
       "1jLwqqZqyenPE4OafGOE+pBV0lJ5/e5Zaw07NzxZ4CG51FIPsNy9ArgI6JfT5ACH4way2UQuQ9T3\n",
       "XRQKcSEsLsYd56W3AJ2meOiIyYcQ4kHTWCiCpsMydxgmOjYlQ9XOVIhtaYXFcyA6SZW0Zb78Vj2l\n",
       "R1lE3IXFHzotd4b6YzQjbfGHqVepeQNDx7hiT9EylqZpjitknOCrsNIxlZvfF7tdctdCsae0JW4R\n",
       "V1p//63ve1RJw2om2ex+LM6m+1lWkfdZH/JNfm6LJGbH1Dp5zgUUCAZDtbR/TopLBJW7W5Jbr757\n",
       "MJZ2WMCCccN1YRb6bwAAAnlBn9lFFSwQ/wAe6ezkAHLHIoANhnJ1SfncmJWL7rIlqi/svhY8LvxS\n",
       "f9LWovb1foqO9TL1aa1h/hWSC9ZwsqXioM76CpX/kTEspNinH0QXd1o2G3ef5cdCSF5XzbIO5VzU\n",
       "oKziTuQutJvck5SD80dcTYdVTN6TLDUA43UfbhdDS4XMOG+NqSrmMV2SrON9FhPeJwJCr69Btmgg\n",
       "t2OXi0w4BcLaA7SU+PVpV9SPL3FeDC9x6M791DPTbFLYEVVJHxWjuA2vFB7FCT56/e9Syua/rJwh\n",
       "Fz9LwEk9VsFJ6BomqaBN6u4bAWIEkRL17Ms5HUu+5AkNXnJxLjaZmJGTa7vj7MGvyb2urLB6z6rH\n",
       "KnChhUaZKkhle83OC0ArA+9yr3HhuuFYEmCKO6z1V36Peg+q+njd5Asm8X4itGB0Zh9SJMc9IahD\n",
       "5a8vMkMXAU/EMnAR0MLojMUvI8T5gDlC4G33L+JUgTvJ0u9VHGBF2jvonc7YT6wJQHcdOArgsHpR\n",
       "iOMwLQVH4Sj5pB9O/2Z2Sxlu8S4MvZV241qhiDQ3W37f2cDiTQiDjLIELbB7TkG7zeqG16rqeiZh\n",
       "O/wIUEu4+KicF+MliNZ/RR8wZDbwbQ1nik153rjxdlT2RqAoBXkCAuxEikxGms4gDP55GhnmfTAk\n",
       "4DCTgboI3DXwx2uFefLA+Fyii4q+LUWbhTOnLE+ne5Kpqb51DMaSwNU/BZetXzeAfSzKDul3XsD5\n",
       "LaAF8KdKnSD1h+pebqCrXbuJRIS6a0/rXbO0Ufn5MhZ1oC9W6lgRBVfJMpnjpNm4WgBLOGtJbZ/v\n",
       "pVI/llb45jHkV7ii7TowUUMctiT/r0AAAAEwAZ/4dEP/AETXFRbX84P8hm4kwAbSCGMyNKD+fb5y\n",
       "6BMkXzcHu0BPiUhOehFgGCSiifFOpF9K4Un24dnKEXNj1G1Tp1ir9x8grHPr89AXQyg1Izm+SIQ4\n",
       "9tv75o0bxG99H8MI1QC4u1W3aDf4Lw89t1oRhEsriNpup/pwEACXdVh/+p8AN6CeHriQfw9ocQI2\n",
       "WfhDMcYWXZrbKiIUFW8ROpF7TtugB+NGaPPlDWtlBy3dvIeb8DYO6HrBp+z7y+gm8lev9mxKqkeK\n",
       "TVPO4UFHd9WevCI71ssjZZyAmiJt5TLoHsltjXliZmATnB7M9shcY8zkwxS8D8MnhvGSgFR8+Y6n\n",
       "Nb+Pz8TUq6NboPcye2PNu5nRh+UDT/Eb+AnqOo4tHs1IReBUNzoKqch8i4CfgQAAAUcBn/pqQ/8A\n",
       "QtHqQR0wgA2qfkHpaUl9ZzPl8LcG7A3vOVRYktq4h8Y5YlJGSzeGgL1OjLxoYt5k7QY+oMSpIlRt\n",
       "ZDBSgFtanWJcanDouhNDzerldCbDAgDNEW59XmrdQyMGtmMSqP5PmGKnoyDIaW5asd8SilvKeWWn\n",
       "kjy+q2CuF0LYXqOYCTc1qlaRhH9pK5YOpBepytt18rFZRI+omziSJCc9eAcHf7Tk0BmfYBK7RB8f\n",
       "YXS+cZVeZqNhF+H/B/ADmcTh4EVk2a++VKPxQ7se8DNA0ls0yDDve+Wc9pdAXJ3aXS33EbkTWbzh\n",
       "4ie9gT/sLuXklsqVbRigZk8Ky99gwazZyuCf8YrHVaCx1wOsmsA5jdLZJm6+PkDqWm3vpw/MK2xn\n",
       "/nlg0TsyfpZkJaQs4WFTyTO67j6w/fdTPWn+G6OrnqHQLGAAAAPgQZv/SahBbJlMCCf//rUqgBp/\n",
       "YOTbie9AAqTF2xq7/5j52PfxmkHVOucZXDkiKkb33RBclEYYKSne8gLAyzeVzSk6Vg0eU6gilTT4\n",
       "nTrYF1+8YMpNAjFrsv7So3qyiGSt+KDnFn1hNfk7hEBzqgO7NvcT4Wl1+YIWIpTETtZtQoB0zEzk\n",
       "2tMHLibCSe1WvFaNi8ERQzJQGqJ26DSin4Avkc+RgWp9iPGbSzPIQpxg3F5nUoSjG9NwIoEsCNRa\n",
       "H8r44W7JsC/CdDJeGoGM1zzsWVzyVTfouwgizhqXd0sK4cjPJHPOBe08Zn2VvhsWXoeGvivZGdGD\n",
       "OC+iYHdYoknvZyr7HZFvmHzt3r0HL4DEmdS09qz5MrRMPKIsxb90GYInJpfg2lkFyM62M0iyo5rs\n",
       "yfhBYNDlc6DlpGv65Lsbru6lKZHqoJov6LKggdksvXwKdv8/Ko677P61I9kGrm4JGxRlys8MHwTK\n",
       "pAH21h4tsgkVDpyUXugBv3Pb5gNPGBXPtNqdLElun28oBKiRjE5IYFjgy8bqHJzfpqA92UKBWe0S\n",
       "PEb7ok20Yq630UF8PHriR+8WKX7fB1MSGrbvTyJ2WxCsrjRl60qfvY+FoaxP+MW3IkaduOSGKnQz\n",
       "Z42QMkQTQAqTs32JKosVrtNrkral7s0N9t/FhKA0cJxV6IhPQPbWW8m6flLAUaqNXbyGbeaFLuR5\n",
       "sldIfUXkoPnU/zAH5qRhaR/krIr7cjhcTAwAl1Cs7P+iFZ4QKtAe75BoXGib1kLX//ntr1BNdDO5\n",
       "oENBj4xPo0lvagUagiGOaw64rmA0G1FsmdfY6tRVBVAstwllbo6p2dxcu2LXQdia+cNnEKQY2YwS\n",
       "+t6YZXJNVzx+h/dn/C5gMI0wP5NtaPysSif4WBLnwOVwQTdKCnaaa8yOrAXeYqm+3AM1hMm+QCZ2\n",
       "l10LPkPVCVdmU2WM1f6OZjRts+2xoDo8jOMZs/NPyNO0KfCJz5Q8iBh6P0jgFR0xEyIsLxus2XPD\n",
       "+6Z7vnCEHLVUMy5B56VHu+HQQ23dwD2Osx6serfyEqNr9oCFan7/2vKITiv4DgCriUUkn2VMApdE\n",
       "AUJl1e3yZ6WDhVLAA19ORNmttQciyJPLt3bcxLO7y0VzwnuBP6WB+1mAJx0WZ5fb7NieM/VsF7u/\n",
       "sIJvhz/mVWYhm7kywNIMNjk3Lvag5mRqjHRie369bCaahvozt+s0m1Fdc6utG/pBMHWLo7MwxU++\n",
       "KBqkpVdZo9JubZNxW6Xrzj6kQh1TMxe1HQmV1mCtwD8IW1ePPn2hLNaW2tTSwUghE2UB/oWKL4JQ\n",
       "hx2FBoMAAAI9QZ4dRRUsEP8AHjnioAcuRpLUTuQKncxgEaUF/DOMg2AKdR+wnHh8k6Zx2clm2YeK\n",
       "4fwIDhBoVd7TVruBtXrOkLJrxG3l4NmM0oIP4UIMgiG8+RWUWNxwlOndmq91p/JqFB2HY9+PO6/P\n",
       "UTW6BbMdKyrvhbNCs6EeNcGl+pDVpvJxVkD+VKso0JSwMpixlqQgu47e1EC6DDu26MxCUT/duNKU\n",
       "7Ff3H0HFWSN31qPS2ogT7SGFJpH3tlUYVfJISkGN2CjwYmnbd03IaVY2WBnbTZlgCLGnGGlShty7\n",
       "B7BGyqsv0nBK+YxZgf/p5iAVzNuVwjs5fM3Ury+ocqKF8d/hd/Rch+JShfUURuPyGU3S23c2nX+6\n",
       "704VtzM+l0SLKti6Pq+X5HsfmyyhsAzXIZ1JzhhBstxHiL+L4M+UwHlOA98eCwhWzrwaYAPjTm6K\n",
       "2biTuuiQR7ZFB6OhuMkouDqfWSXZFrDb7LsxzYtRuk3KVs06QjLvOoIr3WLq81MwbxZFzqJqBXzy\n",
       "1TFbA+zKN/Uxz38Xcl5e6SmtflGD1DZ1RD/1+UGDi7C1MwoIwKSrsVuuJcJ7q2ulQhPbh7Dwpg5i\n",
       "zYNmT/m1KrUqmPpGnoYjDUiV5ow2GpJ4qnvvyLmRZ6qDko9LregTLmxS3BzEDjKlAC9P6AF6hpg9\n",
       "BIxnBiTtktA7DNnf0ozv7xJj8MNe1+1I35hoZNSlgR4hhkxGjOesp/k1Z13e6lFLOFdyN/m3qhhj\n",
       "zoqBQcfKsIlwZ0MzAAABtgGePHRD/wBC1fdaHgA1mOG7Ik8pGLBHBP3ZOL8BquOkjDpmA59MEyVG\n",
       "ZIoTN4fC22XRIjnYygUl7dH0IfCyuwGZWyl+FjZrfeI/IRvj4Ncc3jS4dHe3xsfVOID0AKzLtXOd\n",
       "a3IaifNnTV82QCK53f91slbXu0ljqVU5wFfMGamu2q9Yne1VtT31m9xnXFslua+tcZZLlfK0fH5n\n",
       "DtmFfTBbSt9B2Z7A3906POVsyHiGLdsnjPJbRxhnX1gDZMXiRJDL7lGG4TvIP/HyF3iY8f+nPFHE\n",
       "dJLaUwKRo/jBxo4BIBkuHXl7FrmMPlm+Ek231V+BXclsH2o+pqM1AGhBMj2FN3ohfhlHV+/edomH\n",
       "9KW3vwIyJLLZQmKKGzXXQ3h1GL46Vx8duSzruOIuYX4y8JoEqo2qGsUuKCt+v20JpD6xamYa0z4P\n",
       "qomQD221rx+uUD08FFyC40W/htkxOCKOP11Qr5v6ovtxGXIsuoUK4S/5CBMC6xCFMyJvPav5X/rh\n",
       "gGE7ljpvJuZwK6oHXvwg/jIj0mcJySNttFwXA4x9elR6WvABmqZUM5pokWG0fGf1k/TEpiwzOQAA\n",
       "Aa0Bnj5qQ/8AQJfEZEWnom/Zb0AEQXRPfAc9j3nImf1a9O31CPsf20Ju4jLFHNX7RxL8Vget5q3F\n",
       "vCttcKgSMJV91rQf1SyBtwIpDu1wZY8h/W0ipQNe+zewg2gaMk1WYfOn7wO5ey73DGUwLCWZJCYX\n",
       "C6MhM9I/YEQU/1aSP3YBVaR8pssxgzB8BRTMdv+oI6Y8Ht8/vvJtkLSCQVL7PwkiLwbv9kMwfrxo\n",
       "YAE8wuUqLqQDEUeADCyiqHh2/wCge2rspsNe8JOdFffrUeLnPwbYARWss66tOhMoDEPQWA47hCDG\n",
       "y3bZqEAtr3a2pl04o5koVYzLZRGo9q7D1PAo68AiRn++XoFHSYpLd+IV02fEYe/D4JFhcl4DrNw9\n",
       "eYf4V7rK0986m7PceY7LPcLPSYV4b//y/QiIqrpk/Sb0EPr9rx5FvKvdFXKxoLlj0VzSuLaCuWqv\n",
       "8bTnyAHOjTKzpUvxAjHehYeqjvEGYU/bOZqYTdgESi9TbIfVyYCK0KXY+WMnbPkPi7Oxbehr/dP0\n",
       "SXg9YcO585dFtychmUT3yAnYn/6xFr6/y9y1lXp1FVAAAAS7QZojSahBbJlMCCf//rUqgBlF25TF\n",
       "fCOsfWqZqWFgAXYwP/tjCdywXMhFi2ZvUE4AwXL+K9RQ485UgYizegIzQiqOomVwKT4dJfIk9kTA\n",
       "LMj5s5M+0OJmD3AeD7MJRzxtmKX8Kf/MmfQaCm8Qo+RPu/GZCgfoeHpEsPWXcrT1d2VAjqoZBHHT\n",
       "FNqUYEaG9UDetF2e3Uz843KSP//bD/dkECeEBaQZ96OK9umH7tQ/PcJuD9mJh9+1Z689WKt1707b\n",
       "r+pOB0Pt3bQtcubl9BU8ISyzTOBd+Vvc+WhUNPalUHqD5RQer1S+1B4XW0LxZboKUhYnmAteLx6a\n",
       "vpjc98+bwZCfIYylcu/a/bIxQ8IK6Rz/ACm3LPjpPhiYn8kTmXNXrlUOa6Ems3x7LnMSrweBb+sm\n",
       "1H+VF8GsG9i4nA8wLoZLNiEkzLZ6cZMmMEbvehY0RpIXTM6rpguiGv3aqH6pDAM6OpW0CcwXMEuX\n",
       "YNl2D4H8mU1IR6JoS8UfBq1iyeVgIjVAqNZtxTS08qsBGWx5QmmCWlzHoI9SxIkoCsY0oC+aPAS/\n",
       "C4vWhUGBEBE5JSgol7iuIvSyzd/3JQVjKtb/M9zPFZCNXd9nsTnRIgEkwrs2ewwn8bUUdjdlMqj5\n",
       "iPwM2+UF18sOMWukmHB56oXF0N0scblbDToo13ccnG0stkv4q/cN2CvmXZDPaRuixPs7DQ0AwkW+\n",
       "uQAwipKh7FHT8Bzg+Y8kcM86HPdw+b+o1gYpPC1topEKLIaUUX4qouTxQeKDrjqJq9CbK0/8+qu9\n",
       "eTPICHb4oQSoVOQ0Fid7Xmu9J6D6I3v/k7XhZ3paQgowf4tJlh6qXRZW9yxA0K+18oP6UhnGEOcY\n",
       "kLSM1Dbvh1uLtLtBjqujrKp4mkfuJmHvpjw12q98YjHrazITBbVkTYBtsiW1Jo8U0CuqNS506eQo\n",
       "q2DpInGKvEZOvXslBByPb+XqmrZq+n+bMRR8mbbPX/uLTEhCQholz5z9MGOQumohuFtTjAIlIb6v\n",
       "S59GHRpE/aoMv5LNh5Mua+eFrEFN/vIupXZN7YEbVXnBLAOvc/aNKR/kOwqx0OtMRZR3a59/ZLoG\n",
       "ryUduSXTzmXQkp2CHd1Yl+kt3mbRZmub4iEs4KscadccSvnixfhrKj0/Q8gJc20cqkuXPS1GsXzK\n",
       "Oe28V2n8S4Zx1zm20yJRCt833ZZXf1jH39W767czNxLQSC7gEQv+/QsGf7NIrOjLrrOJ6UxiVzXz\n",
       "mw7Z2MpNeTMFa2T+IeEF6XDJgKMbvK1OPykpxWXyPqWO05u9EUhuokIYtWZVEQDoR1MzDkfWTrhe\n",
       "CRh5uAM+adQWXK0empy5JvUdPza2qsZJFSeLF2gZkwtL9Nqez8D6JiqLkFAjbPtTVjr1U8+vtZ4K\n",
       "EYwslXBHYXdpT2FdmPIz5/6h0sxClSb63VgWi4MNkDUiDoSJe6ePbsNTL8s+huxwMGtLK4gRJ4Ms\n",
       "RURHSYWBb5tqpMXv0ixI9Hp6RON7EAHD9QxzdsvjPboh5IPm1ML0JuFFp3ceU+n+wHC4dcnG5gfk\n",
       "Hc5Ow4P3D8Dv3SgEcFux8ZsCZjkz4FEDKBOW0XnYSuJd7P68mJRTEkV5/s5yUXBA6gkAAAMAQZ5B\n",
       "RRUsEP8AHYnnj32nsgYVAAITgaB4R59L5+tS+//CKP2LSSTwGX1zSNkN+OvbXhrpXTI2sM+etq2d\n",
       "+xj+oV2vd2IaVBQpg1q9D0cZnIKZy1kIVgo9+11+YHETfAvWcEeR4FZ7LunyDJ8IbIAEYdW6AwiZ\n",
       "Yqkup0MCvs+3plRO7M+7XvHU/V5QJhe9pjGyUqL05poMPlq0SGl1lNEkCY7Xz0KMAj9P7jlJoETv\n",
       "jjjzWGftmrp685SG2FNEhqHuwrrbVQp/xDAOXP7J+JzeMTFdpGVRvwka+AsYKLfXQxDWoFfFqYl5\n",
       "CXRUg4CjSxt0fCDfCD0rme8sC7mdhHknT704cNJCQ2WgjWWBKehpbd8B3qg1cURrcAE15O7d3HPd\n",
       "nfDXXCd3j4Ann6laET0qLbTcOxkRKxEpKpn0HPtBZBObLxxcmzmJLU8PalA9xCtmB9hSoa3Zse96\n",
       "RbaEtk1OwRK+yrxLZOE5mjUFuuRICNez8x3/r2iW/DyOPmvAJcFp6HV0d8EVKNCfINVRsBxhQqNu\n",
       "Uv3iyESFXQPVIyx9R2xPyt8hB+dlRn68esiVM3o12PcFhricQqwDXdm0oB6r+pCssxeq7GwVrsY1\n",
       "Tgc5k7C2iqq2qfT28oMeLmbmCfy08Vyceu38p/BWo1DgwJa34nAK/XDaWQwNeLqdQ4QJI8CduNLm\n",
       "vEyFsddTczhMtUHXwmT1u5G72OOZm3DfwhsPcFAkipxEgntlzOct5CkYRQhYmUYVrTs/uR8MKNgw\n",
       "ynA8LcwvjFtRNlOk1uPRRPBOZ7Q3fMMNDgkBBdL3WlULbHzADrmhkEuLr9UEmE3Razm3aWE1ylni\n",
       "57t9h05n772D4IGwas0hWFuRKKkW1+nenYwbszyT4z8mABHENYMbw95iLKi/iUaoI5KrVq9ta4rG\n",
       "7/2+lY5hTNCu0L2SBCIF4hZhY0AvDUXHQu1nnXtewjFYdlqC6yanD/n8ro+zkJmo7kCqR+FHX7QO\n",
       "SAU8Ke6RXA2Ac1Cc7rftQTJXV/qUBjdIAAACUwGeYHRD/wBA1yOSlTfa+8veADZ/KV3E4K/QeVyb\n",
       "xHpwYmn5DxpGv4rnvhDJk1NJS6orz/BXgfW9APduYYeRLT/NHMlR/OvPUHKI7HpiCwDdTnSvAZ+B\n",
       "rcK1Lpue8FjrmkenASduXWDn4dorEou1hMdzLI2A7rxZ9TTQ5/7aYxZqUyCckqq/xkPEKYg672So\n",
       "V+8yYie3HR8NUXqp9b7nNn+9hqYEqJHXFDc0Whm/ciWpb0M1SeWNqwt+dKduXG0AOVZyVel3kpH2\n",
       "1NONeUYJUG+eJbW3z0vlU83S5gTVSkVBNRrOh230TiecZstZXoDwA6ezoUd2kaA2Z52Qb4PdZ8Zs\n",
       "uquHO/xCDZdjLDflpljGZZ8Slmk409+IebVGJ5W4tg9HAqDp7odieRc92JPVh9bNBDX1PXWEJiHa\n",
       "Na045Ubh8O1rjsgDYIaunf+g0eqCOxvoINoIEkt6NCQ9AuSACeyRUX7wfTW4dptXwLfGSGmJMvVV\n",
       "7+8BA5m0qbpqwNZPqngUlx83GIwF1CcBMyN3ELVzFvGVHHNRFE9OETEyXQz2pDO786FVgwpM83hY\n",
       "PlmEuYS0VkCir2Qc35OojLmYZ3lTWM7+O1AH+I5T1GjDDoesfcZczSB35ITuc0u3BtNJpvEI6v0X\n",
       "WHgcEeY+tlcmL69KLhYkLMOt3EQ7lLqzvIxWKXcHGWMaSOqiThQTJx2MIBMs8N2IO6qzleqJukib\n",
       "zVTveVwrpaT+1w85l5LELvaer/+f0JPmWdasPBLjIHPPPU1zyLfsIBM6e/IH7tssIIFCyWkAAAHJ\n",
       "AZ5iakP/AD84IdgU7NC60DvvvABs7nNhdIe99UOfvVn+9HXX6ML1Wh095cYlGEsnLqnUKkRZ2yPu\n",
       "TuqDiBMHG/7mYo7cB5ms3NJHNqjFbwYPcMpChtKxPpl+MmDmvBjRb6FEr5AZrUUiYTgsgjmUK0Jg\n",
       "UA1aQ/qWkA+z5PzFBDiFXcVTGV1FUzGf8rjbt32q3of2qmAQY6A0TbdfFmGAS2iuu50soir99qv7\n",
       "C4dA7EyVSqzUM8ZF/n3o2pL2o0wLl3sTx+QXKfslLXV1ei/nhaYan7pshQWXi13yujL1/0G1e74W\n",
       "sWoU9mYQLGBmPLtKgJw/OWhFvGVkZBAyiCLESMIam8trW9wdiGQdM+9Ve9Oob1NMD5UBthA3pu+8\n",
       "9IZU4/w3ep2gi7ZuKdNvMB2p03A5Sg11bnrNfau80tBQl8kTWvTN40fum1cHa0m482IuZ7HaKHxY\n",
       "tB0H5aUVq3wS49R2ruaw8jXJ8z5bzccWWxEJuhmMyYxad89yn0H1Bmvd1PpcsM/8bqF+TM0XH/E0\n",
       "80cGEaOSlBbmeH+Q+9QS+93SXIMYdvPJq1nzSVUXjSZjfw5g5/YW8C5X/OZjMmbqeB27LiJ2m0Rx\n",
       "QAAAAwRBmmZJqEFsmUwIJ//+tSqAF695+eymg/+Mj+2ACjmB/6Eo3udQ6Zle7DtAyqX0/151qXl7\n",
       "GR4W8c9whSfYJE+ptqCfECIahcyZJ7lLoe/MWw2GzMLz7JxUoTepEhfwmZngkf0iIWXOehKbcWWS\n",
       "jKkvrfdkz2apbvHTm8tgd9pkqa/47utADd54tzXNYN2TeCqv4EoNogXZhhe4abq2AQtOpQC3mQjG\n",
       "YVyTYHgZiPfHw0pcq0k9Ehi5rerSvJZZPk6FpmFMVlU999U0CvDElqa239JN4JHh2+zMWdYhHGEY\n",
       "MiyQ/CwHUgDcvaLt8rppEoAlJhRtZ74ZD1n3uQH72CYJVL2ML7aCg4yW/a8IbYJigOSQqaetqAXK\n",
       "/1M/z2ieNWvzrOeYGKEvSOmo3BFgZRPOrjiX5YFN5bzSYc0r62FDSM8+fwKFps7myzjb3PrS8btH\n",
       "wjLe69aJHg7u5Rbuxzhw75Q2L9N/NrXh8MKcOw7Yx/ToIzts1v0/iOrFvZpB6eJrFyHn3GmdQ//r\n",
       "i45Wk4vVoBx/xnt0scdZ0Y1yKzkdBEF/TH/4l8woDoWgru8UnMadICzUlFE04qrl18HgxYIHSeRi\n",
       "WS1DUktlnauKm9ktD0zqz32YbPYIh1I7tFqSB2qJusjjNRSFR+aoDbur0mbMj0RcntQR5tTWqUG/\n",
       "lvTAnsJW2jlFVR0Aa5q+C5BL7FBfaI/ib62aU1iZXH3m27Eq6S6jLx3tFIhAmgt5EDd2H9JYO1bh\n",
       "9HEsREixH/m4JKSaWuemic0fbqCOkaWoPnSvyVxLWIZN048nsb97Z5LyTI+nZwMig3/JZJo0mpLf\n",
       "JelR3fniKVeautIZb2AAeG3tHclIE5b0bHTjVdQi/+nM8vfPk5Cn2IMOfJb113LvW5kMc0bG34fr\n",
       "hp4L1rLjbKvSOFDf/BnPy3fpLTY2HalJuOTsq3h/KNnTbrmWa3QhfbCMrVcpzhrJBWmAMRGgtrSK\n",
       "QPhDb3YSrk8u3RFrlY/yidn8B4/2iOCM+qhJimO1A/O8ZVmpAAACHkGehEUVLBD/ABwp7WzQ7HH3\n",
       "WIAQqDTU8nDX/Adio09PbOTZ9l4QlD7W/4BwQQXCLdpWI92+8YUkKJjUeSu0ZoPGW8DZP1n7PeGN\n",
       "sITssOb5jCz/8VMY+NZbmTDF5skRctVQcCykhBB6s5+Am9aTWml+RD9ffC4x3D9nLNWT6qwAxO0P\n",
       "HZqHG1B0oWEe/55bmpgtW+e2reZAROXHMwdTh7rQctB1KARzLbjs6L5uzuUmj7Ym2woG57DWD6E8\n",
       "eNvVt16L7tJ/jssq4Ns3MVCxhXvW0OICfemPrLBoeePzr6/zlIkhh3PLZK6RXsmJBcMTDvptmN8Z\n",
       "S7WJLFtKe+gQAhIxQJ+0UKphdYwQ9bVEjg04N5vPq/zvAI3I66Dg6Es/lDa1vKrEaZaZtyo5or98\n",
       "jqcBDOvHv0MK7q9F7NbQZlsbmFn6rZbImxrxMX7BcYqiUydArEhKy9Vmb49Cyr+IsUiED/XlcK1a\n",
       "md5UL9vMa+1jeKoUEq7xtAJA66JPsahrislQGfNhS07bZveJkUTmupIuDKr6DL6GwB5lhukg+xzN\n",
       "Av9vSNxRJVe0JHi5b/e4Tnby88LsM+RALoLVi48Cg/U+hCZAHvG2E+6YZXbX/Jaj1zoRCl07fNIH\n",
       "npm/4Xuo1ZuwDoxEt5C+StaPHOrX21hK0ir9VMkEaDZGO/eOHTTlZyw5xlS/wJLKd8fghlW6wXIo\n",
       "5saXW8i/qVhjrARNAAAByQGepWpD/wCJIPq+ceAQAiCmuyj9e+9bfC/XGsnGR9OGNPmAYz24mPp5\n",
       "NllLyYmU8d3jSBcoD/ObI2k43O2d6Y6t89JC31mU6q50ZS8T1Ph+u4JsGHO4uulmeKuchHUl80o/\n",
       "Ua5OT5Mks2jveNg3mrM5uSDGJojkHCm7PVz06pZyOprnqG+Zk05rFKGN04n3+Ym6Yc9RSeV88M0j\n",
       "46bfYMzFrTWWZ0YH6NeMzXK3W6mAKPkqX2DXXuIDG/clRES+Kntycdf7wA/2UJXVT42u+iFv8LJX\n",
       "FsWabMmHi3L+3TrNm8pk8WLg0I9AdRIYtFUK6zel8vSHeu4tmxrh7OcVS8LQ578h0fRqCSf2hx7i\n",
       "bUzdY4P9xV6WSQjNxFOhIRZdpPz5hkDPX4QLaKU2KzTNDzOiHTPs64RpVXmXv9mQn7R1rGr3Sw6Y\n",
       "MlazfC2lLn/LRkZlWczgFmnSLPCXyMmhiyGYwih+CJOa6kqq9NHb9gUQipfwPV2E10FzJ1wFZqYC\n",
       "l1GbxvnorMQOt892CFIoprjkIO7MHSUpIp+DOojwFe26yO27216pomE+6SbRJviAsGyil4pGgX1Q\n",
       "eg3620bOUImjLxWykw5w9BEAAAicQZqqSahBbJlMCCf//rUqgBYXbebopGQAfvQjXpABqwokd6Nu\n",
       "Hv2oHOmffACO2uvmWGP9wE2S8barviPnfStKsS3mEK21Nrw0anOjCP5naarQso3qEkn7XV28nGYB\n",
       "zRFKSpHpzidlS6+hR9uhreRqMkCBUHxscdRJ8I4BQwO36FF5fOQKIVyP+DRUCEfPvlr4t2WkK7do\n",
       "//ftwoeiLFoblhOm/2EOfJOPD5xQgdIXwPWpZkIW08YbPL2frJBS2N1aF24UrRrvC4+NiqBWdbkb\n",
       "nZlT5jhpCK9jLix1ruRh05EnY4hiQApxyGJF4oZ8smhkbNJgh1WnO1G7w3TRZy9fBn7UYA/hUEDG\n",
       "6HWjpoNcffaBR0gU/GNsowcm6qUumv1Ubfug5Tq10JSdMYzFtLaVarhXY3o2PR5lgHi9TIn9+aa3\n",
       "LuVGcJZVcpSeoMjta73BDBRCSgaTGZIb1pM7B3EGxU0cjGfVUHR4Odo8jIb7gvL8RSuovo5C9lMB\n",
       "IbTAHniY78hIqJJ+K8PaXheoY41T6W6LI1Zvo1d4wwW0je0MF/0San4ggb6sYf0cDM4Qs6DGaJbs\n",
       "/JfqfCsCvLxYj40sVUOsY0fcRqzW31bAPSIPbszB2PS6x7Z6DZCy7CF5WZ6QmbitTio+MyLnCcpE\n",
       "gjzcVmisiw3Ewp9eUFW4vTZEqL0ixC2GafFy5CknomI6UVHK4jUMSyP5arMT3yZX19v+ZkO596Yi\n",
       "EkXYIsin3x6loSIGGSzjV7IT3JMiFb7oCBg+JI/9QBTMmxy+fud9Obtff9ALGKc9yvzniDV4ZVFv\n",
       "LHL71QL07hINAWUw+GADI5ygd/D2dZgDnWfYWidf7ab0Mr0812tuUKfQNVuLhOvk5RUT8bpNDv39\n",
       "O64vl1zINI95V6s+rNKBRjTVYmssfC34uGBfyGfLCSWlj2xkuA9WnERZNZsfsJvTfTpat4uuGTre\n",
       "kH7jal8xvasgEaDnnX5rxbEw8CphzGDL7m9LJCHSQd1HchYnXCFIA7DV4gHYF5Cj/3CQY13aQmEt\n",
       "lH1SBJqtv/55NS1JDhfG/2VXmb7t7TU8UdjIEpZK1omq2I9qLX6wUdSnqx/GX1Epg8Oz4C0Ki/wu\n",
       "7uc4vD1OL4yBGXNZu8DCJGU1YQ/ZihI6Dq5rySsYfqW0vugDL02kXEVz27Vk737TfTT//CGDzsa2\n",
       "ZkCliecwKVkFVVAuNXcx7jmtNK/yt8P/48sw8iiJrnhmDlsKtwh6+hB26zYO6245gunTrzMPG3fl\n",
       "TwCfTeMF8tS8P6biJKbwMLAkFCqh92tqfBsf0EyKOkLNe9xLHYMqSMjkruM2TUmyFZhqvbDqT4PE\n",
       "fmrvRveSROPIBkSLs6ZxsBsys0tgP7Bz3cmCfMOdtPDNkNhwEMrkbPNB34RW67WjfGv7OCTf+Dk9\n",
       "X/R/x1VseZM0HRQ8fLAN+5KCUFobswMtk/dYhq5t9eE6j37FeyyPmhoM1DggP8SBKv49o9+TFhPl\n",
       "MlUpE6bZrrt7yah8JLB7Z7QPwXLIoiC6j+fKBrVCd3i2j+JfyCPD0PJbSy13IvowdEh4FKZartvG\n",
       "+abu+2SwljCCNSK/egO4Pkh9UHYUZKLOCn1e2AG7wgVgb5ZYwsjPDHIeKd9OjS5+Qyi/F/+CG139\n",
       "ANjwqQZXmzeo/LRHO2p2stdzoOKNTh4gC+s+sgGgCqbs4uR6QE0aQwNOlJey5S5yiiPW4LFsLb+B\n",
       "kU7QpruGSV6Po9bvLONQubUUk44W0Lc8ObJ0/WwPGlMQl7XdIBVg+sjh5T2NZLfw+8O7vahIFxnM\n",
       "AmsUP2g+ZBiXZEc2ZuPlxFKrjOG4nXY2KqSQ6jUvZrI/uOHa/lCYVNlqWOuUXmn9iaw3h2S8hyxJ\n",
       "cE+8Nx0ZI413vvt3n5+KzxHb3nnKlNvGETSCL5FXlUBKrXoBBrgJ0K8AffEAzp5hCFq1hscmv6W8\n",
       "JNEAtkerihGtkcS3CJENO2mw7DbihDDZ6okxG8DOQA27NWSOqVT2TdMPdC9gydYIYQAz80zCA/nq\n",
       "GkKGAfZNgUOJ1BZN2zmUqN+T6guYKhfQNoM7A2Y5vwrlvAJG+sKD9ISgmH3G8wOfuOsrZWRhb8IA\n",
       "WLkrSH/FqSNnVh1BP7IEPQlsjJL2d/XF+O2VgKDTEug1GckizDi91jFHRrCPf1VllzMVuUMS7Emt\n",
       "fyEIBABnNYETWyoH/f95b++F/EPUI+eiGr7Hk9UNdY3LDlVBBMJNw4E6EQE+WrYrmvWXJ6izvAQ5\n",
       "AOif15bJNHXz3yul/pgVrOeZZrkeMjvWeFnMgzn3bL3HlbDoVWRRZnkS++JSaPQNkOXTzsWz80z9\n",
       "smgZfEyygnl3Hs8XOOTwtL7nwY0Yt7+WY0NqlZnnvPonm8W+dZ71b2MpUVFz8GQKHsq6WDlxfH0D\n",
       "/Vphau3JYq1zyZdxj6OC9cLx8N+hpAODVtXTCG9u7EPKJX0xpi55r7MALMM9HNJwTC7YOO3klSnO\n",
       "1hOui4zvo5MDBhax+Ju/NTLAfX3BoiPEHoZ7242A18l05hLT1SLCIms5/71AXXv8I24KMUCZtDCr\n",
       "Pvvo4YlDDf1P8PQMpcT95z03NJJNxcwyC269mRSRUURDt0BJQyUmhyVfb97eFpfsHfDCrRzsxndO\n",
       "Ea1BdkVDNMdJ2g2qW2ugxRp07/Rz+vZVVzxT81gi1iuxm5Ge1Dqd27l2Up0ynRL8KMqC7SltHMMq\n",
       "Zf59X3WzUq8MJwY2OXXZW7yPvYtnFdtXRfs0WMd6zaB/8OY8E8mAIT74oCVcPn/9IUUN1H0aQfOm\n",
       "UhecGN6D/ozuGMowBspAflKSnhAOa/7eoiKl31QM6pOab3E/+pxRTr+yw2xtiU0MfWYb/8eO/Fsi\n",
       "/lENrMQnDFr//v6dwUJBMJJwzPMD5KbAjGgdWzudyU/o5z7wH/2O9KQyJ9+f6p/x13zHI5uhsjEI\n",
       "Q7sAAAOXQZ7IRRUsEP8AGtodMnnEqPgAOzFbxQHQuKjK9/qwgo0OLxZF0dCW0BToB/KpALFoblJJ\n",
       "aZDyFNpE6DCw/+n49dTngdq8IdzZJL5k5JhKrIHTbZCD7w6qiGdJUx/07vxn+X3fFYezrmjvedq5\n",
       "PZ6LYQtVlLRbFxZ17tAOQ55gCX8+MYgvP8GwIHB9zSvVCuSC3Wo0DeV+cWNNhDgHf9m3F7AVYOu5\n",
       "PG0PKhWAS4iA88OWf48N2VLmMApG1jBrxOyYnYju3VIUpCnoRUXMd5WEzlGiMMIeaTIp+N7EvZNQ\n",
       "VRCsIXY9eDOzR9m9YR16xA+1ZNC3kWRtuf/wC92EjBAKtFu0zj30cPrKeoTTrY3VdwukX7kGWgaW\n",
       "wf5g1rEAF4u4Ee+HdxDhXIqKlUOJqNNwtUaV3QcsZzvyzuOOGxJLf2MuC/+T3Q59bOF0vdwwy5Dh\n",
       "UXQMdQthV+6xQKGWyQ55GxUk7FkXi0jOVbEWJByiueC7CJpOlwS2nWV+LXWFn/Zaa2h5A3TnWqjf\n",
       "ARQTCLmURvNxGKCAybNv6s8Cg0hB/G7Pq/acFZS3nNYGzWTcHQMxM7ih2PDOxM2Y8gNxRdBCNXNB\n",
       "gDbcJJaWJTHEnwM26FQsCpR+pp/kUGId4PWYPUMdr4SHqTLaAc7x7rWC6+OEKI7s8kkf3yVtTCU/\n",
       "ixTWDlpRKse9bV4q4x1FjMS0tKVVesQ7N89dfqrX0mKEoAAiqeJxvBd2hpQPA7kiObNiCornu1rF\n",
       "9ojduhpcctIQeCz19uia7S8YDH+QXq2KW0MHaAYKfA4UMBoGljcWUZCWX+rh9NZoJegfPdTmWjau\n",
       "DyIyNUZSYyo5Jy5YjB5ZGDHe1IiBoic3igI1Z0yhDTS+8J2/K3UXkUxdeaXTNbwph9PZVIrIsnks\n",
       "ojHO+B2qI1XxI4zJg7kAToyyVgRd3fLZICx5W+YuDVyGreBQWhXcO5BtqFRF/p67ZwnQuNpNRDY2\n",
       "0H5kZgMLc8e88lMHerXxDezokljwYONOxImfXWDtlqSeAxOp96WwfDW8AYYA2aZnrFtwUWg6tcno\n",
       "5EGa9KqUrxb1hr/EWzQBScbhq5ui18Sd5rcjhNDHblDTjYAKqfxhBGwHa9XVcwtJno/FbkTHhnAW\n",
       "/xTQ8K+BiUcP+cCKqHseWd4b3YBdMuKUVwE3ae4jd2vKAQ7ikWt/0wt6TNfRx+m7Z/t5uXggtqhg\n",
       "vidLis17CnwXyTqSYAAAAm4Bnud0Q/8AOxXhfPtnU/GEACH3/oXH0Lioyvf7YlxbrogCxISvyLxx\n",
       "BgR3t/PSiDT/qUBkeSIYYdSmIKEd8Z53Vqh5OxTxe1ChPf0SrZd5EN31KSpeQK7sTJlp3/y3sH6j\n",
       "bFyEmcD6SRRDj1CGPRjiFv+kyu6NSkTv0IPFByvtgxLnRntuwFKTDjelIrqOSufFtJyhZco/+JM7\n",
       "z4T/BNzuArb5jNHF1HuIc+yhqO1gbnCb/yJEP2Z8p2J/9FxxyWio8jko+uWJrL2mNOyQ4NGlTSry\n",
       "IXOvBM+aygKFBekXS+B6lRciKrs7KrEwJ8EM2gca7DXf2uWx048kJu3lVUb4Cnm5nnXZhh7sqNg8\n",
       "pgojXoLvoGg5pNO62kXeC0OtRmrZLxdxgq+map9Jzwwy/YVkUxxt0edoAzUMO9u/bp8RkSlpVId9\n",
       "xdWp424T9zJv2oF4sGWGEHtoZy0u11/3drqR990/d3og0Gl8xCRDieT5JR8HE3w5n0qTNsHBOwNI\n",
       "v6afweZxCuZlCRG01+x9ZmQ0R+Bw+cQQu/ni7qn1GHNhmVabiPkWafBnVZ+U7+/Pn6lyTiZyyZ4Q\n",
       "n0YFEZ1cKzJYPTLNCrrl6rfbIcxGivXf0ilJWaCuq62piE4Z+wcr68DmeXMNr6gPauui2mkDoF/i\n",
       "R6aIKqmGShYzsHpO1jB50xtfUFNI6P/KWH38SMHxGD5qNOijP01UV9nfOaOsL4Rf+obIDWWUS7Yw\n",
       "V11y6qJczWKqtg4cuBrPUX66Ic03aNtFAr/FqHRExHY3gZtKIhUCFgUBMCL9gV/Re0qs1z/e+g2S\n",
       "kxceL7cYAejFwC6gAAADvQGe6WpD/wA2+Y0D/8nHMwQAIg+QsyfTFcn2UPge05FVxjwUqbslpBai\n",
       "+6jnllljX7L14XAoX9JUycb+8+FYO5JS5bBvXcUnFvY3d6EVOu6EFnAVlJWFLzdhSErMkzc96MIx\n",
       "6+1e/qFP899b5E7f3RtvwzImwEZGCE3iU9yCGMa3pLEah2sOf3Z+hAzn+kb46qD0YND0eWJIIR1f\n",
       "aq5annludOXKzRBsv4S/H7XnQk2zWu/9CMfn2WuB676p03X7EheRHgUDxDhlolDDh6kbZTgX5KxO\n",
       "kiMPhg8suBg1aw9mNjgwg5Hovt0UFd2iA73+zooz8vb6KQ+qKjL5Hl3Wnve0QaME568QbedVqM6g\n",
       "7shWIsjYmqVsNjCJkNnNQ59Xz3HqqQ+tc7zem9Sinxd5I4RPu+Dfbq5Fa3CEXB+7gBBdYQpD+cOJ\n",
       "C0IYVQRvvz/1uiU0H8EKtsKyOjoFn3g4B8NZ+2MqGKQMOSphNwLuiXPFA3jymHmu1oXh42ekzdP3\n",
       "lt/mmHqqHd6BjUaqtrVE7hwYLeLy76BNF/xJbQKTgwbMITg39l6MKwHUvlmnvz4SasB2K/cZbSVp\n",
       "eE/0UShvXusX8koCW5pL2J+emaf901suaecxchcZsWJAFOvjqfFeoo010M+oGCTAy+dMOuF5syGU\n",
       "xl7OSTSy3R8Ft04tAMXYPGiz3YgGBB2Cf0GIV+oyQ+BTTqCnQuVvJ4wWmnkKNnrGK4741Bzh20RT\n",
       "KHlKxBK4bh5gLhG4gOLJxbztCi3w88+lGg8FwVeGzfD+WrTcvZxAiGzJnrHCZOXnH/eOG8YHWEP4\n",
       "YVAwZggieLfI8b5aLtt3QUTS6UgFdnMW5nk+JrB94d2mOmeZqSY04OuIULyF3IWKenk5vHOHadyg\n",
       "MiirQm6gAwuBQoHgOXMawhFMME0KgAYgQAWll0JjVgoq0kZf8VhinWPuRSU/JJbII6s6DNBQ+bQw\n",
       "CIpy6EtxyxktgQqiI0FBcm/hIEVJrVvKG5HFQXlBUTwNcWjjvFLQhQa6r9UmBHlST0rKZpIewR/k\n",
       "Qr3RtRj9IZ7f6G8qEd5CyQ//bSd66xCpyoUMizSd11BV279l3JV3JmpeC6nPrSIuIG8+1RF8Oiv2\n",
       "v8aBznLTItMu0krDdl6CnwhjHvzg7CteGNeziK6CZ6yo+AHpjskxuCIelqeRKsQG9nWFmk2g/76B\n",
       "56+lrE0b6VwbtVp7ppihjeDzF+lZLVmOTl9sTEOx01h9i3PIfWglxyWmw3OTCj63AnCIwRQlJNm1\n",
       "m4D+wQAACHRBmu1JqEFsmUwIKf/+1oywA1FS3GWwABnnhvGr7CJg4GGqXBVl+6YkR8lZL0dW7s5u\n",
       "mvlEWl7BBMN9l/5qulrAc3Ponxbedoo/OyS8fHccV3l19nF0ynivQ5zsuElq8Yfi/YAC6v4KUu3e\n",
       "Irnk9l3ACYhV0plNh/351ITYT9Hzs3L6mzUSvrFGWi/qgxdpvp01ejXz8noQjbkvwI0XV+XR3fsf\n",
       "jx90Ma/WxBfV/Q3czo8O/uTti4Iqp+gWbevBpYERHizlkiKj+6epuxSZhnh816yAzXQku8z0b/4/\n",
       "DlWnb+ikIkWTL+LO1oLky0OZN/A4qAJZXRJsTG1n1zaNYidFXaYFj7ZRE8I1VhEpFUW0gmLg7mOC\n",
       "/mT1ttQ6jqYBYaIrJoE+zEqxGu0r4KjtvaQfG4+Ql3mpcEfkpVcdUALcTSzk8InYqm3RXhz+D4/d\n",
       "NmIHG6/838hlVBdTmTtmcRQfgJy+uCrT+1zzhF0Cjq1QG1T3bcOgr+BrMesf1h7kDrblvgcpdGbt\n",
       "rpH7d6eWYZHcvMGj3ss+9PhNxWt5FR+64i1HlrlJgLiVYE8fevJ+wXMnEamij6NPqC6pPR+gQmNi\n",
       "4zLP3KbWI8x4rMc92HJzW8rahTYpUbCxGJ3IInM1X2hlpoy45802nJRYEyd4vIbJNVFWbKE22hmQ\n",
       "jrmZ2IkTeueEM7gyS0sIFmdtji9ZicJvPRN0BVQpYqPSKKfui6wqVEyZJHdhSoYSs0p316etJZFr\n",
       "I5TfdAKRk8Hev+6YW4jwiMkf8OfNnniJk05ao4TQwSzS/MjLMo3QAVVMOl9E4dXzZPMvzPbdGq7p\n",
       "OrZvH3RyfGFqBuP560sWYpJXe7DfGQK91jQagKofNqVZ906H8VlKVQ4ZYRHvkFTVUT5jSliNMRb7\n",
       "S6FqQuEErK0k1khQ2acU2sdLZ7oJcFwr+6lSJ2/Bd201MTbQwQTLB6P2q+iqMIU2arKmaGUPBSl3\n",
       "89/g1tTEGkE9Qlw0f3wV68TL36dQbuidr7FesmL2m3Fetp3fw7fGKdqhWNGk0CJSmoJCgsL4Df65\n",
       "/sMfrHW+Ca0UBUwchijeqTUKvteW43AxrHo89NjmoyGERbl7b92Lmc0yyL4RyVN8mlqnEiboIzU5\n",
       "N+7XxjAT/c7TAjPbB1MKDxgkt9WHq/WwdAUCBJsJcl0hN6RrhyYfNgxAwf5TKWml4HvRf9+DBOr8\n",
       "XAAljao5dMoaFxwrkIWND2jUn9XIT1n8vhTFQAuUX27x4LSX0nV5bCtEfOLNG3LbXZm0ramMHprs\n",
       "VX3QD/ZmvdD6QccjmKnVgyG1aAfSLByWnypyL7wVMPih8uDKYgTsCtpLCI49eMs2ICjn6V4TQVwx\n",
       "nWj4k/D7oz6eYPmPOX7Q50dSHsuo0xD9n6sCT7mXdKqGWoYFJWSsLJx/WuWLZWdKR8Ns3PfKEEMB\n",
       "X4YfsP2enuVYLdFuQybHAt23atveUToq+0hKW+xnO1oiyR6ULSmWxt8gWJ59QoUFTZhDDQqL4dL4\n",
       "RIBFIVxztqWb69RsVjZryPu+9Qf15fUP4jVAlWhF9TJF8EhOGUF/gSYMrfrDPcALdKi2gzjAIaIs\n",
       "GH1lToK47kvgtvmS6QVLWvvvM/jdiVEQe9rfGAxRg1rtd0e7645HAwG8XADZJAVyMZYc3e+M/RlK\n",
       "NKT20b5czPVK3wPphT6IkCpUH6F5eP+RVUlYrkuF9Z9i2jMreUXAts2Ed39nSEZEHF8heNL+B+1s\n",
       "OHrBKz+RNWsQaBbsfWVhkLD/BjS+1yljxGaPTT7XMH8lE8YFIo7PAwEsxbGs4K/vVA1zR1UoSl+I\n",
       "7HICNS6+5QKn5Tkp8BpJWrhq7GlNT0UsYFEuP5s1R996FizCCDEFyLVOOvHjYc5UKRouUeg/WeFA\n",
       "IIv/H69SchMJDpZlPKs4wsRvIaAe+lbOOvBvf8Pk1248RoA5BUNo5fVE/KBJnAJCjf9mzESU+0HF\n",
       "5fwzljFGJbjqkVFSNVdgDLt8wICPjzUaRjg9TQzr9tyt2xmQTa9CaBW4KTfYTzHZV+fuRv+vdRw7\n",
       "Kqj23QQl88Mkvf5quvB9YeRsasMVHQcMkUpkF51rpvysetu9QUfFqY9ya+AhOAPIuXVCy77IaBji\n",
       "3m9GwD22c/182XTbRZ5+CoDz1krBujjLyonFFb7cEw4I+xEwXRqYFeHCAyxHOdqBEmf2v83LmZQB\n",
       "NDpSjUbkKJum2HyiAlmeLta+U/LMFzAQjmohh1i+pdNkaXkHc8ceTIZ/Uo1l6vHt3+Z7x+YsPH/q\n",
       "WQ3Ccn7SE/9Rt6LZL6MtwOoIEF9HHeoeq2jZ1tPRO2CX4MHbJZrrzvNh6ZCZ/loawxaEZNORwuCm\n",
       "21FI7+Wb96Id/v9P9Jz3JT5hjRUyHvDpD499rKZX14Ny6492eD3NA4bwRvAxExdHnWtwl7FK00KV\n",
       "mjYrFLbJ8oHOyOG2cK8n2s+XqjZwrZjxYGql+C054E1chz7P7NsrvPPajLchtRVEsbKLIn3Eecnd\n",
       "/JJQkuHKX7X6fBoQkhwaVzNpLTdcBa3sbgMk5+uXXrRWXFsyHLTrBztmqtIQ/RSggAu8+tvGgz40\n",
       "Iq4M8zwX3Bgk31g8TBGACPlkhrnS+tjUAiWSlY5cc8Fg9rWdnpiNr5PRy7uNHwcame5j+/5ioGTb\n",
       "ysCTHH+6cp/bjzN8UgQJdO0JfTpCcD1UXZFEGT5UlKOyc6TFK56JPbzHX55ebfuWYRc5ua9oej0y\n",
       "f3xMfKO5SzYd4SilpOOTxyCuWfo3U9kQBTVathB9YYhzeMDHSppT8hsVqpLpM5tmttKqpzx5o/ig\n",
       "v7lQsl13u9H1Xl0i0isoRqcwNlVNyF7mAtytnzWMky9QGh6xfpCjeA4C8AWJxIAuQPKP6syveajK\n",
       "s7IHeodwAAADJEGfC0UVLBD/AA/dIMwARB7BpNiT3Gpn4ln1pBH4BRN8XVXlYKIuffPMcxFbQzdK\n",
       "59d30lyNji8nHpO83wm/GzHdG8w1prxmJi16rKHfSEJKr3kEoVlxE5h76ZdkNqWwlVzfvc2s6cuA\n",
       "SE2loGVlzN5oQDcmjukZ4Xb0Mw+j69ivnGNPrV8wTTkUUnxjghjE4ytGZjRox/Al33MFHS01ECzP\n",
       "g7h3mK5aZky6KVtP2WSeExQUz7TznSw+Bc15xIIHV/VPr/mecea5MahvRDTmUfq5iS8kWexeapEy\n",
       "/BsfKawYTJ9D1W9KLklR7OwciAAnc4JzvIktLqIktRyr+clFIxYEawSOwVxuxtBbyPr7jVgPohdf\n",
       "4RXBUuaTrQRMMgm8rD4l29zVl48oPqzSdHzqbz1aPi+lY9VeuWIaE8lMRiE04KW6Vd6CnWfKYUCJ\n",
       "GWieoX4KoOB1FXM5z3zFT+OmM51AewFj0T0GH0kBy8q5NQ4pOTSq0r4GT6FL3+6anYVUzeVRw2pA\n",
       "lPdTeP+sfuh6tRTLuOhZcA1aFwx036ACej8gMpJ7++eEb1JDTq1zWfp6moyKLLcgBVdDp+PvOogV\n",
       "5vmjUlvT9NybPPQaeFudKoyBJfcabGVKhk3InlxuAhL829tnZHE3vyvtJutoe/YI0ip09YGs/rxw\n",
       "x9Br3z5oowB45V9D45RX9IerxXhA5RONVpex9J+1xRjT+VTMIZdRCQZ08MVLbGO8qDlwJCtNMPen\n",
       "v2Zf8/Pk2dw7gLl9O1fauYMw6uHDpg9Eh5mTp4D5Q3qAQwIrp/20wpHWK09+FbGLdOXgMAEJq3Bs\n",
       "PCZnehCNGENgJtYptW2VvPC/PDj30kItxEyDvv0Qm8439B8bnSKKYobax3h1S/6+b688DCG5/+hV\n",
       "7Qm/M0YHEGJzAA0tQ/cd/lKC22TP4BlgETs18/TGnWxknGDTBdTnou0ScyRsQShdYDVYDvL45Nbu\n",
       "xDbIhwqc8OFph0aqgaOL4nXll3+kDPLZjudxdvljJsDJJ3+4fIu+BAQCID2HsV4FHH9sldMv2dEJ\n",
       "OiLaaHBiAD+KCuL1eKP/mAAAAq8BnyxqQ/8AIrAlbeYBAG49+veOJjkR+ib0GRIvOBTX9xCAePWo\n",
       "kGlx+6p6QFeNVbDR290/gXlEwNsuMpdpOTuIzGgjEeDkOvovoaxfMSKD+1JNCxozke6X106jIfZh\n",
       "TvxYt3tO6KFBslcD6JQ92gH20pNhRWtxZi5pCKXytsCg7CAiD5+Ye8MS0a+2gll3OcsfSD+MOevV\n",
       "iQsT5XJPpPLf/wZWAzH1Y0D9ni/bOfTPLXhVni+MccPHKh56gVQXUVmmkSsL6G+3l/O/nro3CGJQ\n",
       "Oau8wCPeFqGcZGdPxmT9SUdhh/LhVbcyz8alL3FeRXmel+hGEPe+w+SCS+x9etO8njUAsHxGT7TZ\n",
       "JiKtZQkNda6DGEDCvh8xhKGo+Aczcm2W5XU2j5H0LJRBL5r0VLp18Dxyv5hAGQe9kDm+CgxFoTBj\n",
       "fP2Dg78zdI+SxZa/iCPaLuMHHsHZH+sXQbxOYfAgHKyXeahxRhHbq+h+9wRDMsa0K4r/nXgZ1Bpq\n",
       "DKTcoNW5QJIm+LjwPwNEuP35XICgQAYrQ+W9prAcqlvGcKr01yGfHnoruOZMnMg+hFUuJ8Kbdjav\n",
       "9KYW6B5ueAfSebOlpFXMkHmuexwAAmef9kqYFpFPEK+H0ZR7OVWMe2MsJ3ck3TBPBH9KcfU6Ao8L\n",
       "jLRM3Xbs3U9twgf2SuD7ACkjjXKml4zv0YFloFe0mQP1DgDIq0lHCqy04qLw8ouKF+n4PVX5G/nQ\n",
       "OdAiEbBe/qppL2/T2yimwpALA54xw7xEOjwoz5dHg1bpCQcp1vdQOQzLwtkW1CCI6AyBsVsOiCwQ\n",
       "tr6TTW7F/U810/DR7UJQNHrS7tHyIB+cCmqAw5Jzm4ECoeqm9LQmweh7CK6KxksIPq2B/fcYqKXh\n",
       "wv+M/64CF49CLCp9MQlSjFLRhwlSvIEAAAWsQZsxSahBbJlMCCf//rUqgAz/RiNngAN1OWQV21E5\n",
       "09Vc5fXYsVpLCi3HfBD6Jopok1LM5yUE6DNzVMADeKXxPl+rBMgoXc3iTZ6HfgWu2Soj53xGyuPV\n",
       "tCoVgCQP2czYusrkYOkRYhVU8ZCdnmXQLHPQJHdLe60EXepCFUpu70QqPH9F9NbTeAu0s5rOW2/q\n",
       "J4g7uk/LRGB0SvkCksK2cKMnW+dB3A1aZgMZ8C6K76bka6ySMfjOoV7mcbVYskeivCMUIF5yV03l\n",
       "PqqSQbz2xjzBoYhsLNx8v/wjhUsknJ02byixiAblaW2NcnzEI6+BlXLPqpO+6v4Q27DuFxZiHh/Q\n",
       "XTaUAOwF4MsX6iHhgPlngu9F7uYLIYEMFtqVW1/6v/6fKmeuw61El25yxWI5rIIC1tv1Bpcy4k0y\n",
       "hIaeFithGXb0pSm6eW8zvXDX8pvJND88Hpi19KF78IQLkEbN66ogi7CLaG0AS3qJR6Pe+MqenVYu\n",
       "FF3JgfL0CMkq2DngUE+wokG1E9A+4Tvzk/1TkBgY7m7hWOy3LGPHKePNDI4LIt/IeliE5pfp8wFl\n",
       "yeM77ulOE9TdhQhXIO73GArgY2WBUXiXWQQEZ8xQoo0PzIfJ7hXggRE0oHj4XcO1cZ50xfQ2a/Cx\n",
       "1dK5Nb6GdU1nce9ipmMjckNziPxZd5Vqx14YVjrRmjd0DjRANlXoKpYyvvkkQ7cdpN/5rdDSqBtg\n",
       "HD6eenOlSvrHkarCZAUw6VSAKp6ypd3W36ApJr8/IfJaxeVSwdi7U3HGI4MQocjT4b9AEkDQ5Azp\n",
       "RRbJfB1uu4QsTb6yVzPSkljwOFOWrnjerfQ6yD9wSJPoTwS6o0NXp6avBg7MESJGJx7pIgSGQFiL\n",
       "tvp1gFEBa7AdB1kIkQGRbKnlbN39as4whH5I2DLfQaTCDXPh3XiVZX9DfsvW+3OPqFybw8dQ6VX4\n",
       "fMdsENFkuKjQLexoFoo2//MnkIocdkixQD+U9rEoja0aTTG/kKvGQJdszfsW8CYLwG5F1orbrJXY\n",
       "xO3Ps3Rl11SP0GBB3Y45wNt2CDL3yKTSqLoGLxSbcKgVCtf2lm5y67hZsuN3Z3AccxEX8iVzdlzs\n",
       "2TxfYVUUtlpL4ybx9UaVWMt+vkxCfQ97xK2sx/sc60SAORUkkxieq18vXYSMUCDbXw/RnLe0FlRm\n",
       "D7aDk0zj80/BxvTz975YB+budbtpsofsrhNldQ8sSeivaGSrQc2ey9hf4Bj1pFiPV1GATMWhdtod\n",
       "8cseOUd/TxvXfTwqjRq3Edn38WijdT1JI6vcvJyaNMfurJwhmk1CMT0B3NXmaV6Oxnl8wvy3gEyZ\n",
       "L02kNVtzUBhtNrAGHmGsYZgZRlAo1evgXOqhkJ8LADLcUBcx8QqTAQ6bR6qgKIgs+/qJTElq9jci\n",
       "Us3+GMy0ZqhlfQerLSgGnPDZoXk/Il95cOqHFDELqLbMBqt3zAkwpyYX7VbsyIbbE4QuKnbils7q\n",
       "yz/Ec/WVYS3/GObW+Sae/oPWr4us2RPfkZTWcBCT1Zf2fsCXS/R8Sb+JnnVN/A1sZHENinz2/iCo\n",
       "y8a01Ej/bhLW0H6JSJcsDkRg0wEjrbhOZ/HyICjn+4kv2QmYYubwbp0/x0aWm1FbXQ8RVbAKW3el\n",
       "QVUqfwxLTnG2/2k+IAzLgzMbZAzC9u4Ub4M73AGf/RjoLapmrR9VOw45NE/Gq67egXCjBFBRKNmx\n",
       "LfSc5HKuf/LSEALqjEWMLIDvps74ESi58QhMERekMtJvJNrFCHn3m/8JSExVGqflakDyZBnc3Ytm\n",
       "e4GWO/26FEpROvaHNbLFTPJ6dTGUmQHgf3BBIqqYTs8Roh4yUEivMhJAjuWIYlSdiG7zn8UYYUYr\n",
       "o4W48vawajJbv75o2EL5ofs9dSHX+Ry2rxAaxkf0eaKi3NtdP8n18/H7RgF/zcRkOUemhIPhAAAA\n",
       "OkGfT0UVLBD/AA/c9wnVYIOAWIbCjuqHeW712igWMySodCS+yP8jnMCuzf6btq3630RLpgiVVdA7\n",
       "VhEAAABVAZ9udEP/ACM4q7FZOACdvVkzm+fYD1dZxHaJoc4ScsQ4ZrZkqHUg5FCfkg+0pkKD5j+G\n",
       "hgMiAI739tOySADB+8BcVtoJ+j+MuJ7YpW8WIZYivNp4QgAAABkBn3BqQ/8ADy9kK9lrRU7yEjzx\n",
       "K844RpiAAAAAO0GbdUmoQWyZTAgn//61KoAAJwlhEAJH+ALpT8Br03wf/V5c6i0pRWp1kscqejqt\n",
       "EAcsaE+hodqfKBfhAAAAIUGfk0UVLBD/AAbnVNXeSxoqSuaLz6PVjNQB772JYNA8IAAAABgBn7J0\n",
       "Q/8ADy18uHsUTmk0JFZiWG/No2oAAAAUAZ+0akP/AA8vZCvZa0VO8emsCVkAAAAbQZu5SahBbJlM\n",
       "CCf//rUqgAAVMqPgAFVn1CkgAAAAIEGf10UVLBD/AAbnVNXeSxoqSuaL0GbMeXUA+TFHMNOBAAAA\n",
       "FAGf9nRD/wAPLXy4exROaTPTUfazAAAAFAGf+GpD/wAPL2Qr2WtFTvHprAlZAAAAFEGb/UmoQWyZ\n",
       "TAgl//61KoAAAB6xAAAAIEGeG0UVLBD/AAbnVNXeSxoqSuaL0GbMeXUA+TFHMNOAAAAAFAGeOnRD\n",
       "/wAPLXy4exROaTPTUfazAAAAFAGePGpD/wAPL2Qr2WtFTvHprAlZAAAAFUGaIUmoQWyZTAgh//6q\n",
       "VQAAAwA9YAAAACBBnl9FFSwQ/wAG51TV3ksaKkrmi9BmzHl1APkxRzDTgAAAABQBnn50Q/8ADy18\n",
       "uHsUTmkz01H2swAAABQBnmBqQ/8ADy9kK9lrRU7x6awJWQAAABVBmmJJqEFsmUwIf//+qZYAAAMA\n",
       "8IEAAAe+bW9vdgAAAGxtdmhkAAAAAAAAAAAAAAAAAAAD6AAATVgAAQAAAQAAAAAAAAAAAAAAAAEA\n",
       "AAAAAAAAAAAAAAAAAAABAAAAAAAAAAAAAAAAAABAAAAAAAAAAAAAAAAAAAAAAAAAAAAAAAAAAAAA\n",
       "AAAAAgAABuh0cmFrAAAAXHRraGQAAAADAAAAAAAAAAAAAAABAAAAAAAATVgAAAAAAAAAAAAAAAAA\n",
       "AAAAAAEAAAAAAAAAAAAAAAAAAAABAAAAAAAAAAAAAAAAAABAAAAAAbAAAAEgAAAAAAAkZWR0cwAA\n",
       "ABxlbHN0AAAAAAAAAAEAAE1YAAAQAAABAAAAAAZgbWRpYQAAACBtZGhkAAAAAAAAAAAAAAAAAAAo\n",
       "AAADGABVxAAAAAAALWhkbHIAAAAAAAAAAHZpZGUAAAAAAAAAAAAAAABWaWRlb0hhbmRsZXIAAAAG\n",
       "C21pbmYAAAAUdm1oZAAAAAEAAAAAAAAAAAAAACRkaW5mAAAAHGRyZWYAAAAAAAAAAQAAAAx1cmwg\n",
       "AAAAAQAABctzdGJsAAAAt3N0c2QAAAAAAAAAAQAAAKdhdmMxAAAAAAAAAAEAAAAAAAAAAAAAAAAA\n",
       "AAAAAbABIABIAAAASAAAAAAAAAABAAAAAAAAAAAAAAAAAAAAAAAAAAAAAAAAAAAAAAAAAAAAGP//\n",
       "AAAANWF2Y0MBZAAV/+EAGGdkABWs2UGwloQAAAMABAAAAwAoPFi2WAEABmjr48siwP34+AAAAAAc\n",
       "dXVpZGtoQPJfJE/FujmlG88DI/MAAAAAAAAAGHN0dHMAAAAAAAAAAQAAAGMAAAgAAAAAFHN0c3MA\n",
       "AAAAAAAAAQAAAAEAAAMQY3R0cwAAAAAAAABgAAAAAQAAEAAAAAABAAAgAAAAAAIAAAgAAAAAAQAA\n",
       "KAAAAAABAAAQAAAAAAEAAAAAAAAAAQAACAAAAAABAAAoAAAAAAEAABAAAAAAAQAAAAAAAAABAAAI\n",
       "AAAAAAEAACgAAAAAAQAAEAAAAAABAAAAAAAAAAEAAAgAAAAAAQAAKAAAAAABAAAQAAAAAAEAAAAA\n",
       "AAAAAQAACAAAAAABAAAoAAAAAAEAABAAAAAAAQAAAAAAAAABAAAIAAAAAAEAACgAAAAAAQAAEAAA\n",
       "AAABAAAAAAAAAAEAAAgAAAAAAQAAKAAAAAABAAAQAAAAAAEAAAAAAAAAAQAACAAAAAABAAAoAAAA\n",
       "AAEAABAAAAAAAQAAAAAAAAABAAAIAAAAAAEAACgAAAAAAQAAEAAAAAABAAAAAAAAAAEAAAgAAAAA\n",
       "AQAAKAAAAAABAAAQAAAAAAEAAAAAAAAAAQAACAAAAAABAAAoAAAAAAEAABAAAAAAAQAAAAAAAAAB\n",
       "AAAIAAAAAAEAACgAAAAAAQAAEAAAAAABAAAAAAAAAAEAAAgAAAAAAQAAKAAAAAABAAAQAAAAAAEA\n",
       "AAAAAAAAAQAACAAAAAABAAAoAAAAAAEAABAAAAAAAQAAAAAAAAABAAAIAAAAAAEAACgAAAAAAQAA\n",
       "EAAAAAABAAAAAAAAAAEAAAgAAAAAAQAAKAAAAAABAAAQAAAAAAEAAAAAAAAAAQAACAAAAAABAAAg\n",
       "AAAAAAIAAAgAAAAAAQAAKAAAAAABAAAQAAAAAAEAAAAAAAAAAQAACAAAAAABAAAgAAAAAAIAAAgA\n",
       "AAAAAQAAKAAAAAABAAAQAAAAAAEAAAAAAAAAAQAACAAAAAABAAAoAAAAAAEAABAAAAAAAQAAAAAA\n",
       "AAABAAAIAAAAAAEAACgAAAAAAQAAEAAAAAABAAAAAAAAAAEAAAgAAAAAAQAAKAAAAAABAAAQAAAA\n",
       "AAEAAAAAAAAAAQAACAAAAAABAAAoAAAAAAEAABAAAAAAAQAAAAAAAAABAAAIAAAAAAEAABAAAAAA\n",
       "HHN0c2MAAAAAAAAAAQAAAAEAAABjAAAAAQAAAaBzdHN6AAAAAAAAAAAAAABjAAAhRQAAAcIAAAG/\n",
       "AAAAqAAAA4MAAAEtAAABkgAAAYoAAAPvAAABuQAAAJUAAACvAAAD2wAAAPYAAABWAAABJQAAA1wA\n",
       "AAFUAAAAyQAAAGUAAAGlAAABaQAAAYkAAACiAAAA9gAAAYcAAACkAAABHAAABpgAAAKYAAACvQAA\n",
       "AXMAAAdhAAACuQAAAigAAAI8AAAE0AAAAcYAAADgAAABaQAAAygAAAJPAAAA2wAAALIAAATjAAAC\n",
       "JgAAAOgAAAFwAAAFewAAAYYAAAETAAAA/gAAA0AAAAGuAAAA6QAAAQEAAAP/AAACfQAAATQAAAFL\n",
       "AAAD5AAAAkEAAAG6AAABsQAABL8AAAMEAAACVwAAAc0AAAMIAAACIgAAAc0AAAigAAADmwAAAnIA\n",
       "AAPBAAAIeAAAAygAAAKzAAAFsAAAAD4AAABZAAAAHQAAAD8AAAAlAAAAHAAAABgAAAAfAAAAJAAA\n",
       "ABgAAAAYAAAAGAAAACQAAAAYAAAAGAAAABkAAAAkAAAAGAAAABgAAAAZAAAAFHN0Y28AAAAAAAAA\n",
       "AQAAADAAAABidWR0YQAAAFptZXRhAAAAAAAAACFoZGxyAAAAAAAAAABtZGlyYXBwbAAAAAAAAAAA\n",
       "AAAAAC1pbHN0AAAAJal0b28AAAAdZGF0YQAAAAEAAAAATGF2ZjU4LjQ1LjEwMA==\n",
       "\">\n",
       "  Your browser does not support the video tag.\n",
       "</video>"
      ],
      "text/plain": [
       "<IPython.core.display.HTML object>"
      ]
     },
     "execution_count": 5,
     "metadata": {},
     "output_type": "execute_result"
    },
    {
     "data": {
      "image/png": "[encoded data removed]",
      "text/plain": [
       "<Figure size 432x288 with 1 Axes>"
      ]
     },
     "metadata": {},
     "output_type": "display_data"
    }
   ],
   "source": [
    "from sklearn.datasets import make_classification\n",
    "from matplotlib import cm\n",
    "from celluloid import Camera\n",
    "from IPython.display import HTML\n",
    "\n",
    "def get_support(minx, maxx):\n",
    "    support = np.linspace(minx, maxx, 100)\n",
    "    xx, yy = np.meshgrid(support, support)\n",
    "    points = np.stack((xx.flatten(), yy.flatten()), axis=1)\n",
    "    points = add_ones(points)\n",
    "    return points, xx, yy\n",
    "\n",
    "def plot_separating_plane(w, minx, maxx, points, xx, yy):\n",
    "    dist = perceptron(w, points.T)\n",
    "    dist = dist.reshape(xx.shape)\n",
    "    plt.contourf(xx, yy, dist, cmap=cm.get_cmap(\"RdBu\"))\n",
    "    plt.plot(0, 0, 'rx')\n",
    "    plt.axis('scaled')\n",
    "    plt.xlim(minx, maxx)\n",
    "\n",
    "\n",
    "def perceptron(w, xi):\n",
    "    return np.maximum(np.sign(np.dot(w, xi)), 0)\n",
    "\n",
    "\n",
    "def add_ones(X):\n",
    "    bias = np.ones((X.shape[0], 1))\n",
    "    X = np.hstack((X, bias))\n",
    "    return X\n",
    "\n",
    "def done(w, X):\n",
    "    return np.all(y == perceptron(w, X.T))\n",
    "\n",
    "\n",
    "def plot_classification(theta_curr, minx, maxx, support, xx, yy, X):\n",
    "    plot_separating_plane(theta_curr, minx, maxx, support, xx, yy)\n",
    "    plt.scatter(X[:, 0], X[:, 1], s=80,c=y,\n",
    "            facecolors=\"none\",\n",
    "            zorder=10,\n",
    "            edgecolors=\"k\",\n",
    "            cmap=cm.get_cmap(\"RdBu\"))\n",
    "\n",
    "### CAMERA ##########\n",
    "fig = plt.figure()\n",
    "camera = Camera(fig)\n",
    "\n",
    "################## DATA #####################\n",
    "X, y = make_classification(\n",
    "    n_features=2, n_redundant=0, n_informative=2, \n",
    "    n_clusters_per_class=1, \n",
    "    random_state=0, class_sep=2.8)\n",
    "minx, maxx = X.min(), X.max()\n",
    "support, xx, yy = get_support(minx, maxx)\n",
    "X = add_ones(X)\n",
    "############### PARAMS ########################\n",
    "theta_curr = np.array([[-1, -2, 0]])\n",
    "gamma = 1e-2\n",
    "i = 0\n",
    "text_kwargs = dict(ha='center', va='center', fontsize=10, color='C1')\n",
    "################################################\n",
    "plot_separating_plane(theta_curr, minx, maxx, support, xx, yy)\n",
    "exit = False\n",
    "# while not all are classified\n",
    "while not done(theta_curr,X) and i < 100:\n",
    "    # for all points\n",
    "    for xi, yi in zip(X, y):\n",
    "        prediction = perceptron(theta_curr, xi)\n",
    "        # if prediction is wrong, update\n",
    "        if prediction != yi:\n",
    "            diff = yi - perceptron(theta_curr, xi)\n",
    "            theta_curr = theta_curr + gamma * diff * xi\n",
    "            plot_classification(theta_curr, minx, maxx, support, xx, yy, X)\n",
    "            i += 1\n",
    "            plt.text(-4, 4.5, str(i), **text_kwargs)\n",
    "            camera.snap()\n",
    "# write 20 frames with the last result for memory\n",
    "for i in range(20):\n",
    "    plot_classification(theta_curr, minx, maxx, support, xx, yy, X)\n",
    "    camera.snap()\n",
    "animation = camera.animate()\n",
    "HTML(animation.to_html5_video())\n",
    "#animation.save('plane.mp4')"
   ]
  },
  {
   "cell_type": "markdown",
   "metadata": {
    "slideshow": {
     "slide_type": "subslide"
    }
   },
   "source": [
    "# SVM Idea: Hyper-plane with maximum margin (gap)"
   ]
  },
  {
   "cell_type": "markdown",
   "metadata": {
    "slideshow": {
     "slide_type": "subslide"
    }
   },
   "source": [
    "# Large Margin\n",
    "## Stay away from the data! Do not find just _an_ hyperplane (there are many infinite)\n",
    "## Find the one with maximum margin or gap!\n",
    "\n",
    "- H1 does not separate the classes. \n",
    "- H2 does, but only with a small margin. \n",
    "- H3 separates them with the maximal margin.\n",
    "<br><br>\n",
    "\n",
    "<center><img src=\"https://upload.wikimedia.org/wikipedia/commons/thumb/b/b5/Svm_separating_hyperplanes_%28SVG%29.svg/1024px-Svm_separating_hyperplanes_%28SVG%29.svg.png\" width='30%'/><center/>"
   ]
  },
  {
   "cell_type": "markdown",
   "metadata": {
    "slideshow": {
     "slide_type": "subslide"
    }
   },
   "source": [
    "# Functional Margin (wrong)\n",
    "\n",
    "Instead of using `sign`\n",
    "\n",
    "$$\n",
    "\\operatorname{sign}\\big(\\mbf{w}^T\\mbf{x}_i + b\\big) > 0\n",
    "$$\n",
    "\n",
    "$$\\operatorname{sign}(z)= \\begin{cases} +1, & \\mbox{if } z\\ge0 \\\\ \n",
    "-1, & \\mbox{if } z<0\\end{cases}$$\n",
    "\n",
    "let's consider the distance as:\n",
    "\n",
    "We want:\n",
    "\n",
    "$$ \\begin{cases}\n",
    "\\mbf{w}^T\\mbf{x} + b > 0 \\quad y=+1\\\\\n",
    "\\mbf{w}^T\\mbf{x} + b < 0 \\quad y=-1\\\\\n",
    "\\end{cases} $$"
   ]
  },
  {
   "cell_type": "markdown",
   "metadata": {
    "slideshow": {
     "slide_type": "subslide"
    }
   },
   "source": [
    "# Functional Margin (wrong)\n",
    "\n",
    "Instead of using `sign`:\n",
    "\n",
    "$$\n",
    "\\operatorname{sign}\\big(\\mbf{w}^T\\mbf{x}_i + b\\big) > 0\n",
    "$$\n",
    "\n",
    "$$\\operatorname{sign}(z)= \\begin{cases} +1, & \\mbox{if } z\\ge0 \\\\ \n",
    "-1, & \\mbox{if } z<0\\end{cases}$$\n",
    "\n",
    "let's consider the distance as:\n",
    "\n",
    "We want:\n",
    "\n",
    "$$ y\\big(\\mbf{w}^T\\mbf{x} + b \\big)> 0$$\n",
    "\n",
    "- Idea multiply by $\\vert y \\vert$ so that the distance $\\mbf{w}^T\\mbf{x} + b$ is kept since $\\vert y \\vert=1$ \n",
    "- use the $\\operatorname{sign}(y)$ to rectify the sign to always positive\n",
    "- The above equation means that we are always **correct both with positive and negative example** (this is that we want when learning)"
   ]
  },
  {
   "cell_type": "markdown",
   "metadata": {
    "slideshow": {
     "slide_type": "subslide"
    }
   },
   "source": [
    "# Maximizing the Functional Margin (wrong)\n",
    "\n",
    "Not only higher than zero but better at least distant $\\gamma$, which is the gap or **margin**\n",
    "\n",
    "$$ y\\big(\\mbf{w}^T\\mbf{x} + b \\big) \\gg 0$$"
   ]
  },
  {
   "cell_type": "markdown",
   "metadata": {
    "slideshow": {
     "slide_type": "subslide"
    }
   },
   "source": [
    "# Maximizing the Functional Margin (wrong)\n",
    "\n",
    "Not only higher than zero but better at least distant $\\gamma$, which is the gap or **margin**\n",
    "\n",
    "$$ y\\big(\\mbf{w}^T\\mbf{x} + b \\big) \\ge \\gamma$$"
   ]
  },
  {
   "cell_type": "markdown",
   "metadata": {
    "slideshow": {
     "slide_type": "subslide"
    }
   },
   "source": [
    "# We can fool the Functional Margin (wrong)\n",
    "\n",
    "<ins>Without changing the separating hyperplane</ins>, we can increase the margin as we want assuming $\\alpha>0$: \n",
    "    \n",
    "$$ y\\big(\\mbf{w}^T\\mbf{x} + b \\big) \\gg y\\big(\\alpha\\mbf{w}^T\\mbf{x} + \\alpha b \\big)$$\n",
    "\n",
    "For example $\\alpha=2$, we can increase the functional margin by setting $\\mbf{w}\\leftarrow 2\\mbf{w}$ and $b \\leftarrow {2b}$."
   ]
  },
  {
   "attachments": {
    "Screen%20Shot%202022-04-27%20at%2015.47.40.png": {
     "image/png": "[encoded data removed]"
    }
   },
   "cell_type": "markdown",
   "metadata": {
    "slideshow": {
     "slide_type": "subslide"
    }
   },
   "source": [
    "# Geometric Margin\n",
    "\n",
    "\n",
    "![Screen%20Shot%202022-04-27%20at%2015.47.40.png](attachment:Screen%20Shot%202022-04-27%20at%2015.47.40.png)\n"
   ]
  },
  {
   "cell_type": "code",
   "execution_count": 6,
   "metadata": {
    "cell_style": "split",
    "hide_input": false,
    "slideshow": {
     "slide_type": "subslide"
    }
   },
   "outputs": [
    {
     "data": {
      "image/png": "[encoded data removed]",
      "text/plain": [
       "<Figure size 432x288 with 2 Axes>"
      ]
     },
     "metadata": {},
     "output_type": "display_data"
    }
   ],
   "source": [
    "w0, w1, alpha = 1,2,4\n",
    "support = np.linspace(-10,10,100)\n",
    "xx,yy = np.meshgrid(support,support)\n",
    "w = np.array([w0,w1])*alpha\n",
    "dim = xx.shape\n",
    "points = np.stack((xx.flatten(), yy.flatten()),axis=1)\n",
    "dist = np.dot(w,points.T)\n",
    "dist = dist.reshape(dim)\n",
    "plt.contourf(xx,yy,dist,levels=200,cmap='jet');\n",
    "plt.plot(-w1*support,w0*support,'b--')\n",
    "plt.plot(0,0,'rx')\n",
    "plt.axis('scaled');\n",
    "plt.colorbar();\n",
    "plt.xlim(-10,10);\n",
    "plt.clim(-32,32)"
   ]
  },
  {
   "cell_type": "code",
   "execution_count": 7,
   "metadata": {
    "cell_style": "split",
    "hide_input": false,
    "slideshow": {
     "slide_type": "fragment"
    }
   },
   "outputs": [
    {
     "data": {
      "image/png": "[encoded data removed]",
      "text/plain": [
       "<Figure size 432x288 with 2 Axes>"
      ]
     },
     "metadata": {},
     "output_type": "display_data"
    }
   ],
   "source": [
    "w0, w1 = 1,2\n",
    "support = np.linspace(-10,10,100)\n",
    "xx,yy = np.meshgrid(support,support)\n",
    "w = np.array([w0,w1])\n",
    "dim = xx.shape\n",
    "points = np.stack((xx.flatten(), yy.flatten()),axis=1)\n",
    "dist = np.sign(np.dot(w,points.T))\n",
    "dist = dist.reshape(dim)\n",
    "plt.contourf(xx,yy,dist,cmap='jet');\n",
    "plt.plot(-w1*support,w0*support)\n",
    "plt.plot(0,0,'rx')\n",
    "plt.axis('scaled');\n",
    "plt.colorbar();\n",
    "plt.xlim(-10,10);"
   ]
  },
  {
   "cell_type": "code",
   "execution_count": 8,
   "metadata": {
    "hide_input": false,
    "slideshow": {
     "slide_type": "subslide"
    }
   },
   "outputs": [
    {
     "data": {
      "image/png": "[encoded data removed]",
      "text/plain": [
       "<Figure size 432x288 with 2 Axes>"
      ]
     },
     "metadata": {},
     "output_type": "display_data"
    }
   ],
   "source": [
    "w0, w1, alpha = 1,2,100\n",
    "support = np.linspace(-10,10,100)\n",
    "xx,yy = np.meshgrid(support,support)\n",
    "w = np.array([w0,w1])*alpha\n",
    "dim = xx.shape\n",
    "points = np.stack((xx.flatten(), yy.flatten()),axis=1)\n",
    "dist = np.dot(w/np.linalg.norm(w),points.T)\n",
    "dist = dist.reshape(dim)\n",
    "plt.contourf(xx,yy,dist,levels=200,cmap='jet');\n",
    "plt.plot(-w1*support,w0*support,'b--')\n",
    "plt.plot(0,0,'rx')\n",
    "plt.axis('scaled');\n",
    "plt.colorbar();\n",
    "plt.xlim(-10,10);\n",
    "plt.clim(-16,16);"
   ]
  },
  {
   "cell_type": "markdown",
   "metadata": {
    "slideshow": {
     "slide_type": "subslide"
    }
   },
   "source": [
    "# SVM Assumption (for now): the data _is_ linearly separable"
   ]
  },
  {
   "cell_type": "markdown",
   "metadata": {
    "slideshow": {
     "slide_type": "subslide"
    }
   },
   "source": [
    "# Geometric Margin (correct)\n",
    "\n",
    "\n",
    "**Geometry:** we have to project the point on the plane\n",
    "\n",
    "<br><br>\n",
    "<center>\n",
    "    <img src='figs/svm_margin_definition.png' width='50%'>\n",
    "</center>"
   ]
  },
  {
   "cell_type": "markdown",
   "metadata": {
    "slideshow": {
     "slide_type": "subslide"
    }
   },
   "source": [
    "# Geometric Margin for Positive = Margin for Negative\n",
    "\n",
    "\n",
    "**First observation:** the maximum margin is the same on both side (positive and negative points) _this seems wrong_\n",
    "<br><br>\n",
    "<center>\n",
    "    <img src='figs/svm_margin_equal.png' width='40%'>\n",
    "</center>"
   ]
  },
  {
   "cell_type": "markdown",
   "metadata": {
    "slideshow": {
     "slide_type": "subslide"
    }
   },
   "source": [
    "# Geometric Margin for Positive = Margin for Negative\n",
    "\n",
    "\n",
    "**First observation:** Assume $\\gamma_+ \\neq \\gamma_-$, can you find a better plane?\n",
    "<br><br>\n",
    "<center>\n",
    "    <img src='figs/svm_margin_notequal.png' width='40%'>\n",
    "</center>"
   ]
  },
  {
   "cell_type": "markdown",
   "metadata": {
    "slideshow": {
     "slide_type": "subslide"
    }
   },
   "source": [
    "# Geometric Margin for Positive = Margin for Negative\n",
    "\n",
    "\n",
    "**First observation:** the maximum margin is the same on both side (positive and negative points) _this seems wrong_\n",
    "<br><br>\n",
    "<center>\n",
    "    <img src='figs/svm_margin_notequal_2.png' width='40%'>\n",
    "</center>"
   ]
  },
  {
   "cell_type": "markdown",
   "metadata": {
    "slideshow": {
     "slide_type": "subslide"
    }
   },
   "source": [
    "# Definition of Geometric Margin\n",
    "\n",
    "What do we know:\n",
    "- $\\mathbf{w}$ is perpendicular to the plane (**normal** to the plane) _why it is so?_\n",
    "- $\\mathbf{x}_p$ lies on the plane, therefore, $\\mbf{w}^T\\mbf{x}_p+b=0$ must be true.\n",
    "\n",
    "What is the margin $\\gamma$ in function of $\\mbf{x},\\mbf{w},b$?\n",
    "\n",
    "<center>\n",
    "    <img src='figs/svm_geom_marginn.png' width='40%'>\n",
    "</center>"
   ]
  },
  {
   "cell_type": "markdown",
   "metadata": {
    "slideshow": {
     "slide_type": "subslide"
    }
   },
   "source": [
    "# Definition of Geometric Margin\n",
    "\n",
    "- $\\mathbf{w}$ is perpendicular to the plane (normal to the plane)\n",
    "- $\\mathbf{x}_p$ lies on the plane, therefore, $\\mbf{w}^T\\mbf{x}_p+b=0$ must be true.\n",
    "\n",
    "$$ \\mathbf{x} - \\mathbf{x}_p = \\bmf{\\gamma} \\implies \\mathbf{x}_p = \\mathbf{x} -   \\bmf{\\gamma}$$\n",
    "\n",
    "<br><br>\n",
    "<center>\n",
    "    <img src='figs/svm_geom_marginn.png' width='40%'>\n",
    "</center>"
   ]
  },
  {
   "cell_type": "markdown",
   "metadata": {
    "slideshow": {
     "slide_type": "subslide"
    }
   },
   "source": [
    "# Definition of Geometric Margin\n",
    "\n",
    "- $\\mathbf{w}$ is perpendicular to the plane (normal to the plane) $\\implies \\bmf{\\gamma} = \\alpha\\mbf{w}$\n",
    "- $\\mathbf{x}_p$ lies on the plane, therefore, $\\mbf{w}^T\\mbf{x}_p+b=0$ must be true.\n",
    "\n",
    "$$ \\mathbf{x} - \\mathbf{x}_p = \\bmf{\\gamma} \\implies \\mathbf{x}_p = \\mathbf{x} -   \\bmf{\\gamma}$$\n",
    "\n",
    "$$ \\mbf{w}^T \\big(  \\mathbf{x} -   \\bmf{\\gamma} \\big)+b=0 \\implies \\mbf{w}^T \\big(  \\mathbf{x} -   \\bmf{\\gamma} \\big)+b=0  $$\n",
    "<br><br>\n",
    "<center>\n",
    "    <img src='figs/svm_geom_marginn.png' width='40%'>\n",
    "</center>"
   ]
  },
  {
   "cell_type": "markdown",
   "metadata": {
    "slideshow": {
     "slide_type": "subslide"
    }
   },
   "source": [
    "# Definition of Geometric Margin\n",
    "\n",
    "- $\\mathbf{w}$ is perpendicular to the plane (normal to the plane) $\\implies \\bmf{\\gamma} = \\alpha\\mbf{w}$\n",
    "- $\\mathbf{x}_p$ lies on the plane, therefore, $\\mbf{w}^T\\mbf{x}_p+b=0$ must be true.\n",
    "\n",
    "$$ \\mathbf{x} - \\mathbf{x}_p = \\bmf{\\gamma} \\implies \\mathbf{x}_p = \\mathbf{x} -   \\bmf{\\gamma}$$\n",
    "\n",
    "$$ \\mbf{w}^T \\big(  \\mathbf{x} -   \\bmf{\\gamma} \\big)+b=0 \\implies \\mbf{w}^T \\big(  \\mathbf{x} -   \\bmf{\\gamma} \\big)+b=0  $$\n",
    "\n",
    "$$ \\mbf{w}^T \\big(  \\mathbf{x} -   \\alpha\\mbf{w} \\big)+b=0   $$\n",
    "<center>\n",
    "    <img src='figs/svm_geom_marginn.png' width='40%'>\n",
    "</center>"
   ]
  },
  {
   "cell_type": "markdown",
   "metadata": {
    "slideshow": {
     "slide_type": "subslide"
    }
   },
   "source": [
    "# Definition of Geometric Margin\n",
    "\n",
    "- $\\mathbf{w}$ is perpendicular to the plane (normal to the plane) $\\implies \\bmf{\\gamma} = \\alpha\\mbf{w}$\n",
    "- $\\mathbf{x}_p$ lies on the plane, therefore, $\\mbf{w}^T\\mbf{x}_p+b=0$ must be true.\n",
    "\n",
    "$$ \\mathbf{x} - \\mathbf{x}_p = \\bmf{\\gamma} \\implies \\mathbf{x}_p = \\mathbf{x} -   \\bmf{\\gamma}$$\n",
    "\n",
    "$$ \\mbf{w}^T \\big(  \\mathbf{x} -   \\bmf{\\gamma} \\big)+b=0 \\implies \\mbf{w}^T \\big(  \\mathbf{x} -   \\bmf{\\gamma} \\big)+b=0  $$\n",
    "\n",
    "$$ \\mbf{w}^T \\big(  \\mathbf{x} -   \\alpha\\mbf{w} \\big)+b=0   $$\n",
    "\n",
    "$$ \\mbf{w}^T \\mathbf{x} -   \\alpha\\mbf{w}^T \\mbf{w} +b=0   \\qquad \\text{solve for alpha (alpha is the length of $\\gamma$)}$$\n",
    "<center>\n",
    "    <img src='figs/svm_geom_marginn.png' width='40%'>\n",
    "</center>"
   ]
  },
  {
   "cell_type": "markdown",
   "metadata": {
    "slideshow": {
     "slide_type": "subslide"
    }
   },
   "source": [
    "# Definition of Geometric Margin\n",
    "\n",
    "- $\\mathbf{w}$ is perpendicular to the plane (normal to the plane) $\\implies \\bmf{\\gamma} = \\alpha\\mbf{w}$\n",
    "- $\\mathbf{x}_p$ lies on the plane, therefore, $\\mbf{w}^T\\mbf{x}_p+b=0$ must be true.\n",
    "\n",
    "$$ \\mathbf{x} - \\mathbf{x}_p = \\bmf{\\gamma} \\implies \\mathbf{x}_p = \\mathbf{x} -   \\bmf{\\gamma}$$\n",
    "\n",
    "$$ \\mbf{w}^T \\big(  \\mathbf{x} -   \\bmf{\\gamma} \\big)+b=0 \\implies \\mbf{w}^T \\big(  \\mathbf{x} -   \\bmf{\\gamma} \\big)+b=0  $$\n",
    "\n",
    "$$ \\mbf{w}^T \\big(  \\mathbf{x} -   \\alpha\\mbf{w} \\big)+b=0   $$\n",
    "\n",
    "$$ \\mbf{w}^T \\mathbf{x} - \\alpha\\mbf{w}^T \\mbf{w} +b=0   \\qquad \\text{solve for alpha (alpha is the length of $\\gamma$)}$$\n",
    "\n",
    "$$ \\alpha = \\frac{\\mbf{w}^T \\mathbf{x}+b}{\\mbf{w}^T \\mbf{w}}$$\n",
    "\n",
    "<center>\n",
    "    <img src='figs/svm_geom_marginn.png' width='40%'>\n",
    "</center>"
   ]
  },
  {
   "cell_type": "markdown",
   "metadata": {
    "slideshow": {
     "slide_type": "subslide"
    }
   },
   "source": [
    "# Definition of Geometric Margin\n",
    "\n",
    "- $\\mathbf{w}$ is perpendicular to the plane (normal to the plane) $\\implies \\bmf{\\gamma} = \\alpha\\mbf{w}$\n",
    "- $\\mathbf{x}_p$ lies on the plane, therefore, $\\mbf{w}^T\\mbf{x}_p+b=0$ must be true.\n",
    "\n",
    "Given that $$ \\bmf{\\gamma} = \\alpha\\mbf{w} \\implies \\bmf{\\gamma} =  \\Big(\\frac{\\mbf{w}^T \\mathbf{x}+b}{\\mbf{w}^T \\mbf{w}} \\Big) \\mbf{w}$$\n",
    "\n",
    "<br><br>\n",
    "<center>\n",
    "    <img src='figs/svm_geom_marginn.png' width='40%'>\n",
    "</center>"
   ]
  },
  {
   "cell_type": "markdown",
   "metadata": {
    "slideshow": {
     "slide_type": "subslide"
    }
   },
   "source": [
    "# Definition of Geometric Margin\n",
    "\n",
    "- $\\mathbf{w}$ is perpendicular to the plane (normal to the plane) $\\implies \\bmf{\\gamma} = \\alpha\\mbf{w}$\n",
    "- $\\mathbf{x}_p$ lies on the plane, therefore, $\\mbf{w}^T\\mbf{x}_p+b=0$ must be true.\n",
    "\n",
    "Given that $$ \\bmf{\\gamma} = \\alpha\\mbf{w} \\implies \\bmf{\\gamma} =  \\Big(\\frac{\\mbf{w}^T \\mathbf{x}+b}{\\mbf{w}^T \\mbf{w}} \\Big) \\mbf{w}$$\n",
    "\n",
    "What is the norm of $\\bmf{\\gamma}$ aka $\\vert\\vert \\bmf{\\gamma} \\vert\\vert_2$?\n",
    "\n",
    "$$ \\vert\\vert \\bmf{\\gamma} \\vert\\vert_2 = \\left|\\left|\\Big(\\frac{\\mbf{w}^T \\mathbf{x}+b}{\\mbf{w}^T \\mbf{w}} \\Big) \\mbf{w}\\right|\\right|_2 = \\frac{\\mbf{w}^T \\mathbf{x}+b}{\\mbf{w}^T \\mbf{w}} \\left|\\left| \\mbf{w} \\right|\\right|_2$$ \n",
    "\n",
    "<center>\n",
    "    <img src='figs/svm_geom_marginn.png' width='40%'>\n",
    "</center>"
   ]
  },
  {
   "cell_type": "markdown",
   "metadata": {
    "slideshow": {
     "slide_type": "subslide"
    }
   },
   "source": [
    "# Definition of Geometric Margin\n",
    "\n",
    "- $\\mathbf{w}$ is perpendicular to the plane (normal to the plane) $\\implies \\bmf{\\gamma} = \\alpha\\mbf{w}$\n",
    "- $\\mathbf{x}_p$ lies on the plane, therefore, $\\mbf{w}^T\\mbf{x}_p+b=0$ must be true.\n",
    "\n",
    "Given that $$ \\bmf{\\gamma} = \\alpha\\mbf{w} \\implies \\bmf{\\gamma} =  \\Big(\\frac{\\mbf{w}^T \\mathbf{x}+b}{\\mbf{w}^T \\mbf{w}} \\Big) \\mbf{w}$$\n",
    "\n",
    "What is the norm of $\\bmf{\\gamma}$ aka $\\vert\\vert \\bmf{\\gamma} \\vert\\vert_2$?\n",
    "\n",
    "$$ \\vert\\vert \\bmf{\\gamma} \\vert\\vert_2 = \\left|\\left|\\Big(\\frac{\\mbf{w}^T \\mathbf{x}+b}{\\mbf{w}^T \\mbf{w}} \\Big) \\mbf{w}\\right|\\right|_2 = \\frac{\\mbf{w}^T \\mathbf{x}+b}{\\mbf{w}^T \\mbf{w}} \\left|\\left| \\mbf{w} \\right|\\right|_2 = \\frac{\\mbf{w}^T \\mathbf{x}+b}{\\sqrt{\\mbf{w}^T\\mbf{w}}} $$ \n",
    "<center>\n",
    "    <img src='figs/svm_geom_marginn.png' width='40%'>\n",
    "</center>"
   ]
  },
  {
   "cell_type": "markdown",
   "metadata": {
    "slideshow": {
     "slide_type": "subslide"
    }
   },
   "source": [
    "# Definition of Geometric Margin\n",
    "\n",
    "- $\\mathbf{w}$ is perpendicular to the plane (normal to the plane) $\\implies \\bmf{\\gamma} = \\alpha\\mbf{w}$\n",
    "- $\\mathbf{x}_p$ lies on the plane, therefore, $\\mbf{w}^T\\mbf{x}_p+b=0$ must be true.\n",
    "\n",
    "Given that $$ \\bmf{\\gamma} = \\alpha\\mbf{w} \\implies \\bmf{\\gamma} =  \\Big(\\frac{\\mbf{w}^T \\mathbf{x}+b}{\\mbf{w}^T \\mbf{w}} \\Big) \\mbf{w}$$\n",
    "\n",
    "What is the norm of $\\bmf{\\gamma}$ aka $\\vert\\vert \\bmf{\\gamma} \\vert\\vert_2$?\n",
    "\n",
    "$$ \\vert\\vert \\bmf{\\gamma} \\vert\\vert_2 = \\left|\\left|\\Big(\\frac{\\mbf{w}^T \\mathbf{x}+b}{\\mbf{w}^T \\mbf{w}} \\Big) \\mbf{w}\\right|\\right|_2 = \\frac{\\mbf{w}^T \\mathbf{x}+b}{\\mbf{w}^T \\mbf{w}} \\left|\\left| \\mbf{w} \\right|\\right|_2 = \\frac{\\mbf{w}^T \\mathbf{x}+b}{\\mbf{w}^T \\mbf{w}} \\sqrt{\\mbf{w}^T\\mbf{w}}$$ \n",
    "\n",
    "<br><br>\n",
    "<center>\n",
    "    <img src='figs/svm_geom_marginn.png' width='40%'>\n",
    "</center>"
   ]
  },
  {
   "cell_type": "markdown",
   "metadata": {
    "slideshow": {
     "slide_type": "subslide"
    }
   },
   "source": [
    "# Definition of Geometric Margin\n",
    "\n",
    "- $\\mathbf{w}$ is perpendicular to the plane (normal to the plane) $\\implies \\bmf{\\gamma} = \\alpha\\mbf{w}$\n",
    "- $\\mathbf{x}_p$ lies on the plane, therefore, $\\mbf{w}^T\\mbf{x}_p+b=0$ must be true.\n",
    "\n",
    "Given that $$ \\bmf{\\gamma} = \\alpha\\mbf{w} \\implies \\bmf{\\gamma} =  \\Big(\\frac{\\mbf{w}^T \\mathbf{x}+b}{\\mbf{w}^T \\mbf{w}} \\Big) \\mbf{w}$$\n",
    "\n",
    "What is the norm of $\\bmf{\\gamma}$ aka $\\vert\\vert \\bmf{\\gamma} \\vert\\vert_2$?\n",
    "\n",
    "$$ \\vert\\vert \\bmf{\\gamma} \\vert\\vert_2 =  \\frac{\\mbf{w}^T \\mathbf{x}+b}{\\mbf{w}^T \\mbf{w}} \\left|\\left| \\mbf{w} \\right|\\right|_2 = \\frac{\\mbf{w}^T \\mathbf{x}+b}{\\vert\\vert\\mbf{w} \\vert\\vert_2} $$ \n",
    "<center>\n",
    "    <img src='figs/svm_geom_marginn.png' width='40%'>\n",
    "</center>"
   ]
  },
  {
   "cell_type": "markdown",
   "metadata": {
    "slideshow": {
     "slide_type": "subslide"
    }
   },
   "source": [
    "# SVM considers the _smallest_ margin...\n",
    "\n",
    "The smallest margin among the training points: $\\mathbf{D}=\\{\\mbf{x}_i,y_i\\}_{i=1}^N$:\n",
    "\n",
    "$$  \\gamma_{\\text{min}} \\doteq \\gamma(\\mbf{w},b;\\mbf{x}) = \\min_{\\mbf{x}\\in \\mathbf{D}} \\frac{\\mbf{w}^T \\mathbf{x}+b}{\\vert\\vert\\mbf{w} \\vert\\vert_2} $$ \n",
    "\n",
    "<br>\n",
    "<center>\n",
    "    <img src='figs/svm_margin_definition.png' width='50%'>\n",
    "</center>"
   ]
  },
  {
   "cell_type": "markdown",
   "metadata": {
    "slideshow": {
     "slide_type": "subslide"
    }
   },
   "source": [
    "# SVM considers the _smallest_ margin and makes it large (max)\n",
    "\n",
    "$$ \\max_{\\mbf{w},b} \\left( \\min_{\\mbf{x}\\in \\mathbf{D}} \\frac{\\mbf{w}^T \\mathbf{x}+b}{\\vert\\vert\\mbf{w} \\vert\\vert_2}   \\right) = \\max_{\\mbf{w},b} \\gamma_{\\text{min}}$$\n",
    "\n",
    "**Are we done with this?**\n",
    "\n",
    "<br><br>\n",
    "<center>\n",
    "    <img src='figs/svm_margin_definition.png' width='30%'>\n",
    "</center>"
   ]
  },
  {
   "cell_type": "markdown",
   "metadata": {
    "slideshow": {
     "slide_type": "subslide"
    }
   },
   "source": [
    "# SVM considers the _smallest_ margin and makes it large (max)\n",
    "\n",
    "$$ \\max_{\\mbf{w},b} \\left( \\min_{\\mbf{x}\\in \\mathbf{D}} \\frac{\\mbf{w}^T \\mathbf{x}+b}{\\vert\\vert\\mbf{w} \\vert\\vert_2}   \\right) = \\max_{\\mbf{w},b} \\gamma_{\\text{min}}$$\n",
    "\n",
    "**Are we done with this? NO!**\n",
    "\n",
    "<br><br>\n",
    "<center>\n",
    "    <img src='figs/svm_geom_margin_no_constraints.png' width='30%'>\n",
    "</center>"
   ]
  },
  {
   "cell_type": "markdown",
   "metadata": {
    "slideshow": {
     "slide_type": "skip"
    }
   },
   "source": [
    "# SVM maximum smallest margin to classify!\n",
    "\n",
    "$$ \\max_{\\mbf{w},b} \\left( \\underbrace{\\min_{\\mbf{x}\\in \\mathbf{D}} \\frac{\\left|\\mbf{w}^T \\mathbf{x}+b\\right|}{\\vert\\vert\\mbf{w} \\vert\\vert_2}   }_{\\gamma_{\\text{min}}}\\right)$$\n",
    "<br><br>\n",
    "$$\\forall i \\qquad  y_i \\big( \\mbf{w}^T \\mathbf{x}_i+b \\big) \\ge \\gamma_{\\text{min}}$$\n",
    "<br><br>\n",
    "<center>\n",
    "    <img src='figs/svm_geom_margin_classify.png' width='30%'>\n",
    "</center>"
   ]
  },
  {
   "cell_type": "markdown",
   "metadata": {
    "slideshow": {
     "slide_type": "subslide"
    }
   },
   "source": [
    "# The hyper-plane $\\mbf{w}$ is scale-invariant\n",
    "\n",
    "It means that we can rescale the $\\mbf{w}$ in the way we want $\\mbf{w} \\leftarrow \\kappa \\mbf{w}$, $\\mbf{b} \\leftarrow \\kappa \\mbf{b}$.\n",
    "\n",
    "So we can use this property to set the margin as we want dividing by $\\vert\\vert \\mbf{w} \\vert \\vert$.\n",
    "\n",
    "We have the freedom to rescale the hyper-plane.\n",
    "Given that the hyper-plane $\\mbf{w}$ is scale invariant we can set: $y_{\\text{min}}\\left(\\mbf{w}^T \\mathbf{x}_{\\text{min}}+b \\right)=1$ or in other words **the value of the margin we set does not matter.**\n",
    "\n",
    "$$ \\max_{\\mbf{w},b} \\left( \\underbrace{\\min_{\\mbf{x}\\in \\mathbf{D}} \\frac{\\left|\\mbf{w}^T \\mathbf{x}+b\\right|}{\\vert\\vert\\mbf{w} \\vert\\vert_2}   }_{\\gamma_{\\text{min}}}\\right)$$\n",
    "<br>\n",
    "$$\\forall i \\qquad  y_i \\big( \\mbf{w}^T \\mathbf{x}_i+b \\big) \\ge 1$$\n",
    "<br>\n",
    "<center>\n",
    "    <img src='figs/svm_geom_margin_classify.png' width='30%'>\n",
    "</center>"
   ]
  },
  {
   "cell_type": "markdown",
   "metadata": {
    "slideshow": {
     "slide_type": "subslide"
    }
   },
   "source": [
    "# The hyper-plane $\\mbf{w}$ is scale-invariant\n",
    "\n",
    "It means that we can rescale the $\\mbf{w}$ in the way we want $\\mbf{w} \\leftarrow \\kappa \\mbf{w}$, $\\mbf{b} \\leftarrow \\kappa \\mbf{b}$.\n",
    "\n",
    "So we can use this property to set the margin as we want dividing by manipulating $\\vert\\vert \\mbf{w} \\vert \\vert$.\n",
    "\n",
    "We have the freedom to rescale the hyper-plane.\n",
    "\n",
    "Given that the hyper-plane $\\mbf{w}$ is scale invariant we can set: $y_{\\text{min}}\\left(\\mbf{w}^T \\mathbf{x}_{\\text{min}}+b \\right)=1 \\implies \\left|\\mbf{w}^T \\mathbf{x}+b\\right|=1 $ so thankfully the inside min is removed.\n",
    "\n",
    "\n",
    "$$ \\max_{\\mbf{w},b} \\frac{1}{\\vert\\vert\\mbf{w} \\vert\\vert_2}$$\n",
    "<br><br>\n",
    "$$\\forall i \\qquad  y_i \\big( \\mbf{w}^T \\mathbf{x}_i+b \\big) \\ge 1$$\n",
    "<br><br>\n",
    "<center>\n",
    "    <img src='figs/svm_margin_bishop.png' width='30%'>\n",
    "</center>"
   ]
  },
  {
   "cell_type": "markdown",
   "metadata": {
    "slideshow": {
     "slide_type": "subslide"
    }
   },
   "source": [
    "# Final Formulation\n",
    "\n",
    "$$ \\min_{\\mbf{w},b}\\vert\\vert\\mbf{w} \\vert\\vert_2^2$$\n",
    "<br><br>\n",
    "$$\\forall i \\qquad  y_i \\big( \\mbf{w}^T \\mathbf{x}_i+b \\big) \\ge 1$$\n",
    "<br><br>\n",
    "\n",
    "- Optimize it with **[Quadratic Programming with Linear Constraints](https://en.wikipedia.org/wiki/Quadratic_programming)**\n",
    "\n",
    "- if the data is separable, there will exist an **unique and optimal solutions.**\n",
    "\n",
    "<center>\n",
    "    <img src='figs/svm_margin_bishop.png' width='30%'>\n",
    "</center>"
   ]
  },
  {
   "cell_type": "markdown",
   "metadata": {
    "slideshow": {
     "slide_type": "subslide"
    }
   },
   "source": [
    "# Question\n",
    "\n",
    "How wide is the gap between the blue planes?\n",
    "\n",
    "\n",
    "\n",
    "<center>\n",
    "    <img src='figs/svm_margin_bishop.png' width='30%'>\n",
    "</center>\n",
    "\n"
   ]
  },
  {
   "cell_type": "markdown",
   "metadata": {
    "slideshow": {
     "slide_type": "subslide"
    }
   },
   "source": [
    "# Question\n",
    "\n",
    "How wide is the gap between the blue planes?\n",
    "\n",
    "$$\\gamma_{min}= \\frac{\\vert \\mbf{w}^T \\mathbf{x}+b\\vert }{\\vert\\vert\\mbf{w} \\vert\\vert_2} \\quad \\text{but} \\quad \\vert \\mbf{w}^T \\mathbf{x}+b\\vert=1$$.\n",
    "\n",
    "$$\\operatorname{full-gap} =  2\\gamma_{min} = \\frac{2}{\\vert\\vert\\mbf{w} \\vert\\vert_2}$$\n",
    "\n",
    "<center>\n",
    "    <img src='figs/svm_margin_bishop.png' width='30%'>\n",
    "</center>\n",
    "\n"
   ]
  },
  {
   "attachments": {
    "immagine.png": {
     "image/png": "[encoded data removed]"
    }
   },
   "cell_type": "markdown",
   "metadata": {
    "slideshow": {
     "slide_type": "subslide"
    }
   },
   "source": [
    "# Why the name Support Vector Machine?\n",
    "\n",
    "\n",
    "\n",
    "The points for which $$y\\left(\\mbf{w}^T\\mbf{x} + b \\right) = 1$$ are called **support vectors** and are those more difficult to classify.\n",
    "\n",
    "The support vectors are indicated below with a circle.\n",
    "\n",
    "- Will the hyper-plane change \n",
    "if I change the support vector? \n",
    "- What about the other points non support vectors?\n",
    "\n",
    "![immagine.png](attachment:immagine.png)"
   ]
  },
  {
   "cell_type": "markdown",
   "metadata": {
    "slideshow": {
     "slide_type": "subslide"
    }
   },
   "source": [
    "# Test Time\n",
    "\n",
    "\n",
    "\n",
    "<center>\n",
    "    <img src='figs/svm-testtime.png' width='70%'>\n",
    "</center>\n"
   ]
  },
  {
   "cell_type": "markdown",
   "metadata": {
    "slideshow": {
     "slide_type": "subslide"
    }
   },
   "source": [
    "# Two more Things\n",
    "\n",
    "## 1) What if the data is non-linearly separable?\n",
    "## 2) What about Kernel methods?"
   ]
  },
  {
   "cell_type": "markdown",
   "metadata": {
    "slideshow": {
     "slide_type": "subslide"
    }
   },
   "source": [
    "# Non-linearly Separable Case [but still close to linear]\n",
    "\n",
    "**Key idea:** allow a term to ***violate a few points*** (this allows to say: \"i am not going to consider these points\")\n",
    "\n",
    "<center>\n",
    "    <img src='figs/svm_non_linearly_sep.png' width='50%'>\n",
    "</center>\n"
   ]
  },
  {
   "cell_type": "markdown",
   "metadata": {
    "slideshow": {
     "slide_type": "subslide"
    }
   },
   "source": [
    "# SVM with soft margins\n",
    "\n",
    "$\\zeta_i$ are **slack variables** for each training point.\n",
    "\n",
    "- You can exclude a point by increasing $\\zeta_i$ but.... \n",
    "- ....you pay a penalty for it in the cost.\n",
    "\n",
    "$$ \\min_{\\mbf{w},b}\\vert\\vert\\mbf{w} \\vert\\vert_2^2 + C \\sum_i^n \\zeta_i$$\n",
    "<br><br>\n",
    "$$\\forall i \\qquad  y_i \\big( \\mbf{w}^T \\mathbf{x}_i+b \\big) \\ge 1-\\zeta_i,~~~~~~ \\zeta_i \\ge 0$$\n"
   ]
  },
  {
   "cell_type": "markdown",
   "metadata": {
    "slideshow": {
     "slide_type": "subslide"
    }
   },
   "source": [
    "# SVM with soft margins: $C$ controls the trade-off\n",
    "\n",
    "- $C$ equals zero revert to previous formulation (assumes linearly separable)\n",
    "- $C$ set to a high value, we drop the idea of the margin and we 'discard' points in the training\n",
    "\n",
    "Note, this formulation may allow to 'fix' labeling errors up to some extend."
   ]
  },
  {
   "cell_type": "code",
   "execution_count": 9,
   "metadata": {
    "cell_style": "center",
    "hide_input": true,
    "slideshow": {
     "slide_type": "subslide"
    }
   },
   "outputs": [
    {
     "data": {
      "image/png": "[encoded data removed]",
      "text/plain": [
       "<Figure size 864x720 with 1 Axes>"
      ]
     },
     "metadata": {},
     "output_type": "display_data"
    },
    {
     "data": {
      "image/png": "[encoded data removed]",
      "text/plain": [
       "<Figure size 864x720 with 1 Axes>"
      ]
     },
     "metadata": {},
     "output_type": "display_data"
    }
   ],
   "source": [
    "# Code source: Gaël Varoquaux\n",
    "# Modified for documentation by Jaques Grobler\n",
    "# License: BSD 3 clause\n",
    "\n",
    "import numpy as np\n",
    "import matplotlib.pyplot as plt\n",
    "from matplotlib import cm\n",
    "from sklearn import svm\n",
    "\n",
    "# we create 40 separable points\n",
    "np.random.seed(0)\n",
    "X = np.r_[np.random.randn(20, 2) - [2, 2], np.random.randn(20, 2) + [2, 2]]\n",
    "Y = [0] * 20 + [1] * 20\n",
    "\n",
    "# figure number\n",
    "fignum = 1\n",
    "\n",
    "# fit the model\n",
    "for name, penalty in ((\"unreg\", 1), (\"reg\", 0.05)):\n",
    "\n",
    "    clf = svm.SVC(kernel=\"linear\", C=penalty)\n",
    "    clf.fit(X, Y)\n",
    "\n",
    "    # get the separating hyperplane\n",
    "    w = clf.coef_[0]\n",
    "    a = -w[0] / w[1]\n",
    "    xx = np.linspace(-5, 5)\n",
    "    yy = a * xx - (clf.intercept_[0]) / w[1]\n",
    "\n",
    "    # plot the parallels to the separating hyperplane that pass through the\n",
    "    # support vectors (margin away from hyperplane in direction\n",
    "    # perpendicular to hyperplane). This is sqrt(1+a^2) away vertically in\n",
    "    # 2-d.\n",
    "    margin = 1 / np.sqrt(np.sum(clf.coef_ ** 2))\n",
    "    yy_down = yy - np.sqrt(1 + a ** 2) * margin\n",
    "    yy_up = yy + np.sqrt(1 + a ** 2) * margin\n",
    "\n",
    "    # plot the line, the points, and the nearest vectors to the plane\n",
    "    plt.figure(fignum, figsize=(12, 10))\n",
    "    plt.clf()\n",
    "    plt.plot(xx, yy, \"k-\")\n",
    "    plt.plot(xx, yy_down, \"k--\")\n",
    "    plt.plot(xx, yy_up, \"k--\")\n",
    "\n",
    "    plt.scatter(\n",
    "        clf.support_vectors_[:, 0],\n",
    "        clf.support_vectors_[:, 1],\n",
    "        s=80,\n",
    "        facecolors=\"none\",\n",
    "        zorder=10,\n",
    "        edgecolors=\"k\",\n",
    "        cmap=cm.get_cmap(\"RdBu\"),\n",
    "    )\n",
    "    plt.scatter(\n",
    "        X[:, 0], X[:, 1], c=Y, zorder=10, cmap=cm.get_cmap(\"RdBu\"), edgecolors=\"k\"\n",
    "    )\n",
    "\n",
    "    plt.axis(\"tight\")\n",
    "    x_min = -4.8\n",
    "    x_max = 4.2\n",
    "    y_min = -6\n",
    "    y_max = 6\n",
    "\n",
    "    YY, XX = np.meshgrid(yy, xx)\n",
    "    xy = np.vstack([XX.ravel(), YY.ravel()]).T\n",
    "    Z = clf.decision_function(xy).reshape(XX.shape)\n",
    "\n",
    "    # Put the result into a contour plot\n",
    "    plt.contourf(XX, YY, Z, cmap=cm.get_cmap(\"RdBu\"), alpha=0.5, linestyles=[\"-\"])\n",
    "\n",
    "    plt.xlim(x_min, x_max)\n",
    "    plt.ylim(y_min, y_max)\n",
    "\n",
    "    plt.xticks(())\n",
    "    plt.yticks(())\n",
    "    fignum = fignum + 1\n",
    "\n",
    "plt.show()"
   ]
  },
  {
   "cell_type": "markdown",
   "metadata": {
    "slideshow": {
     "slide_type": "subslide"
    }
   },
   "source": [
    "# SVM with soft constraints and Hinge-Loss:\n",
    "\n",
    "\n",
    "\n",
    "\n",
    "$$\n",
    "\\xi_{i}=\\left\\{\\begin{array}{cl}\n",
    "1-y_{i}\\left(\\mathbf{w}^{T} \\mathbf{x}_{i}+b\\right) & \\text { if } y_{i}\\left(\\mathbf{w}^{T} \\mathbf{x}_{i}+b\\right)<1 \\\\\n",
    "0 & \\text { if } y_{i}\\left(\\mathbf{w}^{T} \\mathbf{x}_{i}+b\\right) \\geq 1\n",
    "\\end{array}\\right.\n",
    "$$\n",
    "<br><br>\n",
    "$$\n",
    "\\min _{\\mathbf{w}, b} \\underbrace{\\mathbf{w}^{T} \\mathbf{w}}_{l_{2} \\text{regularizer }}+C \\sum_{i=1}^{n} \\underbrace{\\max \\left[1-y_{i}\\left(\\mathbf{w}^{T} \\mathbf{x}+b\\right), 0\\right]}_{\\text{hinge-loss }}\n",
    "$$"
   ]
  },
  {
   "cell_type": "markdown",
   "metadata": {
    "slideshow": {
     "slide_type": "subslide"
    },
    "variables": {
     "eps = np.arange(-5,5);plt.plot(eps,np.maximum(1-eps,0));plt.xlabel('diff');plt.ylabel('Hing Loss');plt.xticks(np.arange(-5, 5, step=1));": "<img src=\"data:image/png;base64,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\n\"/>"
    }
   },
   "source": [
    "# Hinge-Loss:\n",
    "\n",
    "$$\n",
    "\\min _{\\mathbf{w}, b} \\underbrace{\\mathbf{w}^{T} \\mathbf{w}}_{l_{2} \\text{regularizer }}+C \\sum_{i=1}^{n} \\underbrace{\\max \\left[1-y_{i}\\left(\\mathbf{w}^{T} \\mathbf{x}+b\\right), 0\\right]}_{\\text{hinge-loss }}\n",
    "$$\n",
    "\n",
    "{{eps = np.arange(-5,5);plt.plot(eps,np.maximum(1-eps,0));plt.xlabel('diff');plt.ylabel('Hing Loss');plt.xticks(np.arange(-5, 5, step=1));}}"
   ]
  },
  {
   "cell_type": "code",
   "execution_count": 10,
   "metadata": {
    "slideshow": {
     "slide_type": "skip"
    }
   },
   "outputs": [
    {
     "data": {
      "image/png": "[encoded data removed]",
      "text/plain": [
       "<Figure size 432x288 with 1 Axes>"
      ]
     },
     "metadata": {},
     "output_type": "display_data"
    }
   ],
   "source": [
    "eps = np.arange(-5,5);plt.plot(eps,np.maximum(1-eps,0));plt.xlabel('diff');_=plt.ylabel('Hing Loss');\n",
    "plt.xticks(np.arange(-5, 5, step=1));"
   ]
  },
  {
   "cell_type": "markdown",
   "metadata": {
    "slideshow": {
     "slide_type": "subslide"
    }
   },
   "source": [
    "# Yes, we can Kernelized them!\n",
    "\n",
    "We'll pass on the formulation\n",
    "\n",
    "<center><img src='figs/kernel_svm.png'></center>"
   ]
  },
  {
   "cell_type": "markdown",
   "metadata": {
    "slideshow": {
     "slide_type": "subslide"
    }
   },
   "source": [
    "# Yes, we can Kernelized them!\n",
    "\n",
    "**SVM + Kernel** is a **very popular and strong algorithm!**\n",
    "\n",
    "<center>\n",
    "    <img src='https://scikit-learn.org/stable/_images/sphx_glr_plot_iris_svc_001.png' width='50%'>\n",
    "</center>\n"
   ]
  },
  {
   "cell_type": "markdown",
   "metadata": {
    "cell_style": "split",
    "slideshow": {
     "slide_type": "subslide"
    }
   },
   "source": [
    "# Advantages\n",
    "\n",
    "The advantages of support vector machines are:\n",
    "\n",
    "- Effective in high dimensional spaces.\n",
    "\n",
    "- Still effective in cases where number of dimensions is greater\n",
    "  than the number of samples.\n",
    "\n",
    "- Uses a subset of training points in the decision function (called\n",
    "  **support vectors), so it is also memory efficient**.\n",
    "\n",
    "- Versatile: different kernels can be\n",
    "  specified for the decision function. Common kernels are provided, but it is also possible to specify custom kernels."
   ]
  },
  {
   "cell_type": "markdown",
   "metadata": {
    "cell_style": "split",
    "slideshow": {
     "slide_type": "subslide"
    }
   },
   "source": [
    "# Disadvantages\n",
    "\n",
    "The disadvantages of support vector machines include:\n",
    "\n",
    "- If the number of features is much greater than the number of\n",
    "  samples, avoid over-fitting in choosing `svm_kernels` and regularization\n",
    "  term is crucial.\n",
    "\n",
    "- SVMs do not directly provide probability estimates, these are\n",
    "  calculated using an expensive five-fold cross-validation"
   ]
  }
 ],
 "metadata": {
  "celltoolbar": "Slideshow",
  "kernelspec": {
   "display_name": "Python 3 (ipykernel)",
   "language": "python",
   "name": "python3"
  },
  "language_info": {
   "codemirror_mode": {
    "name": "ipython",
    "version": 3
   },
   "file_extension": ".py",
   "mimetype": "text/x-python",
   "name": "python",
   "nbconvert_exporter": "python",
   "pygments_lexer": "ipython3",
   "version": "3.8.13"
  },
  "latex_envs": {
   "LaTeX_envs_menu_present": true,
   "autoclose": false,
   "autocomplete": false,
   "bibliofile": "biblio.bib",
   "cite_by": "key",
   "current_citInitial": 1,
   "eqLabelWithNumbers": true,
   "eqNumInitial": 1,
   "hotkeys": {
    "equation": "Ctrl-E",
    "itemize": "Ctrl-I"
   },
   "labels_anchors": false,
   "latex_user_defs": false,
   "report_style_numbering": false,
   "user_envs_cfg": false
  },
  "rise": {
   "autolaunch": true,
   "overlay": "<div class='myheader'>Artificial Intelligence and Machine Learning - Unit II<img src='../sapienza_logo.png'/></div>",
   "transition": "linear"
  },
  "toc": {
   "base_numbering": 1,
   "nav_menu": {},
   "number_sections": true,
   "sideBar": true,
   "skip_h1_title": false,
   "title_cell": "Table of Contents",
   "title_sidebar": "Summary",
   "toc_cell": false,
   "toc_position": {
    "height": "47px",
    "left": "1143px",
    "top": "173px",
    "width": "210.344px"
   },
   "toc_section_display": false,
   "toc_window_display": false
  },
  "varInspector": {
   "cols": {
    "lenName": 16,
    "lenType": 16,
    "lenVar": 40
   },
   "kernels_config": {
    "python": {
     "delete_cmd_postfix": "",
     "delete_cmd_prefix": "del ",
     "library": "var_list.py",
     "varRefreshCmd": "print(var_dic_list())"
    },
    "r": {
     "delete_cmd_postfix": ") ",
     "delete_cmd_prefix": "rm(",
     "library": "var_list.r",
     "varRefreshCmd": "cat(var_dic_list()) "
    }
   },
   "types_to_exclude": [
    "module",
    "function",
    "builtin_function_or_method",
    "instance",
    "_Feature"
   ],
   "window_display": false
  }
 },
 "nbformat": 4,
 "nbformat_minor": 4
}
